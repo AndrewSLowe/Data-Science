{
  "nbformat": 4,
  "nbformat_minor": 0,
  "metadata": {
    "colab": {
      "name": "cluster_random_user_med_cab.ipynb",
      "provenance": []
    },
    "kernelspec": {
      "name": "python3",
      "display_name": "Python 3"
    }
  },
  "cells": [
    {
      "cell_type": "code",
      "metadata": {
        "id": "mNJSwDQou24k",
        "colab_type": "code",
        "colab": {}
      },
      "source": [
        "import pandas as pd\n",
        "import matplotlib.pyplot as plt\n",
        "from sklearn.datasets.samples_generator import make_blobs\n",
        "\n",
        "# Create dataframe of x, y and label values\n",
        "X, y = make_blobs(n_samples=100, centers=3, n_features=2)\n",
        "df = pd.DataFrame(dict(x=X[:,0], y=X[:,1], label=y))\n",
        "\n",
        "# Create scatterplot with coloring based on assigned labels\n",
        "colors = {0:'red', 1:'blue', 2:'green'}\n",
        "fig, ax = plt.subplots()\n",
        "grouped = df.groupby('label')\n",
        "for key, group in grouped:\n",
        "    group.plot(ax=ax, kind='scatter', x='x', y='y', label=key, color=colors[key])\n",
        "plt.show()     "
      ],
      "execution_count": 0,
      "outputs": []
    },
    {
      "cell_type": "code",
      "metadata": {
        "id": "58N0xlGOuWv6",
        "colab_type": "code",
        "outputId": "09675526-5076-4a03-e594-c88acd7e372d",
        "colab": {
          "resources": {
            "http://localhost:8080/nbextensions/google.colab/files.js": {
              "data": "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",
              "ok": true,
              "headers": [
                [
                  "content-type",
                  "application/javascript"
                ]
              ],
              "status": 200,
              "status_text": ""
            }
          },
          "base_uri": "https://localhost:8080/",
          "height": 74
        }
      },
      "source": [
        "# Loading in file from local machine\n",
        "from google.colab import files\n",
        "uploaded = files.upload()"
      ],
      "execution_count": 0,
      "outputs": [
        {
          "output_type": "display_data",
          "data": {
            "text/html": [
              "\n",
              "     <input type=\"file\" id=\"files-9bc29744-9ea2-4ff6-9fae-2263c8b0b885\" name=\"files[]\" multiple disabled />\n",
              "     <output id=\"result-9bc29744-9ea2-4ff6-9fae-2263c8b0b885\">\n",
              "      Upload widget is only available when the cell has been executed in the\n",
              "      current browser session. Please rerun this cell to enable.\n",
              "      </output>\n",
              "      <script src=\"/nbextensions/google.colab/files.js\"></script> "
            ],
            "text/plain": [
              "<IPython.core.display.HTML object>"
            ]
          },
          "metadata": {
            "tags": []
          }
        },
        {
          "output_type": "stream",
          "text": [
            "Saving strain_data.csv to strain_data.csv\n"
          ],
          "name": "stdout"
        }
      ]
    },
    {
      "cell_type": "code",
      "metadata": {
        "id": "Nq5nFurWuh76",
        "colab_type": "code",
        "colab": {}
      },
      "source": [
        "import pandas as pd\n",
        "df = pd.read_csv('strain_data.csv')"
      ],
      "execution_count": 0,
      "outputs": []
    },
    {
      "cell_type": "code",
      "metadata": {
        "id": "uziGn80MupRy",
        "colab_type": "code",
        "outputId": "d5d8aacb-c4fc-41d2-9441-b823e8b12f7a",
        "colab": {
          "base_uri": "https://localhost:8080/",
          "height": 204
        }
      },
      "source": [
        "df.head()"
      ],
      "execution_count": 0,
      "outputs": [
        {
          "output_type": "execute_result",
          "data": {
            "text/html": [
              "<div>\n",
              "<style scoped>\n",
              "    .dataframe tbody tr th:only-of-type {\n",
              "        vertical-align: middle;\n",
              "    }\n",
              "\n",
              "    .dataframe tbody tr th {\n",
              "        vertical-align: top;\n",
              "    }\n",
              "\n",
              "    .dataframe thead th {\n",
              "        text-align: right;\n",
              "    }\n",
              "</style>\n",
              "<table border=\"1\" class=\"dataframe\">\n",
              "  <thead>\n",
              "    <tr style=\"text-align: right;\">\n",
              "      <th></th>\n",
              "      <th>Id</th>\n",
              "      <th>Strain</th>\n",
              "      <th>Race</th>\n",
              "      <th>Flavors</th>\n",
              "      <th>Positive</th>\n",
              "      <th>Negative</th>\n",
              "      <th>Medical</th>\n",
              "      <th>Rating</th>\n",
              "      <th>Description</th>\n",
              "    </tr>\n",
              "  </thead>\n",
              "  <tbody>\n",
              "    <tr>\n",
              "      <th>0</th>\n",
              "      <td>0</td>\n",
              "      <td>100 Og</td>\n",
              "      <td>hybrid</td>\n",
              "      <td>Earthy, Sweet, Citrus</td>\n",
              "      <td>Creative, Energetic, Tingly, Euphoric, Relaxed</td>\n",
              "      <td>Dizzy, Dry Mouth, Paranoid, Anxious</td>\n",
              "      <td>Depression, Stress, Fatigue</td>\n",
              "      <td>4.0</td>\n",
              "      <td>$100 OG is a 50/50 hybrid strain that packs a ...</td>\n",
              "    </tr>\n",
              "    <tr>\n",
              "      <th>1</th>\n",
              "      <td>1</td>\n",
              "      <td>1024</td>\n",
              "      <td>sativa</td>\n",
              "      <td>Spicy/Herbal, Sage, Woody</td>\n",
              "      <td>Uplifted, Happy, Relaxed, Energetic, Creative</td>\n",
              "      <td>Dizzy, Dry Mouth, Paranoid, Anxious</td>\n",
              "      <td>Depression, Stress, Fatigue</td>\n",
              "      <td>4.4</td>\n",
              "      <td>1024 is a sativa-dominant hybrid bred in Spain...</td>\n",
              "    </tr>\n",
              "    <tr>\n",
              "      <th>2</th>\n",
              "      <td>2</td>\n",
              "      <td>13 Dawgs</td>\n",
              "      <td>hybrid</td>\n",
              "      <td>Apricot, Citrus, Grapefruit</td>\n",
              "      <td>Tingly, Creative, Hungry, Relaxed, Uplifted</td>\n",
              "      <td>Dizzy, Dry Mouth, Paranoid, Anxious</td>\n",
              "      <td>Depression, Stress, Fatigue</td>\n",
              "      <td>4.2</td>\n",
              "      <td>13 Dawgs is a hybrid of G13 and Chemdawg genet...</td>\n",
              "    </tr>\n",
              "    <tr>\n",
              "      <th>3</th>\n",
              "      <td>3</td>\n",
              "      <td>24K Gold</td>\n",
              "      <td>hybrid</td>\n",
              "      <td>Citrus, Earthy, Orange</td>\n",
              "      <td>Happy, Relaxed, Euphoric, Uplifted, Talkative</td>\n",
              "      <td>Dizzy, Dry Mouth, Paranoid, Anxious</td>\n",
              "      <td>Depression, Stress, Fatigue</td>\n",
              "      <td>4.6</td>\n",
              "      <td>Also known as Kosher Tangie, 24k Gold is a 60%...</td>\n",
              "    </tr>\n",
              "    <tr>\n",
              "      <th>4</th>\n",
              "      <td>4</td>\n",
              "      <td>3 Bears Og</td>\n",
              "      <td>indica</td>\n",
              "      <td>Sweet, Pungent, Earthy</td>\n",
              "      <td>Relaxed, Happy, Sleepy, Creative, Euphoric</td>\n",
              "      <td>Dizzy, Dry Mouth, Paranoid, Anxious</td>\n",
              "      <td>Depression, Stress, Fatigue</td>\n",
              "      <td>4.4</td>\n",
              "      <td>3 Bears OG by Mephisto Genetics is an autoflow...</td>\n",
              "    </tr>\n",
              "  </tbody>\n",
              "</table>\n",
              "</div>"
            ],
            "text/plain": [
              "   Id      Strain  ... Rating                                        Description\n",
              "0   0      100 Og  ...    4.0  $100 OG is a 50/50 hybrid strain that packs a ...\n",
              "1   1        1024  ...    4.4  1024 is a sativa-dominant hybrid bred in Spain...\n",
              "2   2    13 Dawgs  ...    4.2  13 Dawgs is a hybrid of G13 and Chemdawg genet...\n",
              "3   3    24K Gold  ...    4.6  Also known as Kosher Tangie, 24k Gold is a 60%...\n",
              "4   4  3 Bears Og  ...    4.4  3 Bears OG by Mephisto Genetics is an autoflow...\n",
              "\n",
              "[5 rows x 9 columns]"
            ]
          },
          "metadata": {
            "tags": []
          },
          "execution_count": 154
        }
      ]
    },
    {
      "cell_type": "code",
      "metadata": {
        "id": "I_Y19l3_1bF1",
        "colab_type": "code",
        "colab": {}
      },
      "source": [
        "race_list = ['hybrid', 'sativa', 'indica']\n",
        "flavors_list = ['Earthy', 'Chemical', 'Pine', 'Spicy/Herbal', 'Pungent', 'Pepper', 'Flowery', 'Citrus', 'Tropical', 'Orange', 'Sweet', 'Skunk', 'Woody', 'Grape', 'Strawberry', 'Minty', 'Mango', 'Blueberry', 'Cheese', 'Diesel', 'Grapefruit', 'Nutty', 'Lemon', 'Berry', 'Ammonia', 'Apple', 'Rose', 'Sage', 'Butter', 'Honey', 'Chestnut', 'Tea', 'Lavender', 'Lime', 'Tobacco', 'Mint', 'Tree Fruit', 'Tree', 'Fruit', 'Pear', 'Vanilla', 'Apricot', 'Peach', 'Blue', 'Blue Cheese', 'Menthol', 'Coffee', 'Tar', 'Pineapple', 'Plum', 'Violet']\n",
        "positive_list = ['Relaxed', 'Hungry', 'Happy', 'Sleepy', 'Creative', 'Focused', 'Euphoric', 'Energetic', 'Talkative', 'Aroused', 'Tingly', 'Uplifted', 'Giggly']\n",
        "negative_list = ['Dizzy', 'Dry Mouth', 'Paranoid', 'Dry Eyes', 'Anxious']\n",
        "medical_list = ['Depression', 'Insomnia', 'Pain', 'Stress', 'Lack of Appetite', 'Nausea', 'Headache', 'Cramps', 'Fatigue', 'Headaches', 'Muscle Spasms', 'Eye Pressure', 'Inflammation', 'Spasticity', 'Seizures']"
      ],
      "execution_count": 0,
      "outputs": []
    },
    {
      "cell_type": "code",
      "metadata": {
        "id": "bEfau7iR2FrF",
        "colab_type": "code",
        "outputId": "4f5225b8-9f5c-4acd-9d1e-d1d486f1325a",
        "colab": {
          "base_uri": "https://localhost:8080/",
          "height": 34
        }
      },
      "source": [
        "len(medical_list)"
      ],
      "execution_count": 0,
      "outputs": [
        {
          "output_type": "execute_result",
          "data": {
            "text/plain": [
              "15"
            ]
          },
          "metadata": {
            "tags": []
          },
          "execution_count": 25
        }
      ]
    },
    {
      "cell_type": "code",
      "metadata": {
        "id": "0GPR1lsH1v-U",
        "colab_type": "code",
        "colab": {}
      },
      "source": [
        "import random\n",
        "\n",
        "def random_user_create():\n",
        "  user_race = []\n",
        "  user_flavors = []\n",
        "  user_positive = []\n",
        "  user_negative = []\n",
        "  user_medical = []\n",
        "\n",
        "  race_count = random.randint(0,3)\n",
        "  for i in range(race_count):\n",
        "    race = random.choice(race_list)\n",
        "    if race not in user_race:\n",
        "      user_race.append(race)\n",
        "\n",
        "  flavor_count = random.randint(0,51)\n",
        "  for i in range(flavor_count):\n",
        "    flavor = random.choice(flavors_list)\n",
        "    if flavor not in user_flavors:\n",
        "      user_flavors.append(flavor)\n",
        "\n",
        "  positive_count = random.randint(0,13)\n",
        "  for i in range(positive_count):\n",
        "    positive = random.choice(positive_list)\n",
        "    if positive not in user_positive:\n",
        "      user_positive.append(positive)\n",
        "\n",
        "  negative_count = random.randint(0,5)\n",
        "  for i in range(negative_count):\n",
        "    negative = random.choice(negative_list)\n",
        "    if negative not in user_negative:\n",
        "      user_negative.append(negative)\n",
        "\n",
        "  medical_count = random.randint(0,15)\n",
        "  for i in range(medical_count):\n",
        "    medical = random.choice(medical_list)\n",
        "    if medical not in user_medical:\n",
        "      user_medical.append(medical)\n",
        "  return \", \".join(user_race), \", \".join(user_flavors), \", \".join(user_positive), \", \".join(user_negative), \", \".join(user_medical)\n"
      ],
      "execution_count": 0,
      "outputs": []
    },
    {
      "cell_type": "code",
      "metadata": {
        "id": "spjDqF_U6x6l",
        "colab_type": "code",
        "colab": {}
      },
      "source": [
        "data = []\n",
        "for i in range(0,1000):\n",
        "  new_entry = random_user_create()\n",
        "  data.append(new_entry)"
      ],
      "execution_count": 0,
      "outputs": []
    },
    {
      "cell_type": "code",
      "metadata": {
        "id": "jhtlL25M63d0",
        "colab_type": "code",
        "colab": {}
      },
      "source": [
        "df_random_users = pd.DataFrame(data, columns = ['Race', 'Flavors', 'Positive', 'Negative', 'Medical'])"
      ],
      "execution_count": 0,
      "outputs": []
    },
    {
      "cell_type": "code",
      "metadata": {
        "id": "K8l6IAW-7PzA",
        "colab_type": "code",
        "outputId": "25626d80-cd14-4cb6-fe08-7e20cb276efb",
        "colab": {
          "base_uri": "https://localhost:8080/",
          "height": 1000
        }
      },
      "source": [
        "df_random_users.head(50)"
      ],
      "execution_count": 0,
      "outputs": [
        {
          "output_type": "execute_result",
          "data": {
            "text/html": [
              "<div>\n",
              "<style scoped>\n",
              "    .dataframe tbody tr th:only-of-type {\n",
              "        vertical-align: middle;\n",
              "    }\n",
              "\n",
              "    .dataframe tbody tr th {\n",
              "        vertical-align: top;\n",
              "    }\n",
              "\n",
              "    .dataframe thead th {\n",
              "        text-align: right;\n",
              "    }\n",
              "</style>\n",
              "<table border=\"1\" class=\"dataframe\">\n",
              "  <thead>\n",
              "    <tr style=\"text-align: right;\">\n",
              "      <th></th>\n",
              "      <th>Race</th>\n",
              "      <th>Flavors</th>\n",
              "      <th>Positive</th>\n",
              "      <th>Negative</th>\n",
              "      <th>Medical</th>\n",
              "    </tr>\n",
              "  </thead>\n",
              "  <tbody>\n",
              "    <tr>\n",
              "      <th>0</th>\n",
              "      <td>sativa, hybrid</td>\n",
              "      <td>Chestnut, Lavender, Tropical, Berry, Butter, F...</td>\n",
              "      <td></td>\n",
              "      <td>Dry Mouth, Paranoid, Dizzy</td>\n",
              "      <td>Insomnia, Headaches, Cramps, Seizures, Headache</td>\n",
              "    </tr>\n",
              "    <tr>\n",
              "      <th>1</th>\n",
              "      <td>indica, sativa</td>\n",
              "      <td>Strawberry, Pungent, Orange, Lime, Lemon, Lave...</td>\n",
              "      <td>Focused, Tingly, Uplifted, Euphoric, Giggly, S...</td>\n",
              "      <td>Anxious</td>\n",
              "      <td>Lack of Appetite</td>\n",
              "    </tr>\n",
              "    <tr>\n",
              "      <th>2</th>\n",
              "      <td>sativa</td>\n",
              "      <td>Tropical, Grapefruit, Lemon, Minty, Apple, Tre...</td>\n",
              "      <td>Talkative, Focused, Euphoric, Relaxed, Hungry</td>\n",
              "      <td>Dizzy</td>\n",
              "      <td>Lack of Appetite, Inflammation, Cramps, Muscle...</td>\n",
              "    </tr>\n",
              "    <tr>\n",
              "      <th>3</th>\n",
              "      <td>indica</td>\n",
              "      <td>Nutty, Lime, Plum, Berry, Vanilla, Coffee, Pep...</td>\n",
              "      <td>Uplifted, Hungry</td>\n",
              "      <td>Dry Mouth, Dry Eyes, Anxious, Paranoid</td>\n",
              "      <td>Nausea</td>\n",
              "    </tr>\n",
              "    <tr>\n",
              "      <th>4</th>\n",
              "      <td>hybrid</td>\n",
              "      <td>Apple, Menthol, Spicy/Herbal, Cheese, Fruit, B...</td>\n",
              "      <td>Uplifted, Energetic</td>\n",
              "      <td>Dry Eyes, Anxious, Paranoid</td>\n",
              "      <td>Headaches, Eye Pressure, Fatigue, Spasticity, ...</td>\n",
              "    </tr>\n",
              "    <tr>\n",
              "      <th>5</th>\n",
              "      <td>hybrid</td>\n",
              "      <td>Plum, Ammonia, Grape, Flowery, Mango, Pineappl...</td>\n",
              "      <td></td>\n",
              "      <td>Anxious, Dry Mouth</td>\n",
              "      <td>Eye Pressure, Muscle Spasms, Seizures, Cramps</td>\n",
              "    </tr>\n",
              "    <tr>\n",
              "      <th>6</th>\n",
              "      <td>hybrid, indica</td>\n",
              "      <td>Menthol, Minty, Pineapple, Honey, Fruit, Straw...</td>\n",
              "      <td>Talkative, Hungry, Sleepy, Energetic, Uplifted...</td>\n",
              "      <td>Dry Mouth, Anxious</td>\n",
              "      <td>Nausea</td>\n",
              "    </tr>\n",
              "    <tr>\n",
              "      <th>7</th>\n",
              "      <td>hybrid, sativa</td>\n",
              "      <td>Coffee, Woody, Berry, Lavender, Rose, Sage, Sw...</td>\n",
              "      <td>Aroused, Tingly, Euphoric, Uplifted, Sleepy, H...</td>\n",
              "      <td>Dry Mouth</td>\n",
              "      <td>Depression, Lack of Appetite, Seizures</td>\n",
              "    </tr>\n",
              "    <tr>\n",
              "      <th>8</th>\n",
              "      <td></td>\n",
              "      <td>Tree Fruit, Spicy/Herbal, Pepper, Chemical, Pe...</td>\n",
              "      <td>Creative, Focused, Tingly, Talkative</td>\n",
              "      <td>Anxious, Dry Mouth</td>\n",
              "      <td>Insomnia, Fatigue, Headaches, Pain, Nausea, Mu...</td>\n",
              "    </tr>\n",
              "    <tr>\n",
              "      <th>9</th>\n",
              "      <td>sativa</td>\n",
              "      <td>Ammonia, Tropical, Nutty, Sweet, Lavender, Pun...</td>\n",
              "      <td>Aroused, Uplifted, Giggly</td>\n",
              "      <td>Dizzy, Dry Eyes</td>\n",
              "      <td>Cramps, Fatigue, Muscle Spasms, Eye Pressure, ...</td>\n",
              "    </tr>\n",
              "    <tr>\n",
              "      <th>10</th>\n",
              "      <td>sativa, indica</td>\n",
              "      <td>Chestnut, Menthol, Lavender, Chemical, Minty, ...</td>\n",
              "      <td></td>\n",
              "      <td>Paranoid, Dizzy</td>\n",
              "      <td>Seizures, Eye Pressure, Fatigue</td>\n",
              "    </tr>\n",
              "    <tr>\n",
              "      <th>11</th>\n",
              "      <td>indica</td>\n",
              "      <td>Mint, Nutty, Rose, Diesel, Citrus, Pine, Blue ...</td>\n",
              "      <td>Relaxed, Talkative, Aroused</td>\n",
              "      <td>Dry Mouth, Paranoid</td>\n",
              "      <td>Fatigue, Cramps, Pain, Spasticity, Headache, M...</td>\n",
              "    </tr>\n",
              "    <tr>\n",
              "      <th>12</th>\n",
              "      <td>hybrid</td>\n",
              "      <td>Mint, Violet, Coffee, Cheese</td>\n",
              "      <td>Creative, Giggly, Focused, Aroused, Sleepy, Ti...</td>\n",
              "      <td>Dry Mouth, Paranoid, Anxious</td>\n",
              "      <td>Headaches, Insomnia, Lack of Appetite, Muscle ...</td>\n",
              "    </tr>\n",
              "    <tr>\n",
              "      <th>13</th>\n",
              "      <td>indica</td>\n",
              "      <td>Lemon, Rose, Earthy, Mango, Chemical, Strawber...</td>\n",
              "      <td>Focused, Aroused</td>\n",
              "      <td>Paranoid, Dry Mouth, Anxious, Dry Eyes</td>\n",
              "      <td>Headache, Pain, Eye Pressure, Muscle Spasms, D...</td>\n",
              "    </tr>\n",
              "    <tr>\n",
              "      <th>14</th>\n",
              "      <td>indica, hybrid</td>\n",
              "      <td></td>\n",
              "      <td>Creative, Aroused, Focused, Hungry, Relaxed, T...</td>\n",
              "      <td>Dry Eyes</td>\n",
              "      <td>Depression, Eye Pressure, Muscle Spasms, Heada...</td>\n",
              "    </tr>\n",
              "    <tr>\n",
              "      <th>15</th>\n",
              "      <td>hybrid</td>\n",
              "      <td>Orange, Flowery, Blue, Tea, Spicy/Herbal, Blue...</td>\n",
              "      <td></td>\n",
              "      <td>Dizzy, Dry Mouth, Paranoid</td>\n",
              "      <td></td>\n",
              "    </tr>\n",
              "    <tr>\n",
              "      <th>16</th>\n",
              "      <td></td>\n",
              "      <td>Lemon, Cheese, Blue, Sweet, Earthy</td>\n",
              "      <td>Uplifted, Talkative, Giggly, Creative, Hungry</td>\n",
              "      <td>Dry Eyes, Paranoid, Dry Mouth, Anxious</td>\n",
              "      <td>Headache, Eye Pressure, Cramps, Pain, Depressi...</td>\n",
              "    </tr>\n",
              "    <tr>\n",
              "      <th>17</th>\n",
              "      <td>indica</td>\n",
              "      <td>Grape, Lemon, Pineapple, Nutty, Apple, Mint, E...</td>\n",
              "      <td>Creative, Giggly, Happy, Talkative, Focused, E...</td>\n",
              "      <td>Paranoid, Dry Mouth, Anxious, Dizzy</td>\n",
              "      <td>Muscle Spasms, Nausea, Spasticity, Lack of App...</td>\n",
              "    </tr>\n",
              "    <tr>\n",
              "      <th>18</th>\n",
              "      <td>hybrid, sativa</td>\n",
              "      <td>Earthy, Citrus, Strawberry, Orange, Butter, Pi...</td>\n",
              "      <td>Focused, Happy, Relaxed</td>\n",
              "      <td>Dry Mouth, Paranoid</td>\n",
              "      <td>Inflammation, Fatigue, Nausea, Headache, Cramps</td>\n",
              "    </tr>\n",
              "    <tr>\n",
              "      <th>19</th>\n",
              "      <td>hybrid, indica</td>\n",
              "      <td>Blueberry, Coffee, Orange, Pineapple, Plum, Me...</td>\n",
              "      <td>Hungry, Energetic, Uplifted, Euphoric, Giggly,...</td>\n",
              "      <td>Dry Mouth, Paranoid, Dizzy, Anxious</td>\n",
              "      <td>Headaches, Stress, Eye Pressure, Muscle Spasms...</td>\n",
              "    </tr>\n",
              "    <tr>\n",
              "      <th>20</th>\n",
              "      <td>indica</td>\n",
              "      <td>Pineapple, Skunk, Grape, Apple, Orange, Butter...</td>\n",
              "      <td>Creative, Focused, Aroused</td>\n",
              "      <td></td>\n",
              "      <td>Spasticity, Muscle Spasms, Cramps, Headaches, ...</td>\n",
              "    </tr>\n",
              "    <tr>\n",
              "      <th>21</th>\n",
              "      <td>sativa, indica</td>\n",
              "      <td>Butter, Sweet, Plum, Apple, Peach, Coffee, Min...</td>\n",
              "      <td>Relaxed, Euphoric, Creative, Tingly, Energetic...</td>\n",
              "      <td>Dry Eyes, Dizzy, Anxious, Dry Mouth</td>\n",
              "      <td>Lack of Appetite, Headaches, Seizures, Stress,...</td>\n",
              "    </tr>\n",
              "    <tr>\n",
              "      <th>22</th>\n",
              "      <td></td>\n",
              "      <td>Cheese, Tree Fruit, Lemon, Chemical, Berry, Pe...</td>\n",
              "      <td>Energetic, Sleepy, Talkative</td>\n",
              "      <td>Dizzy, Anxious, Dry Mouth</td>\n",
              "      <td>Fatigue, Cramps, Pain, Headache, Stress, Insom...</td>\n",
              "    </tr>\n",
              "    <tr>\n",
              "      <th>23</th>\n",
              "      <td></td>\n",
              "      <td>Vanilla, Mango, Pepper, Tobacco, Nutty, Lime, ...</td>\n",
              "      <td>Giggly, Talkative, Euphoric, Creative, Hungry,...</td>\n",
              "      <td>Dry Eyes, Dry Mouth</td>\n",
              "      <td>Seizures, Muscle Spasms, Stress, Eye Pressure,...</td>\n",
              "    </tr>\n",
              "    <tr>\n",
              "      <th>24</th>\n",
              "      <td>hybrid</td>\n",
              "      <td>Pungent, Mango, Grapefruit, Blue, Strawberry, ...</td>\n",
              "      <td>Talkative, Uplifted, Giggly, Hungry, Tingly, E...</td>\n",
              "      <td>Dry Mouth, Paranoid</td>\n",
              "      <td>Insomnia, Inflammation, Headaches, Stress, Mus...</td>\n",
              "    </tr>\n",
              "    <tr>\n",
              "      <th>25</th>\n",
              "      <td>hybrid, sativa</td>\n",
              "      <td>Pineapple, Minty, Peach, Chestnut, Mango, Chem...</td>\n",
              "      <td>Hungry, Uplifted, Aroused, Talkative, Relaxed,...</td>\n",
              "      <td>Dry Eyes, Paranoid, Anxious, Dizzy</td>\n",
              "      <td>Headaches, Insomnia, Cramps, Spasticity, Eye P...</td>\n",
              "    </tr>\n",
              "    <tr>\n",
              "      <th>26</th>\n",
              "      <td>hybrid, sativa, indica</td>\n",
              "      <td>Flowery, Blueberry, Pineapple, Grapefruit, Coffee</td>\n",
              "      <td>Sleepy, Hungry, Uplifted, Happy</td>\n",
              "      <td></td>\n",
              "      <td>Spasticity, Insomnia, Seizures, Pain</td>\n",
              "    </tr>\n",
              "    <tr>\n",
              "      <th>27</th>\n",
              "      <td>indica, sativa</td>\n",
              "      <td>Lemon, Coffee, Earthy, Blueberry, Pear, Lavend...</td>\n",
              "      <td></td>\n",
              "      <td>Dry Eyes, Anxious</td>\n",
              "      <td>Seizures, Spasticity, Headaches, Headache, Str...</td>\n",
              "    </tr>\n",
              "    <tr>\n",
              "      <th>28</th>\n",
              "      <td>sativa, indica</td>\n",
              "      <td>Mint, Skunk, Tree, Violet, Sweet, Butter, Tea,...</td>\n",
              "      <td>Happy</td>\n",
              "      <td>Anxious, Dry Eyes, Paranoid, Dizzy</td>\n",
              "      <td>Muscle Spasms, Pain, Insomnia, Lack of Appetit...</td>\n",
              "    </tr>\n",
              "    <tr>\n",
              "      <th>29</th>\n",
              "      <td>hybrid, indica</td>\n",
              "      <td>Strawberry, Menthol, Plum, Coffee, Minty, Ches...</td>\n",
              "      <td>Giggly, Focused, Hungry, Talkative</td>\n",
              "      <td>Paranoid, Anxious, Dry Mouth</td>\n",
              "      <td></td>\n",
              "    </tr>\n",
              "    <tr>\n",
              "      <th>30</th>\n",
              "      <td>hybrid</td>\n",
              "      <td>Minty, Woody, Blue Cheese, Butter, Cheese, Fru...</td>\n",
              "      <td>Talkative, Creative</td>\n",
              "      <td>Dry Mouth</td>\n",
              "      <td>Muscle Spasms, Nausea, Inflammation, Headache,...</td>\n",
              "    </tr>\n",
              "    <tr>\n",
              "      <th>31</th>\n",
              "      <td>indica</td>\n",
              "      <td>Tea, Vanilla, Lime, Grapefruit, Sweet, Butter,...</td>\n",
              "      <td></td>\n",
              "      <td>Dry Mouth, Paranoid, Dizzy</td>\n",
              "      <td>Stress, Insomnia</td>\n",
              "    </tr>\n",
              "    <tr>\n",
              "      <th>32</th>\n",
              "      <td>hybrid, sativa</td>\n",
              "      <td>Lemon, Pepper, Minty, Cheese, Fruit, Mint, Woo...</td>\n",
              "      <td>Euphoric</td>\n",
              "      <td>Dry Eyes, Dry Mouth, Dizzy, Paranoid</td>\n",
              "      <td>Inflammation, Insomnia, Lack of Appetite, Nausea</td>\n",
              "    </tr>\n",
              "    <tr>\n",
              "      <th>33</th>\n",
              "      <td></td>\n",
              "      <td>Tree, Skunk, Chemical, Plum, Tree Fruit, Citru...</td>\n",
              "      <td>Hungry, Relaxed, Sleepy, Energetic, Talkative,...</td>\n",
              "      <td>Dry Mouth, Dry Eyes, Anxious</td>\n",
              "      <td>Headache, Eye Pressure, Fatigue, Muscle Spasms...</td>\n",
              "    </tr>\n",
              "    <tr>\n",
              "      <th>34</th>\n",
              "      <td>sativa</td>\n",
              "      <td>Orange, Tropical, Grapefruit, Peach, Fruit, Li...</td>\n",
              "      <td>Energetic, Talkative, Tingly, Euphoric, Creati...</td>\n",
              "      <td>Dizzy, Anxious, Dry Mouth</td>\n",
              "      <td>Spasticity, Cramps, Seizures, Nausea, Insomnia...</td>\n",
              "    </tr>\n",
              "    <tr>\n",
              "      <th>35</th>\n",
              "      <td>hybrid</td>\n",
              "      <td>Minty, Pepper, Earthy, Blue, Flowery, Tobacco,...</td>\n",
              "      <td>Tingly, Giggly, Happy, Uplifted, Talkative, Ar...</td>\n",
              "      <td>Dry Mouth</td>\n",
              "      <td>Headache, Muscle Spasms</td>\n",
              "    </tr>\n",
              "    <tr>\n",
              "      <th>36</th>\n",
              "      <td>sativa, hybrid</td>\n",
              "      <td>Butter, Menthol, Flowery</td>\n",
              "      <td>Creative, Energetic, Euphoric</td>\n",
              "      <td></td>\n",
              "      <td>Inflammation</td>\n",
              "    </tr>\n",
              "    <tr>\n",
              "      <th>37</th>\n",
              "      <td>sativa, indica, hybrid</td>\n",
              "      <td>Honey, Lavender, Butter, Violet, Lemon, Woody,...</td>\n",
              "      <td>Tingly, Creative, Happy, Sleepy, Aroused, Upli...</td>\n",
              "      <td>Paranoid, Dry Eyes</td>\n",
              "      <td>Lack of Appetite, Nausea, Seizures, Pain, Infl...</td>\n",
              "    </tr>\n",
              "    <tr>\n",
              "      <th>38</th>\n",
              "      <td>indica</td>\n",
              "      <td>Orange, Menthol, Peach, Grape, Chemical, Blue,...</td>\n",
              "      <td>Energetic, Creative, Aroused, Giggly, Uplifted...</td>\n",
              "      <td>Dizzy, Anxious, Dry Mouth</td>\n",
              "      <td>Headache, Lack of Appetite, Depression, Spasti...</td>\n",
              "    </tr>\n",
              "    <tr>\n",
              "      <th>39</th>\n",
              "      <td>sativa, indica</td>\n",
              "      <td>Pepper, Violet, Nutty, Cheese, Citrus, Diesel,...</td>\n",
              "      <td>Aroused, Energetic, Giggly</td>\n",
              "      <td>Anxious, Paranoid, Dizzy</td>\n",
              "      <td>Eye Pressure, Inflammation, Insomnia, Headache...</td>\n",
              "    </tr>\n",
              "    <tr>\n",
              "      <th>40</th>\n",
              "      <td>hybrid, sativa</td>\n",
              "      <td>Pepper, Blue Cheese, Chestnut, Earthy, Grape, ...</td>\n",
              "      <td>Hungry, Focused</td>\n",
              "      <td>Paranoid</td>\n",
              "      <td>Cramps, Headache, Depression, Nausea</td>\n",
              "    </tr>\n",
              "    <tr>\n",
              "      <th>41</th>\n",
              "      <td>indica</td>\n",
              "      <td>Orange, Blue, Menthol</td>\n",
              "      <td>Energetic, Relaxed, Happy, Talkative</td>\n",
              "      <td>Paranoid, Dizzy, Anxious, Dry Eyes</td>\n",
              "      <td>Lack of Appetite, Stress, Depression, Fatigue,...</td>\n",
              "    </tr>\n",
              "    <tr>\n",
              "      <th>42</th>\n",
              "      <td>hybrid, indica, sativa</td>\n",
              "      <td>Blueberry, Lavender, Grape, Pine, Tar, Skunk, ...</td>\n",
              "      <td></td>\n",
              "      <td>Paranoid, Dry Eyes, Anxious, Dry Mouth</td>\n",
              "      <td>Eye Pressure, Inflammation, Stress, Cramps, Sp...</td>\n",
              "    </tr>\n",
              "    <tr>\n",
              "      <th>43</th>\n",
              "      <td>hybrid, indica</td>\n",
              "      <td>Pepper, Earthy, Coffee, Grape, Diesel, Berry, ...</td>\n",
              "      <td>Euphoric, Tingly, Focused, Relaxed, Talkative</td>\n",
              "      <td>Paranoid</td>\n",
              "      <td>Lack of Appetite, Nausea, Cramps, Insomnia, De...</td>\n",
              "    </tr>\n",
              "    <tr>\n",
              "      <th>44</th>\n",
              "      <td>indica</td>\n",
              "      <td>Grape, Sweet, Tree, Pepper, Nutty, Minty, Wood...</td>\n",
              "      <td>Euphoric, Talkative, Uplifted, Aroused, Sleepy...</td>\n",
              "      <td>Dizzy</td>\n",
              "      <td>Spasticity</td>\n",
              "    </tr>\n",
              "    <tr>\n",
              "      <th>45</th>\n",
              "      <td>indica</td>\n",
              "      <td>Earthy, Pungent, Tree, Tea, Tobacco, Cheese, V...</td>\n",
              "      <td>Happy, Euphoric, Uplifted, Energetic, Creative...</td>\n",
              "      <td>Paranoid, Anxious</td>\n",
              "      <td>Headaches, Depression, Eye Pressure, Fatigue, ...</td>\n",
              "    </tr>\n",
              "    <tr>\n",
              "      <th>46</th>\n",
              "      <td>sativa</td>\n",
              "      <td>Peach, Pepper, Coffee, Pungent, Earthy, Minty,...</td>\n",
              "      <td>Energetic</td>\n",
              "      <td>Anxious, Dry Mouth, Paranoid, Dry Eyes</td>\n",
              "      <td>Muscle Spasms, Spasticity, Headaches, Lack of ...</td>\n",
              "    </tr>\n",
              "    <tr>\n",
              "      <th>47</th>\n",
              "      <td>hybrid, sativa</td>\n",
              "      <td>Sage, Diesel, Ammonia, Cheese, Woody, Tree Fru...</td>\n",
              "      <td>Relaxed, Energetic, Happy, Tingly, Creative, E...</td>\n",
              "      <td>Paranoid, Dizzy</td>\n",
              "      <td>Eye Pressure, Pain, Insomnia, Seizures, Nausea...</td>\n",
              "    </tr>\n",
              "    <tr>\n",
              "      <th>48</th>\n",
              "      <td></td>\n",
              "      <td>Grape, Strawberry, Chestnut, Pine, Sage, Honey...</td>\n",
              "      <td>Uplifted, Hungry</td>\n",
              "      <td>Dry Eyes, Dizzy, Paranoid, Dry Mouth</td>\n",
              "      <td>Seizures, Lack of Appetite, Stress, Insomnia, ...</td>\n",
              "    </tr>\n",
              "    <tr>\n",
              "      <th>49</th>\n",
              "      <td>indica, hybrid</td>\n",
              "      <td>Butter, Vanilla, Blue Cheese, Grapefruit, Berr...</td>\n",
              "      <td>Sleepy, Talkative, Giggly, Happy, Energetic, R...</td>\n",
              "      <td>Dizzy</td>\n",
              "      <td>Headache, Headaches, Pain, Cramps, Seizures, S...</td>\n",
              "    </tr>\n",
              "  </tbody>\n",
              "</table>\n",
              "</div>"
            ],
            "text/plain": [
              "                      Race  ...                                            Medical\n",
              "0           sativa, hybrid  ...    Insomnia, Headaches, Cramps, Seizures, Headache\n",
              "1           indica, sativa  ...                                   Lack of Appetite\n",
              "2                   sativa  ...  Lack of Appetite, Inflammation, Cramps, Muscle...\n",
              "3                   indica  ...                                             Nausea\n",
              "4                   hybrid  ...  Headaches, Eye Pressure, Fatigue, Spasticity, ...\n",
              "5                   hybrid  ...      Eye Pressure, Muscle Spasms, Seizures, Cramps\n",
              "6           hybrid, indica  ...                                             Nausea\n",
              "7           hybrid, sativa  ...             Depression, Lack of Appetite, Seizures\n",
              "8                           ...  Insomnia, Fatigue, Headaches, Pain, Nausea, Mu...\n",
              "9                   sativa  ...  Cramps, Fatigue, Muscle Spasms, Eye Pressure, ...\n",
              "10          sativa, indica  ...                    Seizures, Eye Pressure, Fatigue\n",
              "11                  indica  ...  Fatigue, Cramps, Pain, Spasticity, Headache, M...\n",
              "12                  hybrid  ...  Headaches, Insomnia, Lack of Appetite, Muscle ...\n",
              "13                  indica  ...  Headache, Pain, Eye Pressure, Muscle Spasms, D...\n",
              "14          indica, hybrid  ...  Depression, Eye Pressure, Muscle Spasms, Heada...\n",
              "15                  hybrid  ...                                                   \n",
              "16                          ...  Headache, Eye Pressure, Cramps, Pain, Depressi...\n",
              "17                  indica  ...  Muscle Spasms, Nausea, Spasticity, Lack of App...\n",
              "18          hybrid, sativa  ...    Inflammation, Fatigue, Nausea, Headache, Cramps\n",
              "19          hybrid, indica  ...  Headaches, Stress, Eye Pressure, Muscle Spasms...\n",
              "20                  indica  ...  Spasticity, Muscle Spasms, Cramps, Headaches, ...\n",
              "21          sativa, indica  ...  Lack of Appetite, Headaches, Seizures, Stress,...\n",
              "22                          ...  Fatigue, Cramps, Pain, Headache, Stress, Insom...\n",
              "23                          ...  Seizures, Muscle Spasms, Stress, Eye Pressure,...\n",
              "24                  hybrid  ...  Insomnia, Inflammation, Headaches, Stress, Mus...\n",
              "25          hybrid, sativa  ...  Headaches, Insomnia, Cramps, Spasticity, Eye P...\n",
              "26  hybrid, sativa, indica  ...               Spasticity, Insomnia, Seizures, Pain\n",
              "27          indica, sativa  ...  Seizures, Spasticity, Headaches, Headache, Str...\n",
              "28          sativa, indica  ...  Muscle Spasms, Pain, Insomnia, Lack of Appetit...\n",
              "29          hybrid, indica  ...                                                   \n",
              "30                  hybrid  ...  Muscle Spasms, Nausea, Inflammation, Headache,...\n",
              "31                  indica  ...                                   Stress, Insomnia\n",
              "32          hybrid, sativa  ...   Inflammation, Insomnia, Lack of Appetite, Nausea\n",
              "33                          ...  Headache, Eye Pressure, Fatigue, Muscle Spasms...\n",
              "34                  sativa  ...  Spasticity, Cramps, Seizures, Nausea, Insomnia...\n",
              "35                  hybrid  ...                            Headache, Muscle Spasms\n",
              "36          sativa, hybrid  ...                                       Inflammation\n",
              "37  sativa, indica, hybrid  ...  Lack of Appetite, Nausea, Seizures, Pain, Infl...\n",
              "38                  indica  ...  Headache, Lack of Appetite, Depression, Spasti...\n",
              "39          sativa, indica  ...  Eye Pressure, Inflammation, Insomnia, Headache...\n",
              "40          hybrid, sativa  ...               Cramps, Headache, Depression, Nausea\n",
              "41                  indica  ...  Lack of Appetite, Stress, Depression, Fatigue,...\n",
              "42  hybrid, indica, sativa  ...  Eye Pressure, Inflammation, Stress, Cramps, Sp...\n",
              "43          hybrid, indica  ...  Lack of Appetite, Nausea, Cramps, Insomnia, De...\n",
              "44                  indica  ...                                         Spasticity\n",
              "45                  indica  ...  Headaches, Depression, Eye Pressure, Fatigue, ...\n",
              "46                  sativa  ...  Muscle Spasms, Spasticity, Headaches, Lack of ...\n",
              "47          hybrid, sativa  ...  Eye Pressure, Pain, Insomnia, Seizures, Nausea...\n",
              "48                          ...  Seizures, Lack of Appetite, Stress, Insomnia, ...\n",
              "49          indica, hybrid  ...  Headache, Headaches, Pain, Cramps, Seizures, S...\n",
              "\n",
              "[50 rows x 5 columns]"
            ]
          },
          "metadata": {
            "tags": []
          },
          "execution_count": 106
        }
      ]
    },
    {
      "cell_type": "code",
      "metadata": {
        "id": "r4G8fi3EFBZS",
        "colab_type": "code",
        "colab": {}
      },
      "source": [
        "from google.colab import files\n",
        "df_random_users.to_csv('random_users.csv')\n",
        "files.download(\"random_users.csv\")"
      ],
      "execution_count": 0,
      "outputs": []
    },
    {
      "cell_type": "code",
      "metadata": {
        "id": "vhnFLAcd9Wdv",
        "colab_type": "code",
        "colab": {}
      },
      "source": [
        "{\n",
        "\t\"id\": 1,\n",
        "\t\"race\": \"sativa\",\n",
        "\t\"positive_effects\": \"Happy\",\n",
        "\t\"negative_effects_avoid\": \"Paranoid, Dizzy\",\n",
        "\t\"ailments\": \"Headache\",\n",
        "\t\"flavors\": \"Pear\",\n",
        "\t\"additional_desired_effects\": \"I want to fly\",\n",
        "\t\"user_id\": 10\n",
        "}"
      ],
      "execution_count": 0,
      "outputs": []
    },
    {
      "cell_type": "code",
      "metadata": {
        "id": "bns9NAFGBB4S",
        "colab_type": "code",
        "colab": {}
      },
      "source": [
        "{\n",
        "  \"id\": 1,\n",
        "  \"user_id\": 10,\n",
        "  \"strain_ids\": [5, 30, 1001, 45, 2005, 56, 1300, 44, 166, 444]\n",
        "}"
      ],
      "execution_count": 0,
      "outputs": []
    },
    {
      "cell_type": "code",
      "metadata": {
        "id": "AimG_IyyS3Tp",
        "colab_type": "code",
        "colab": {}
      },
      "source": [
        "from sklearn.neighbors import NearestNeighbors\n",
        "\n",
        "# Fit on DTM\n",
        "nn = NearestNeighbors(n_neighbors=5, algorithm='auto')\n",
        "nn.fit(dtm)"
      ],
      "execution_count": 0,
      "outputs": []
    },
    {
      "cell_type": "code",
      "metadata": {
        "id": "raMBP2LFTI--",
        "colab_type": "code",
        "colab": {}
      },
      "source": [
        "from sklearn.feature_extraction.text import TfidfVectorizer\n",
        "\n",
        "# Instantiate vectorizer object\n",
        "tfidf = TfidfVectorizer(stop_words='english')\n",
        "\n",
        "# Create a vocabulary and get word counts per document\n",
        "# Similiar to fit_predict\n",
        "dtm = tfidf.fit_transform(data)\n",
        "\n",
        "# Print word counts\n",
        "\n",
        "# Get feature names to use as dataframe column headers\n",
        "dtm = pd.DataFrame(dtm.todense(), columns=tfidf.get_feature_names())\n",
        "\n",
        "# View Feature Matrix as DataFrame\n",
        "dtm.head()"
      ],
      "execution_count": 0,
      "outputs": []
    },
    {
      "cell_type": "code",
      "metadata": {
        "id": "CeV_-vIxsjqv",
        "colab_type": "code",
        "colab": {}
      },
      "source": [
        "sample = [df_random_users['Medical'][0]]\n",
        "new = tfidf.transform(sample)\n",
        "nn.kneighbors(new.todense())"
      ],
      "execution_count": 0,
      "outputs": []
    },
    {
      "cell_type": "code",
      "metadata": {
        "id": "Mj6P7zLatiEO",
        "colab_type": "code",
        "colab": {}
      },
      "source": [
        ""
      ],
      "execution_count": 0,
      "outputs": []
    },
    {
      "cell_type": "code",
      "metadata": {
        "id": "Gcd0zvgXtiI0",
        "colab_type": "code",
        "outputId": "dfef7ca4-52bc-4812-81fc-a7b72089ffad",
        "colab": {
          "resources": {
            "http://localhost:8080/nbextensions/google.colab/files.js": {
              "data": "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",
              "ok": true,
              "headers": [
                [
                  "content-type",
                  "application/javascript"
                ]
              ],
              "status": 200,
              "status_text": ""
            }
          },
          "base_uri": "https://localhost:8080/",
          "height": 74
        }
      },
      "source": [
        "# Loading in file from local machine\n",
        "from google.colab import files\n",
        "uploaded = files.upload()"
      ],
      "execution_count": 0,
      "outputs": [
        {
          "output_type": "display_data",
          "data": {
            "text/html": [
              "\n",
              "     <input type=\"file\" id=\"files-7cfb7345-7618-4880-a903-9be2d3557196\" name=\"files[]\" multiple disabled />\n",
              "     <output id=\"result-7cfb7345-7618-4880-a903-9be2d3557196\">\n",
              "      Upload widget is only available when the cell has been executed in the\n",
              "      current browser session. Please rerun this cell to enable.\n",
              "      </output>\n",
              "      <script src=\"/nbextensions/google.colab/files.js\"></script> "
            ],
            "text/plain": [
              "<IPython.core.display.HTML object>"
            ]
          },
          "metadata": {
            "tags": []
          }
        },
        {
          "output_type": "stream",
          "text": [
            "Saving random_users.csv to random_users (1).csv\n"
          ],
          "name": "stdout"
        }
      ]
    },
    {
      "cell_type": "code",
      "metadata": {
        "id": "ujymjWREt1rq",
        "colab_type": "code",
        "outputId": "cd55d1de-b968-455c-f61c-15797637c929",
        "colab": {
          "base_uri": "https://localhost:8080/",
          "height": 204
        }
      },
      "source": [
        "df_user = pd.read_csv('random_users (1).csv')\n",
        "df_user.head()"
      ],
      "execution_count": 0,
      "outputs": [
        {
          "output_type": "execute_result",
          "data": {
            "text/html": [
              "<div>\n",
              "<style scoped>\n",
              "    .dataframe tbody tr th:only-of-type {\n",
              "        vertical-align: middle;\n",
              "    }\n",
              "\n",
              "    .dataframe tbody tr th {\n",
              "        vertical-align: top;\n",
              "    }\n",
              "\n",
              "    .dataframe thead th {\n",
              "        text-align: right;\n",
              "    }\n",
              "</style>\n",
              "<table border=\"1\" class=\"dataframe\">\n",
              "  <thead>\n",
              "    <tr style=\"text-align: right;\">\n",
              "      <th></th>\n",
              "      <th>User_Id</th>\n",
              "      <th>Race</th>\n",
              "      <th>Flavors</th>\n",
              "      <th>Positive</th>\n",
              "      <th>Negative</th>\n",
              "      <th>Medical</th>\n",
              "    </tr>\n",
              "  </thead>\n",
              "  <tbody>\n",
              "    <tr>\n",
              "      <th>0</th>\n",
              "      <td>0</td>\n",
              "      <td>sativa, hybrid</td>\n",
              "      <td>Chestnut, Lavender, Tropical, Berry, Butter, F...</td>\n",
              "      <td>NaN</td>\n",
              "      <td>Dry Mouth, Paranoid, Dizzy</td>\n",
              "      <td>Insomnia, Headaches, Cramps, Seizures, Headache</td>\n",
              "    </tr>\n",
              "    <tr>\n",
              "      <th>1</th>\n",
              "      <td>1</td>\n",
              "      <td>indica, sativa</td>\n",
              "      <td>Strawberry, Pungent, Orange, Lime, Lemon, Lave...</td>\n",
              "      <td>Focused, Tingly, Uplifted, Euphoric, Giggly, S...</td>\n",
              "      <td>Anxious</td>\n",
              "      <td>Lack of Appetite</td>\n",
              "    </tr>\n",
              "    <tr>\n",
              "      <th>2</th>\n",
              "      <td>2</td>\n",
              "      <td>sativa</td>\n",
              "      <td>Tropical, Grapefruit, Lemon, Minty, Apple, Tre...</td>\n",
              "      <td>Talkative, Focused, Euphoric, Relaxed, Hungry</td>\n",
              "      <td>Dizzy</td>\n",
              "      <td>Lack of Appetite, Inflammation, Cramps, Muscle...</td>\n",
              "    </tr>\n",
              "    <tr>\n",
              "      <th>3</th>\n",
              "      <td>3</td>\n",
              "      <td>indica</td>\n",
              "      <td>Nutty, Lime, Plum, Berry, Vanilla, Coffee, Pep...</td>\n",
              "      <td>Uplifted, Hungry</td>\n",
              "      <td>Dry Mouth, Dry Eyes, Anxious, Paranoid</td>\n",
              "      <td>Nausea</td>\n",
              "    </tr>\n",
              "    <tr>\n",
              "      <th>4</th>\n",
              "      <td>4</td>\n",
              "      <td>hybrid</td>\n",
              "      <td>Apple, Menthol, Spicy/Herbal, Cheese, Fruit, B...</td>\n",
              "      <td>Uplifted, Energetic</td>\n",
              "      <td>Dry Eyes, Anxious, Paranoid</td>\n",
              "      <td>Headaches, Eye Pressure, Fatigue, Spasticity, ...</td>\n",
              "    </tr>\n",
              "  </tbody>\n",
              "</table>\n",
              "</div>"
            ],
            "text/plain": [
              "   User_Id  ...                                            Medical\n",
              "0        0  ...    Insomnia, Headaches, Cramps, Seizures, Headache\n",
              "1        1  ...                                   Lack of Appetite\n",
              "2        2  ...  Lack of Appetite, Inflammation, Cramps, Muscle...\n",
              "3        3  ...                                             Nausea\n",
              "4        4  ...  Headaches, Eye Pressure, Fatigue, Spasticity, ...\n",
              "\n",
              "[5 rows x 6 columns]"
            ]
          },
          "metadata": {
            "tags": []
          },
          "execution_count": 185
        }
      ]
    },
    {
      "cell_type": "code",
      "metadata": {
        "id": "YAHxdqQpumy4",
        "colab_type": "code",
        "colab": {}
      },
      "source": [
        ""
      ],
      "execution_count": 0,
      "outputs": []
    },
    {
      "cell_type": "code",
      "metadata": {
        "id": "aNhjNy32tiMe",
        "colab_type": "code",
        "colab": {}
      },
      "source": [
        "from gensim.utils import simple_preprocess\n",
        "\n",
        "def tokenize(text):\n",
        "    return [token for token in simple_preprocess(text)]"
      ],
      "execution_count": 0,
      "outputs": []
    },
    {
      "cell_type": "code",
      "metadata": {
        "id": "RZlUZyYsSLKD",
        "colab_type": "code",
        "colab": {}
      },
      "source": [
        "import numpy as np\n",
        "from sklearn.neighbors import NearestNeighbors as nn\n",
        "from sklearn.feature_extraction.text import TfidfVectorizer\n",
        "\n",
        "\n",
        "def predict_user(model_one_data, user_input):\n",
        "  tfidf = TfidfVectorizer(stop_words='english')\n",
        "  dtm = tfidf.fit_transform(model_one_data)\n",
        "  dtm = pd.DataFrame(dtm.todense(), columns=tfidf.get_feature_names())\n",
        "  print(dtm)\n",
        "\n",
        "  nn_model = NearestNeighbors(n_neighbors=5, algorithm='auto')\n",
        "  nn_model.fit(dtm)\n",
        "\n",
        "  new = tfidf.transform(user_input)\n",
        "  result = nn.kneighbors(new.todense())\n",
        "\n",
        "  return result\n"
      ],
      "execution_count": 0,
      "outputs": []
    },
    {
      "cell_type": "code",
      "metadata": {
        "id": "CZG8VQmD0pch",
        "colab_type": "code",
        "outputId": "1b936d04-eaae-4167-c6c3-26695b85e100",
        "colab": {
          "base_uri": "https://localhost:8080/",
          "height": 340
        }
      },
      "source": [
        "df['Race'] = df['Race'].apply(tokenize)"
      ],
      "execution_count": 0,
      "outputs": [
        {
          "output_type": "error",
          "ename": "TypeError",
          "evalue": "ignored",
          "traceback": [
            "\u001b[0;31m---------------------------------------------------------------------------\u001b[0m",
            "\u001b[0;31mTypeError\u001b[0m                                 Traceback (most recent call last)",
            "\u001b[0;32m<ipython-input-179-3609e20a5493>\u001b[0m in \u001b[0;36m<module>\u001b[0;34m()\u001b[0m\n\u001b[0;32m----> 1\u001b[0;31m \u001b[0mdf\u001b[0m\u001b[0;34m[\u001b[0m\u001b[0;34m'Race'\u001b[0m\u001b[0;34m]\u001b[0m \u001b[0;34m=\u001b[0m \u001b[0mdf\u001b[0m\u001b[0;34m[\u001b[0m\u001b[0;34m'Race'\u001b[0m\u001b[0;34m]\u001b[0m\u001b[0;34m.\u001b[0m\u001b[0mapply\u001b[0m\u001b[0;34m(\u001b[0m\u001b[0mtokenize\u001b[0m\u001b[0;34m)\u001b[0m\u001b[0;34m\u001b[0m\u001b[0;34m\u001b[0m\u001b[0m\n\u001b[0m",
            "\u001b[0;32m/usr/local/lib/python3.6/dist-packages/pandas/core/series.py\u001b[0m in \u001b[0;36mapply\u001b[0;34m(self, func, convert_dtype, args, **kwds)\u001b[0m\n\u001b[1;32m   4043\u001b[0m             \u001b[0;32melse\u001b[0m\u001b[0;34m:\u001b[0m\u001b[0;34m\u001b[0m\u001b[0;34m\u001b[0m\u001b[0m\n\u001b[1;32m   4044\u001b[0m                 \u001b[0mvalues\u001b[0m \u001b[0;34m=\u001b[0m \u001b[0mself\u001b[0m\u001b[0;34m.\u001b[0m\u001b[0mastype\u001b[0m\u001b[0;34m(\u001b[0m\u001b[0mobject\u001b[0m\u001b[0;34m)\u001b[0m\u001b[0;34m.\u001b[0m\u001b[0mvalues\u001b[0m\u001b[0;34m\u001b[0m\u001b[0;34m\u001b[0m\u001b[0m\n\u001b[0;32m-> 4045\u001b[0;31m                 \u001b[0mmapped\u001b[0m \u001b[0;34m=\u001b[0m \u001b[0mlib\u001b[0m\u001b[0;34m.\u001b[0m\u001b[0mmap_infer\u001b[0m\u001b[0;34m(\u001b[0m\u001b[0mvalues\u001b[0m\u001b[0;34m,\u001b[0m \u001b[0mf\u001b[0m\u001b[0;34m,\u001b[0m \u001b[0mconvert\u001b[0m\u001b[0;34m=\u001b[0m\u001b[0mconvert_dtype\u001b[0m\u001b[0;34m)\u001b[0m\u001b[0;34m\u001b[0m\u001b[0;34m\u001b[0m\u001b[0m\n\u001b[0m\u001b[1;32m   4046\u001b[0m \u001b[0;34m\u001b[0m\u001b[0m\n\u001b[1;32m   4047\u001b[0m         \u001b[0;32mif\u001b[0m \u001b[0mlen\u001b[0m\u001b[0;34m(\u001b[0m\u001b[0mmapped\u001b[0m\u001b[0;34m)\u001b[0m \u001b[0;32mand\u001b[0m \u001b[0misinstance\u001b[0m\u001b[0;34m(\u001b[0m\u001b[0mmapped\u001b[0m\u001b[0;34m[\u001b[0m\u001b[0;36m0\u001b[0m\u001b[0;34m]\u001b[0m\u001b[0;34m,\u001b[0m \u001b[0mSeries\u001b[0m\u001b[0;34m)\u001b[0m\u001b[0;34m:\u001b[0m\u001b[0;34m\u001b[0m\u001b[0;34m\u001b[0m\u001b[0m\n",
            "\u001b[0;32mpandas/_libs/lib.pyx\u001b[0m in \u001b[0;36mpandas._libs.lib.map_infer\u001b[0;34m()\u001b[0m\n",
            "\u001b[0;32m<ipython-input-177-882ff8a226c9>\u001b[0m in \u001b[0;36mtokenize\u001b[0;34m(text)\u001b[0m\n\u001b[1;32m      2\u001b[0m \u001b[0;34m\u001b[0m\u001b[0m\n\u001b[1;32m      3\u001b[0m \u001b[0;32mdef\u001b[0m \u001b[0mtokenize\u001b[0m\u001b[0;34m(\u001b[0m\u001b[0mtext\u001b[0m\u001b[0;34m)\u001b[0m\u001b[0;34m:\u001b[0m\u001b[0;34m\u001b[0m\u001b[0;34m\u001b[0m\u001b[0m\n\u001b[0;32m----> 4\u001b[0;31m     \u001b[0;32mreturn\u001b[0m \u001b[0;34m[\u001b[0m\u001b[0mtoken\u001b[0m \u001b[0;32mfor\u001b[0m \u001b[0mtoken\u001b[0m \u001b[0;32min\u001b[0m \u001b[0msimple_preprocess\u001b[0m\u001b[0;34m(\u001b[0m\u001b[0mtext\u001b[0m\u001b[0;34m)\u001b[0m\u001b[0;34m]\u001b[0m\u001b[0;34m\u001b[0m\u001b[0;34m\u001b[0m\u001b[0m\n\u001b[0m",
            "\u001b[0;32m/usr/local/lib/python3.6/dist-packages/gensim/utils.py\u001b[0m in \u001b[0;36msimple_preprocess\u001b[0;34m(doc, deacc, min_len, max_len)\u001b[0m\n\u001b[1;32m    299\u001b[0m     \"\"\"\n\u001b[1;32m    300\u001b[0m     tokens = [\n\u001b[0;32m--> 301\u001b[0;31m         \u001b[0mtoken\u001b[0m \u001b[0;32mfor\u001b[0m \u001b[0mtoken\u001b[0m \u001b[0;32min\u001b[0m \u001b[0mtokenize\u001b[0m\u001b[0;34m(\u001b[0m\u001b[0mdoc\u001b[0m\u001b[0;34m,\u001b[0m \u001b[0mlower\u001b[0m\u001b[0;34m=\u001b[0m\u001b[0;32mTrue\u001b[0m\u001b[0;34m,\u001b[0m \u001b[0mdeacc\u001b[0m\u001b[0;34m=\u001b[0m\u001b[0mdeacc\u001b[0m\u001b[0;34m,\u001b[0m \u001b[0merrors\u001b[0m\u001b[0;34m=\u001b[0m\u001b[0;34m'ignore'\u001b[0m\u001b[0;34m)\u001b[0m\u001b[0;34m\u001b[0m\u001b[0;34m\u001b[0m\u001b[0m\n\u001b[0m\u001b[1;32m    302\u001b[0m         \u001b[0;32mif\u001b[0m \u001b[0mmin_len\u001b[0m \u001b[0;34m<=\u001b[0m \u001b[0mlen\u001b[0m\u001b[0;34m(\u001b[0m\u001b[0mtoken\u001b[0m\u001b[0;34m)\u001b[0m \u001b[0;34m<=\u001b[0m \u001b[0mmax_len\u001b[0m \u001b[0;32mand\u001b[0m \u001b[0;32mnot\u001b[0m \u001b[0mtoken\u001b[0m\u001b[0;34m.\u001b[0m\u001b[0mstartswith\u001b[0m\u001b[0;34m(\u001b[0m\u001b[0;34m'_'\u001b[0m\u001b[0;34m)\u001b[0m\u001b[0;34m\u001b[0m\u001b[0;34m\u001b[0m\u001b[0m\n\u001b[1;32m    303\u001b[0m     ]\n",
            "\u001b[0;32m/usr/local/lib/python3.6/dist-packages/gensim/utils.py\u001b[0m in \u001b[0;36mtokenize\u001b[0;34m(text, lowercase, deacc, encoding, errors, to_lower, lower)\u001b[0m\n\u001b[1;32m    250\u001b[0m     \"\"\"\n\u001b[1;32m    251\u001b[0m     \u001b[0mlowercase\u001b[0m \u001b[0;34m=\u001b[0m \u001b[0mlowercase\u001b[0m \u001b[0;32mor\u001b[0m \u001b[0mto_lower\u001b[0m \u001b[0;32mor\u001b[0m \u001b[0mlower\u001b[0m\u001b[0;34m\u001b[0m\u001b[0;34m\u001b[0m\u001b[0m\n\u001b[0;32m--> 252\u001b[0;31m     \u001b[0mtext\u001b[0m \u001b[0;34m=\u001b[0m \u001b[0mto_unicode\u001b[0m\u001b[0;34m(\u001b[0m\u001b[0mtext\u001b[0m\u001b[0;34m,\u001b[0m \u001b[0mencoding\u001b[0m\u001b[0;34m,\u001b[0m \u001b[0merrors\u001b[0m\u001b[0;34m=\u001b[0m\u001b[0merrors\u001b[0m\u001b[0;34m)\u001b[0m\u001b[0;34m\u001b[0m\u001b[0;34m\u001b[0m\u001b[0m\n\u001b[0m\u001b[1;32m    253\u001b[0m     \u001b[0;32mif\u001b[0m \u001b[0mlowercase\u001b[0m\u001b[0;34m:\u001b[0m\u001b[0;34m\u001b[0m\u001b[0;34m\u001b[0m\u001b[0m\n\u001b[1;32m    254\u001b[0m         \u001b[0mtext\u001b[0m \u001b[0;34m=\u001b[0m \u001b[0mtext\u001b[0m\u001b[0;34m.\u001b[0m\u001b[0mlower\u001b[0m\u001b[0;34m(\u001b[0m\u001b[0;34m)\u001b[0m\u001b[0;34m\u001b[0m\u001b[0;34m\u001b[0m\u001b[0m\n",
            "\u001b[0;32m/usr/local/lib/python3.6/dist-packages/gensim/utils.py\u001b[0m in \u001b[0;36many2unicode\u001b[0;34m(text, encoding, errors)\u001b[0m\n\u001b[1;32m    353\u001b[0m     \u001b[0;32mif\u001b[0m \u001b[0misinstance\u001b[0m\u001b[0;34m(\u001b[0m\u001b[0mtext\u001b[0m\u001b[0;34m,\u001b[0m \u001b[0municode\u001b[0m\u001b[0;34m)\u001b[0m\u001b[0;34m:\u001b[0m\u001b[0;34m\u001b[0m\u001b[0;34m\u001b[0m\u001b[0m\n\u001b[1;32m    354\u001b[0m         \u001b[0;32mreturn\u001b[0m \u001b[0mtext\u001b[0m\u001b[0;34m\u001b[0m\u001b[0;34m\u001b[0m\u001b[0m\n\u001b[0;32m--> 355\u001b[0;31m     \u001b[0;32mreturn\u001b[0m \u001b[0municode\u001b[0m\u001b[0;34m(\u001b[0m\u001b[0mtext\u001b[0m\u001b[0;34m,\u001b[0m \u001b[0mencoding\u001b[0m\u001b[0;34m,\u001b[0m \u001b[0merrors\u001b[0m\u001b[0;34m=\u001b[0m\u001b[0merrors\u001b[0m\u001b[0;34m)\u001b[0m\u001b[0;34m\u001b[0m\u001b[0;34m\u001b[0m\u001b[0m\n\u001b[0m\u001b[1;32m    356\u001b[0m \u001b[0;34m\u001b[0m\u001b[0m\n\u001b[1;32m    357\u001b[0m \u001b[0;34m\u001b[0m\u001b[0m\n",
            "\u001b[0;31mTypeError\u001b[0m: decoding to str: need a bytes-like object, list found"
          ]
        }
      ]
    },
    {
      "cell_type": "code",
      "metadata": {
        "id": "F5fctf6Y04-h",
        "colab_type": "code",
        "outputId": "e9c77e94-0d6d-4ec3-c93f-5519062316d1",
        "colab": {
          "base_uri": "https://localhost:8080/",
          "height": 221
        }
      },
      "source": [
        "df['Race']"
      ],
      "execution_count": 0,
      "outputs": [
        {
          "output_type": "execute_result",
          "data": {
            "text/plain": [
              "0       [hybrid]\n",
              "1       [sativa]\n",
              "2       [hybrid]\n",
              "3       [hybrid]\n",
              "4       [indica]\n",
              "          ...   \n",
              "2344    [hybrid]\n",
              "2345    [indica]\n",
              "2346    [indica]\n",
              "2347    [indica]\n",
              "2348    [indica]\n",
              "Name: Race, Length: 2349, dtype: object"
            ]
          },
          "metadata": {
            "tags": []
          },
          "execution_count": 180
        }
      ]
    },
    {
      "cell_type": "code",
      "metadata": {
        "id": "Q5uF_27m11-2",
        "colab_type": "code",
        "colab": {}
      },
      "source": [
        "df_user = df_user.replace(np.nan, '')"
      ],
      "execution_count": 0,
      "outputs": []
    },
    {
      "cell_type": "code",
      "metadata": {
        "id": "vy2r4Q3R2F8B",
        "colab_type": "code",
        "colab": {}
      },
      "source": [
        "df = df.replace(np.nan, '')"
      ],
      "execution_count": 0,
      "outputs": []
    },
    {
      "cell_type": "code",
      "metadata": {
        "id": "4oDJbj5K2Ua5",
        "colab_type": "code",
        "outputId": "8f4e2056-3f10-402e-f441-883981eeef3e",
        "colab": {
          "base_uri": "https://localhost:8080/",
          "height": 187
        }
      },
      "source": [
        "(df.isnull() == True).sum()"
      ],
      "execution_count": 0,
      "outputs": [
        {
          "output_type": "execute_result",
          "data": {
            "text/plain": [
              "Id             0\n",
              "Strain         0\n",
              "Race           0\n",
              "Flavors        0\n",
              "Positive       0\n",
              "Negative       0\n",
              "Medical        0\n",
              "Rating         0\n",
              "Description    0\n",
              "dtype: int64"
            ]
          },
          "metadata": {
            "tags": []
          },
          "execution_count": 183
        }
      ]
    },
    {
      "cell_type": "code",
      "metadata": {
        "id": "W5KgZdsWtbKq",
        "colab_type": "code",
        "outputId": "cbc2dfd7-bfa8-486f-949e-34f0ca926c70",
        "colab": {
          "base_uri": "https://localhost:8080/",
          "height": 1000
        }
      },
      "source": [
        "predict_user(model_one_data=df['Race'][0:50], user_input=[df_user['Race'][0]],)"
      ],
      "execution_count": 0,
      "outputs": [
        {
          "output_type": "stream",
          "text": [
            "    hybrid  indica  sativa\n",
            "0      1.0     0.0     0.0\n",
            "1      0.0     0.0     1.0\n",
            "2      1.0     0.0     0.0\n",
            "3      1.0     0.0     0.0\n",
            "4      0.0     1.0     0.0\n",
            "5      1.0     0.0     0.0\n",
            "6      0.0     1.0     0.0\n",
            "7      0.0     0.0     1.0\n",
            "8      1.0     0.0     0.0\n",
            "9      0.0     1.0     0.0\n",
            "10     1.0     0.0     0.0\n",
            "11     0.0     1.0     0.0\n",
            "12     1.0     0.0     0.0\n",
            "13     0.0     1.0     0.0\n",
            "14     0.0     1.0     0.0\n",
            "15     0.0     1.0     0.0\n",
            "16     0.0     1.0     0.0\n",
            "17     0.0     1.0     0.0\n",
            "18     1.0     0.0     0.0\n",
            "19     0.0     1.0     0.0\n",
            "20     1.0     0.0     0.0\n",
            "21     1.0     0.0     0.0\n",
            "22     1.0     0.0     0.0\n",
            "23     0.0     1.0     0.0\n",
            "24     0.0     0.0     1.0\n",
            "25     1.0     0.0     0.0\n",
            "26     0.0     1.0     0.0\n",
            "27     0.0     1.0     0.0\n",
            "28     0.0     0.0     1.0\n",
            "29     1.0     0.0     0.0\n",
            "30     0.0     0.0     1.0\n",
            "31     1.0     0.0     0.0\n",
            "32     0.0     1.0     0.0\n",
            "33     0.0     1.0     0.0\n",
            "34     0.0     0.0     1.0\n",
            "35     1.0     0.0     0.0\n",
            "36     0.0     1.0     0.0\n",
            "37     1.0     0.0     0.0\n",
            "38     0.0     1.0     0.0\n",
            "39     0.0     1.0     0.0\n",
            "40     0.0     1.0     0.0\n",
            "41     1.0     0.0     0.0\n",
            "42     0.0     1.0     0.0\n",
            "43     0.0     1.0     0.0\n",
            "44     1.0     0.0     0.0\n",
            "45     0.0     1.0     0.0\n",
            "46     0.0     1.0     0.0\n",
            "47     0.0     1.0     0.0\n",
            "48     0.0     1.0     0.0\n",
            "49     0.0     1.0     0.0\n"
          ],
          "name": "stdout"
        },
        {
          "output_type": "error",
          "ename": "TypeError",
          "evalue": "ignored",
          "traceback": [
            "\u001b[0;31m---------------------------------------------------------------------------\u001b[0m",
            "\u001b[0;31mTypeError\u001b[0m                                 Traceback (most recent call last)",
            "\u001b[0;32m<ipython-input-188-8f45bff8cc03>\u001b[0m in \u001b[0;36m<module>\u001b[0;34m()\u001b[0m\n\u001b[0;32m----> 1\u001b[0;31m \u001b[0mpredict_user\u001b[0m\u001b[0;34m(\u001b[0m\u001b[0mmodel_one_data\u001b[0m\u001b[0;34m=\u001b[0m\u001b[0mdf\u001b[0m\u001b[0;34m[\u001b[0m\u001b[0;34m'Race'\u001b[0m\u001b[0;34m]\u001b[0m\u001b[0;34m[\u001b[0m\u001b[0;36m0\u001b[0m\u001b[0;34m:\u001b[0m\u001b[0;36m50\u001b[0m\u001b[0;34m]\u001b[0m\u001b[0;34m,\u001b[0m \u001b[0muser_input\u001b[0m\u001b[0;34m=\u001b[0m\u001b[0;34m[\u001b[0m\u001b[0mdf_user\u001b[0m\u001b[0;34m[\u001b[0m\u001b[0;34m'Race'\u001b[0m\u001b[0;34m]\u001b[0m\u001b[0;34m[\u001b[0m\u001b[0;36m0\u001b[0m\u001b[0;34m]\u001b[0m\u001b[0;34m]\u001b[0m\u001b[0;34m,\u001b[0m\u001b[0;34m)\u001b[0m\u001b[0;34m\u001b[0m\u001b[0;34m\u001b[0m\u001b[0m\n\u001b[0m",
            "\u001b[0;32m<ipython-input-187-5cae9aeecd65>\u001b[0m in \u001b[0;36mpredict_user\u001b[0;34m(model_one_data, user_input)\u001b[0m\n\u001b[1;32m     14\u001b[0m \u001b[0;34m\u001b[0m\u001b[0m\n\u001b[1;32m     15\u001b[0m   \u001b[0mnew\u001b[0m \u001b[0;34m=\u001b[0m \u001b[0mtfidf\u001b[0m\u001b[0;34m.\u001b[0m\u001b[0mtransform\u001b[0m\u001b[0;34m(\u001b[0m\u001b[0muser_input\u001b[0m\u001b[0;34m)\u001b[0m\u001b[0;34m\u001b[0m\u001b[0;34m\u001b[0m\u001b[0m\n\u001b[0;32m---> 16\u001b[0;31m   \u001b[0mresult\u001b[0m \u001b[0;34m=\u001b[0m \u001b[0mnn\u001b[0m\u001b[0;34m.\u001b[0m\u001b[0mkneighbors\u001b[0m\u001b[0;34m(\u001b[0m\u001b[0mnew\u001b[0m\u001b[0;34m.\u001b[0m\u001b[0mtodense\u001b[0m\u001b[0;34m(\u001b[0m\u001b[0;34m)\u001b[0m\u001b[0;34m)\u001b[0m\u001b[0;34m\u001b[0m\u001b[0;34m\u001b[0m\u001b[0m\n\u001b[0m\u001b[1;32m     17\u001b[0m \u001b[0;34m\u001b[0m\u001b[0m\n\u001b[1;32m     18\u001b[0m   \u001b[0;32mreturn\u001b[0m \u001b[0mresult\u001b[0m\u001b[0;34m\u001b[0m\u001b[0;34m\u001b[0m\u001b[0m\n",
            "\u001b[0;32m/usr/local/lib/python3.6/dist-packages/sklearn/neighbors/_base.py\u001b[0m in \u001b[0;36mkneighbors\u001b[0;34m(self, X, n_neighbors, return_distance)\u001b[0m\n\u001b[1;32m    581\u001b[0m \u001b[0;34m\u001b[0m\u001b[0m\n\u001b[1;32m    582\u001b[0m         \"\"\"\n\u001b[0;32m--> 583\u001b[0;31m         \u001b[0mcheck_is_fitted\u001b[0m\u001b[0;34m(\u001b[0m\u001b[0mself\u001b[0m\u001b[0;34m)\u001b[0m\u001b[0;34m\u001b[0m\u001b[0;34m\u001b[0m\u001b[0m\n\u001b[0m\u001b[1;32m    584\u001b[0m \u001b[0;34m\u001b[0m\u001b[0m\n\u001b[1;32m    585\u001b[0m         \u001b[0;32mif\u001b[0m \u001b[0mn_neighbors\u001b[0m \u001b[0;32mis\u001b[0m \u001b[0;32mNone\u001b[0m\u001b[0;34m:\u001b[0m\u001b[0;34m\u001b[0m\u001b[0;34m\u001b[0m\u001b[0m\n",
            "\u001b[0;32m/usr/local/lib/python3.6/dist-packages/sklearn/utils/validation.py\u001b[0m in \u001b[0;36mcheck_is_fitted\u001b[0;34m(estimator, attributes, msg, all_or_any)\u001b[0m\n\u001b[1;32m    954\u001b[0m \u001b[0;34m\u001b[0m\u001b[0m\n\u001b[1;32m    955\u001b[0m     \u001b[0;32mif\u001b[0m \u001b[0;32mnot\u001b[0m \u001b[0mhasattr\u001b[0m\u001b[0;34m(\u001b[0m\u001b[0mestimator\u001b[0m\u001b[0;34m,\u001b[0m \u001b[0;34m'fit'\u001b[0m\u001b[0;34m)\u001b[0m\u001b[0;34m:\u001b[0m\u001b[0;34m\u001b[0m\u001b[0;34m\u001b[0m\u001b[0m\n\u001b[0;32m--> 956\u001b[0;31m         \u001b[0;32mraise\u001b[0m \u001b[0mTypeError\u001b[0m\u001b[0;34m(\u001b[0m\u001b[0;34m\"%s is not an estimator instance.\"\u001b[0m \u001b[0;34m%\u001b[0m \u001b[0;34m(\u001b[0m\u001b[0mestimator\u001b[0m\u001b[0;34m)\u001b[0m\u001b[0;34m)\u001b[0m\u001b[0;34m\u001b[0m\u001b[0;34m\u001b[0m\u001b[0m\n\u001b[0m\u001b[1;32m    957\u001b[0m \u001b[0;34m\u001b[0m\u001b[0m\n\u001b[1;32m    958\u001b[0m     \u001b[0;32mif\u001b[0m \u001b[0mattributes\u001b[0m \u001b[0;32mis\u001b[0m \u001b[0;32mnot\u001b[0m \u001b[0;32mNone\u001b[0m\u001b[0;34m:\u001b[0m\u001b[0;34m\u001b[0m\u001b[0;34m\u001b[0m\u001b[0m\n",
            "\u001b[0;31mTypeError\u001b[0m: [[0.55407783 0.         0.83246487]] is not an estimator instance."
          ]
        }
      ]
    },
    {
      "cell_type": "code",
      "metadata": {
        "id": "kkrHCMHst_zD",
        "colab_type": "code",
        "colab": {}
      },
      "source": [
        ""
      ],
      "execution_count": 0,
      "outputs": []
    },
    {
      "cell_type": "code",
      "metadata": {
        "id": "tbk8R-nMC3sN",
        "colab_type": "code",
        "colab": {}
      },
      "source": [
        ""
      ],
      "execution_count": 0,
      "outputs": []
    },
    {
      "cell_type": "code",
      "metadata": {
        "id": "GcJzpO8_C3u-",
        "colab_type": "code",
        "colab": {}
      },
      "source": [
        ""
      ],
      "execution_count": 0,
      "outputs": []
    },
    {
      "cell_type": "code",
      "metadata": {
        "id": "SwkwQHDRC3yD",
        "colab_type": "code",
        "colab": {}
      },
      "source": [
        "data = []"
      ],
      "execution_count": 0,
      "outputs": []
    }
  ]
}