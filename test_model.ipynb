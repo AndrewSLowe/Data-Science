{
 "cells": [
  {
   "cell_type": "code",
   "execution_count": 62,
   "metadata": {},
   "outputs": [],
   "source": [
    "import pandas as pd\n",
    "import numpy as np\n",
    "\n",
    "import spacy\n",
    "from spacy.tokenizer import Tokenizer\n",
    "from sklearn.externals import joblib \n",
    "\n",
    "nlp = spacy.load(\"en_core_web_lg\")"
   ]
  },
  {
   "cell_type": "code",
   "execution_count": 135,
   "metadata": {},
   "outputs": [
    {
     "name": "stdout",
     "output_type": "stream",
     "text": [
      "(2826, 9)\n"
     ]
    },
    {
     "data": {
      "text/html": [
       "<div>\n",
       "<style scoped>\n",
       "    .dataframe tbody tr th:only-of-type {\n",
       "        vertical-align: middle;\n",
       "    }\n",
       "\n",
       "    .dataframe tbody tr th {\n",
       "        vertical-align: top;\n",
       "    }\n",
       "\n",
       "    .dataframe thead th {\n",
       "        text-align: right;\n",
       "    }\n",
       "</style>\n",
       "<table border=\"1\" class=\"dataframe\">\n",
       "  <thead>\n",
       "    <tr style=\"text-align: right;\">\n",
       "      <th></th>\n",
       "      <th>id</th>\n",
       "      <th>name</th>\n",
       "      <th>race</th>\n",
       "      <th>flavors</th>\n",
       "      <th>positive</th>\n",
       "      <th>negative</th>\n",
       "      <th>medical</th>\n",
       "      <th>Rating</th>\n",
       "      <th>Description</th>\n",
       "    </tr>\n",
       "  </thead>\n",
       "  <tbody>\n",
       "    <tr>\n",
       "      <th>0</th>\n",
       "      <td>1</td>\n",
       "      <td>Afpak</td>\n",
       "      <td>hybrid</td>\n",
       "      <td>['Earthy', 'Chemical', 'Pine', 'Spicy/Herbal']</td>\n",
       "      <td>['Relaxed', 'Hungry', 'Happy', 'Sleepy', 'Crea...</td>\n",
       "      <td>['Dizzy']</td>\n",
       "      <td>['Depression', 'Insomnia', 'Pain', 'Stress', '...</td>\n",
       "      <td>4.2</td>\n",
       "      <td>Afpak, named for its direct Afghani and Pakist...</td>\n",
       "    </tr>\n",
       "    <tr>\n",
       "      <th>1</th>\n",
       "      <td>2</td>\n",
       "      <td>African</td>\n",
       "      <td>sativa</td>\n",
       "      <td>['Spicy/Herbal', 'Pungent', 'Earthy', 'Pepper']</td>\n",
       "      <td>['Euphoric', 'Happy', 'Creative', 'Energetic',...</td>\n",
       "      <td>['Dry Mouth']</td>\n",
       "      <td>['Depression', 'Pain', 'Stress', 'Lack of Appe...</td>\n",
       "      <td>3.9</td>\n",
       "      <td>African refers to the indigenous varieties of ...</td>\n",
       "    </tr>\n",
       "    <tr>\n",
       "      <th>2</th>\n",
       "      <td>3</td>\n",
       "      <td>Afternoon Delight</td>\n",
       "      <td>hybrid</td>\n",
       "      <td>['Pepper', 'Flowery', 'Pine', 'Pungent', 'Citr...</td>\n",
       "      <td>['Relaxed', 'Hungry', 'Euphoric', 'Uplifted', ...</td>\n",
       "      <td>['Dizzy', 'Dry Mouth', 'Paranoid']</td>\n",
       "      <td>['Depression', 'Insomnia', 'Pain', 'Stress', '...</td>\n",
       "      <td>4.8</td>\n",
       "      <td>Afternoon Delight, created by Colorado Seed In...</td>\n",
       "    </tr>\n",
       "    <tr>\n",
       "      <th>3</th>\n",
       "      <td>4</td>\n",
       "      <td>Afwreck</td>\n",
       "      <td>hybrid</td>\n",
       "      <td>['Pine', 'Earthy', 'Flowery', 'Pungent']</td>\n",
       "      <td>['Relaxed', 'Happy', 'Creative', 'Uplifted', '...</td>\n",
       "      <td>['Dizzy', 'Dry Mouth', 'Paranoid', 'Dry Eyes']</td>\n",
       "      <td>['Pain', 'Stress', 'Headache', 'Fatigue', 'Hea...</td>\n",
       "      <td>4.2</td>\n",
       "      <td>Afwreck is a hybrid cross of Afghani and Train...</td>\n",
       "    </tr>\n",
       "    <tr>\n",
       "      <th>4</th>\n",
       "      <td>5</td>\n",
       "      <td>Agent Orange</td>\n",
       "      <td>hybrid</td>\n",
       "      <td>['Citrus', 'Orange', 'Sweet', 'Earthy']</td>\n",
       "      <td>['Relaxed', 'Euphoric', 'Happy', 'Energetic', ...</td>\n",
       "      <td>['Dizzy', 'Dry Mouth', 'Paranoid', 'Dry Eyes']</td>\n",
       "      <td>['Depression', 'Pain', 'Stress', 'Nausea', 'He...</td>\n",
       "      <td>4.2</td>\n",
       "      <td>Don’t let the name scare you! The only herbici...</td>\n",
       "    </tr>\n",
       "  </tbody>\n",
       "</table>\n",
       "</div>"
      ],
      "text/plain": [
       "   id               name    race  \\\n",
       "0   1              Afpak  hybrid   \n",
       "1   2            African  sativa   \n",
       "2   3  Afternoon Delight  hybrid   \n",
       "3   4            Afwreck  hybrid   \n",
       "4   5       Agent Orange  hybrid   \n",
       "\n",
       "                                             flavors  \\\n",
       "0     ['Earthy', 'Chemical', 'Pine', 'Spicy/Herbal']   \n",
       "1    ['Spicy/Herbal', 'Pungent', 'Earthy', 'Pepper']   \n",
       "2  ['Pepper', 'Flowery', 'Pine', 'Pungent', 'Citr...   \n",
       "3           ['Pine', 'Earthy', 'Flowery', 'Pungent']   \n",
       "4            ['Citrus', 'Orange', 'Sweet', 'Earthy']   \n",
       "\n",
       "                                            positive  \\\n",
       "0  ['Relaxed', 'Hungry', 'Happy', 'Sleepy', 'Crea...   \n",
       "1  ['Euphoric', 'Happy', 'Creative', 'Energetic',...   \n",
       "2  ['Relaxed', 'Hungry', 'Euphoric', 'Uplifted', ...   \n",
       "3  ['Relaxed', 'Happy', 'Creative', 'Uplifted', '...   \n",
       "4  ['Relaxed', 'Euphoric', 'Happy', 'Energetic', ...   \n",
       "\n",
       "                                         negative  \\\n",
       "0                                       ['Dizzy']   \n",
       "1                                   ['Dry Mouth']   \n",
       "2              ['Dizzy', 'Dry Mouth', 'Paranoid']   \n",
       "3  ['Dizzy', 'Dry Mouth', 'Paranoid', 'Dry Eyes']   \n",
       "4  ['Dizzy', 'Dry Mouth', 'Paranoid', 'Dry Eyes']   \n",
       "\n",
       "                                             medical  Rating  \\\n",
       "0  ['Depression', 'Insomnia', 'Pain', 'Stress', '...     4.2   \n",
       "1  ['Depression', 'Pain', 'Stress', 'Lack of Appe...     3.9   \n",
       "2  ['Depression', 'Insomnia', 'Pain', 'Stress', '...     4.8   \n",
       "3  ['Pain', 'Stress', 'Headache', 'Fatigue', 'Hea...     4.2   \n",
       "4  ['Depression', 'Pain', 'Stress', 'Nausea', 'He...     4.2   \n",
       "\n",
       "                                         Description  \n",
       "0  Afpak, named for its direct Afghani and Pakist...  \n",
       "1  African refers to the indigenous varieties of ...  \n",
       "2  Afternoon Delight, created by Colorado Seed In...  \n",
       "3  Afwreck is a hybrid cross of Afghani and Train...  \n",
       "4  Don’t let the name scare you! The only herbici...  "
      ]
     },
     "execution_count": 135,
     "metadata": {},
     "output_type": "execute_result"
    }
   ],
   "source": [
    "data = pd.read_csv('./merged.csv', na_values='None')\n",
    "print(data.shape)\n",
    "data.head()"
   ]
  },
  {
   "cell_type": "code",
   "execution_count": 137,
   "metadata": {},
   "outputs": [],
   "source": [
    "data['all_text'] = data['name'] + ' ' + data['race'] + ' ' + data.flavors  + ' ' + data.positive  + ' ' + data.negative  + ' ' + data.medical  + ' ' + data.Description"
   ]
  },
  {
   "cell_type": "code",
   "execution_count": 139,
   "metadata": {},
   "outputs": [],
   "source": [
    "tokenizer = Tokenizer(nlp.vocab)"
   ]
  },
  {
   "cell_type": "code",
   "execution_count": 140,
   "metadata": {},
   "outputs": [],
   "source": [
    "tokens = []\n",
    "\n",
    "for doc in tokenizer.pipe(data['all_text'], batch_size=500):\n",
    "    \n",
    "    doc_tokens = []\n",
    "    \n",
    "    for token in doc:\n",
    "        if (token.is_stop == False) & (token.is_punct == False):\n",
    "            doc_tokens.append(token.text.lower())\n",
    "\n",
    "    tokens.append(doc_tokens)\n",
    "\n",
    "data['tokens'] = tokens"
   ]
  },
  {
   "cell_type": "code",
   "execution_count": 141,
   "metadata": {},
   "outputs": [
    {
     "data": {
      "text/html": [
       "<div>\n",
       "<style scoped>\n",
       "    .dataframe tbody tr th:only-of-type {\n",
       "        vertical-align: middle;\n",
       "    }\n",
       "\n",
       "    .dataframe tbody tr th {\n",
       "        vertical-align: top;\n",
       "    }\n",
       "\n",
       "    .dataframe thead th {\n",
       "        text-align: right;\n",
       "    }\n",
       "</style>\n",
       "<table border=\"1\" class=\"dataframe\">\n",
       "  <thead>\n",
       "    <tr style=\"text-align: right;\">\n",
       "      <th></th>\n",
       "      <th>id</th>\n",
       "      <th>name</th>\n",
       "      <th>race</th>\n",
       "      <th>flavors</th>\n",
       "      <th>positive</th>\n",
       "      <th>negative</th>\n",
       "      <th>medical</th>\n",
       "      <th>Rating</th>\n",
       "      <th>Description</th>\n",
       "      <th>all_text</th>\n",
       "      <th>tokens</th>\n",
       "    </tr>\n",
       "  </thead>\n",
       "  <tbody>\n",
       "    <tr>\n",
       "      <th>0</th>\n",
       "      <td>1</td>\n",
       "      <td>Afpak</td>\n",
       "      <td>hybrid</td>\n",
       "      <td>['Earthy', 'Chemical', 'Pine', 'Spicy/Herbal']</td>\n",
       "      <td>['Relaxed', 'Hungry', 'Happy', 'Sleepy', 'Crea...</td>\n",
       "      <td>['Dizzy']</td>\n",
       "      <td>['Depression', 'Insomnia', 'Pain', 'Stress', '...</td>\n",
       "      <td>4.2</td>\n",
       "      <td>Afpak, named for its direct Afghani and Pakist...</td>\n",
       "      <td>Afpak hybrid ['Earthy', 'Chemical', 'Pine', 'S...</td>\n",
       "      <td>[afpak, hybrid, ['earthy',, 'chemical',, 'pine...</td>\n",
       "    </tr>\n",
       "    <tr>\n",
       "      <th>1</th>\n",
       "      <td>2</td>\n",
       "      <td>African</td>\n",
       "      <td>sativa</td>\n",
       "      <td>['Spicy/Herbal', 'Pungent', 'Earthy', 'Pepper']</td>\n",
       "      <td>['Euphoric', 'Happy', 'Creative', 'Energetic',...</td>\n",
       "      <td>['Dry Mouth']</td>\n",
       "      <td>['Depression', 'Pain', 'Stress', 'Lack of Appe...</td>\n",
       "      <td>3.9</td>\n",
       "      <td>African refers to the indigenous varieties of ...</td>\n",
       "      <td>African sativa ['Spicy/Herbal', 'Pungent', 'Ea...</td>\n",
       "      <td>[african, sativa, ['spicy/herbal',, 'pungent',...</td>\n",
       "    </tr>\n",
       "    <tr>\n",
       "      <th>2</th>\n",
       "      <td>3</td>\n",
       "      <td>Afternoon Delight</td>\n",
       "      <td>hybrid</td>\n",
       "      <td>['Pepper', 'Flowery', 'Pine', 'Pungent', 'Citr...</td>\n",
       "      <td>['Relaxed', 'Hungry', 'Euphoric', 'Uplifted', ...</td>\n",
       "      <td>['Dizzy', 'Dry Mouth', 'Paranoid']</td>\n",
       "      <td>['Depression', 'Insomnia', 'Pain', 'Stress', '...</td>\n",
       "      <td>4.8</td>\n",
       "      <td>Afternoon Delight, created by Colorado Seed In...</td>\n",
       "      <td>Afternoon Delight hybrid ['Pepper', 'Flowery',...</td>\n",
       "      <td>[afternoon, delight, hybrid, ['pepper',, 'flow...</td>\n",
       "    </tr>\n",
       "    <tr>\n",
       "      <th>3</th>\n",
       "      <td>4</td>\n",
       "      <td>Afwreck</td>\n",
       "      <td>hybrid</td>\n",
       "      <td>['Pine', 'Earthy', 'Flowery', 'Pungent']</td>\n",
       "      <td>['Relaxed', 'Happy', 'Creative', 'Uplifted', '...</td>\n",
       "      <td>['Dizzy', 'Dry Mouth', 'Paranoid', 'Dry Eyes']</td>\n",
       "      <td>['Pain', 'Stress', 'Headache', 'Fatigue', 'Hea...</td>\n",
       "      <td>4.2</td>\n",
       "      <td>Afwreck is a hybrid cross of Afghani and Train...</td>\n",
       "      <td>Afwreck hybrid ['Pine', 'Earthy', 'Flowery', '...</td>\n",
       "      <td>[afwreck, hybrid, ['pine',, 'earthy',, 'flower...</td>\n",
       "    </tr>\n",
       "    <tr>\n",
       "      <th>4</th>\n",
       "      <td>5</td>\n",
       "      <td>Agent Orange</td>\n",
       "      <td>hybrid</td>\n",
       "      <td>['Citrus', 'Orange', 'Sweet', 'Earthy']</td>\n",
       "      <td>['Relaxed', 'Euphoric', 'Happy', 'Energetic', ...</td>\n",
       "      <td>['Dizzy', 'Dry Mouth', 'Paranoid', 'Dry Eyes']</td>\n",
       "      <td>['Depression', 'Pain', 'Stress', 'Nausea', 'He...</td>\n",
       "      <td>4.2</td>\n",
       "      <td>Don’t let the name scare you! The only herbici...</td>\n",
       "      <td>Agent Orange hybrid ['Citrus', 'Orange', 'Swee...</td>\n",
       "      <td>[agent, orange, hybrid, ['citrus',, 'orange',,...</td>\n",
       "    </tr>\n",
       "  </tbody>\n",
       "</table>\n",
       "</div>"
      ],
      "text/plain": [
       "   id               name    race  \\\n",
       "0   1              Afpak  hybrid   \n",
       "1   2            African  sativa   \n",
       "2   3  Afternoon Delight  hybrid   \n",
       "3   4            Afwreck  hybrid   \n",
       "4   5       Agent Orange  hybrid   \n",
       "\n",
       "                                             flavors  \\\n",
       "0     ['Earthy', 'Chemical', 'Pine', 'Spicy/Herbal']   \n",
       "1    ['Spicy/Herbal', 'Pungent', 'Earthy', 'Pepper']   \n",
       "2  ['Pepper', 'Flowery', 'Pine', 'Pungent', 'Citr...   \n",
       "3           ['Pine', 'Earthy', 'Flowery', 'Pungent']   \n",
       "4            ['Citrus', 'Orange', 'Sweet', 'Earthy']   \n",
       "\n",
       "                                            positive  \\\n",
       "0  ['Relaxed', 'Hungry', 'Happy', 'Sleepy', 'Crea...   \n",
       "1  ['Euphoric', 'Happy', 'Creative', 'Energetic',...   \n",
       "2  ['Relaxed', 'Hungry', 'Euphoric', 'Uplifted', ...   \n",
       "3  ['Relaxed', 'Happy', 'Creative', 'Uplifted', '...   \n",
       "4  ['Relaxed', 'Euphoric', 'Happy', 'Energetic', ...   \n",
       "\n",
       "                                         negative  \\\n",
       "0                                       ['Dizzy']   \n",
       "1                                   ['Dry Mouth']   \n",
       "2              ['Dizzy', 'Dry Mouth', 'Paranoid']   \n",
       "3  ['Dizzy', 'Dry Mouth', 'Paranoid', 'Dry Eyes']   \n",
       "4  ['Dizzy', 'Dry Mouth', 'Paranoid', 'Dry Eyes']   \n",
       "\n",
       "                                             medical  Rating  \\\n",
       "0  ['Depression', 'Insomnia', 'Pain', 'Stress', '...     4.2   \n",
       "1  ['Depression', 'Pain', 'Stress', 'Lack of Appe...     3.9   \n",
       "2  ['Depression', 'Insomnia', 'Pain', 'Stress', '...     4.8   \n",
       "3  ['Pain', 'Stress', 'Headache', 'Fatigue', 'Hea...     4.2   \n",
       "4  ['Depression', 'Pain', 'Stress', 'Nausea', 'He...     4.2   \n",
       "\n",
       "                                         Description  \\\n",
       "0  Afpak, named for its direct Afghani and Pakist...   \n",
       "1  African refers to the indigenous varieties of ...   \n",
       "2  Afternoon Delight, created by Colorado Seed In...   \n",
       "3  Afwreck is a hybrid cross of Afghani and Train...   \n",
       "4  Don’t let the name scare you! The only herbici...   \n",
       "\n",
       "                                            all_text  \\\n",
       "0  Afpak hybrid ['Earthy', 'Chemical', 'Pine', 'S...   \n",
       "1  African sativa ['Spicy/Herbal', 'Pungent', 'Ea...   \n",
       "2  Afternoon Delight hybrid ['Pepper', 'Flowery',...   \n",
       "3  Afwreck hybrid ['Pine', 'Earthy', 'Flowery', '...   \n",
       "4  Agent Orange hybrid ['Citrus', 'Orange', 'Swee...   \n",
       "\n",
       "                                              tokens  \n",
       "0  [afpak, hybrid, ['earthy',, 'chemical',, 'pine...  \n",
       "1  [african, sativa, ['spicy/herbal',, 'pungent',...  \n",
       "2  [afternoon, delight, hybrid, ['pepper',, 'flow...  \n",
       "3  [afwreck, hybrid, ['pine',, 'earthy',, 'flower...  \n",
       "4  [agent, orange, hybrid, ['citrus',, 'orange',,...  "
      ]
     },
     "execution_count": 141,
     "metadata": {},
     "output_type": "execute_result"
    }
   ],
   "source": [
    "data.head()"
   ]
  },
  {
   "cell_type": "code",
   "execution_count": 142,
   "metadata": {},
   "outputs": [],
   "source": [
    "# The data was an Object; I had to do this to make it strings rather than lists.\n",
    "\n",
    "data['work_plz']=[\" \".join(string) for string in data['tokens'].values]"
   ]
  },
  {
   "cell_type": "code",
   "execution_count": 144,
   "metadata": {},
   "outputs": [
    {
     "data": {
      "text/plain": [
       "(2826, 8814)"
      ]
     },
     "execution_count": 144,
     "metadata": {},
     "output_type": "execute_result"
    }
   ],
   "source": [
    "from sklearn.feature_extraction.text import TfidfVectorizer\n",
    "\n",
    "tfidf = TfidfVectorizer()\n",
    "dtm = tfidf.fit_transform(data['work_plz'])\n",
    "dtm = pd.DataFrame(dtm.todense(), columns=tfidf.get_feature_names())\n",
    "\n",
    "# View Feature Matrix as DataFrame\n",
    "dtm.shape"
   ]
  },
  {
   "cell_type": "code",
   "execution_count": 145,
   "metadata": {},
   "outputs": [
    {
     "data": {
      "text/plain": [
       "NearestNeighbors(algorithm='kd_tree', leaf_size=30, metric='minkowski',\n",
       "         metric_params=None, n_jobs=None, n_neighbors=5, p=2, radius=1.0)"
      ]
     },
     "execution_count": 145,
     "metadata": {},
     "output_type": "execute_result"
    }
   ],
   "source": [
    "from sklearn.neighbors import NearestNeighbors\n",
    "\n",
    "# Fit on DTM\n",
    "nn = NearestNeighbors(n_neighbors=5, algorithm='kd_tree')\n",
    "nn.fit(dtm)"
   ]
  },
  {
   "cell_type": "code",
   "execution_count": 147,
   "metadata": {},
   "outputs": [
    {
     "data": {
      "text/plain": [
       "(array([[0.        , 1.22555965, 1.24215367, 1.25453501, 1.26453768]]),\n",
       " array([[1000, 1994, 1646, 1686, 1297]]))"
      ]
     },
     "execution_count": 147,
     "metadata": {},
     "output_type": "execute_result"
    }
   ],
   "source": [
    "nn.kneighbors([dtm.iloc[1000]])  # The second set of values are the suggested strains."
   ]
  },
  {
   "cell_type": "code",
   "execution_count": 149,
   "metadata": {},
   "outputs": [],
   "source": [
    "test_phrase = [\"\"\"\n",
    "This is a test to see if the model predicts properly\n",
    "\"\"\"]"
   ]
  },
  {
   "cell_type": "code",
   "execution_count": 150,
   "metadata": {},
   "outputs": [],
   "source": [
    "new = tfidf.transform(test_phrase)"
   ]
  },
  {
   "cell_type": "code",
   "execution_count": 151,
   "metadata": {},
   "outputs": [
    {
     "data": {
      "text/plain": [
       "(array([[1.33120341, 1.33758175, 1.34028308, 1.34882354, 1.35019649]]),\n",
       " array([[2192, 2580, 2042, 2589, 2413]]))"
      ]
     },
     "execution_count": 151,
     "metadata": {},
     "output_type": "execute_result"
    }
   ],
   "source": [
    "nn.kneighbors(new.todense())  # The second set of values are the suggested strains."
   ]
  },
  {
   "cell_type": "code",
   "execution_count": 153,
   "metadata": {},
   "outputs": [
    {
     "data": {
      "text/plain": [
       "['test_compressed.pkl']"
      ]
     },
     "execution_count": 153,
     "metadata": {},
     "output_type": "execute_result"
    }
   ],
   "source": [
    "joblib.dump(nn, 'test_compressed.pkl', compress=3)"
   ]
  },
  {
   "cell_type": "code",
   "execution_count": 154,
   "metadata": {},
   "outputs": [
    {
     "data": {
      "text/plain": [
       "['test_tfidf.pkl']"
      ]
     },
     "execution_count": 154,
     "metadata": {},
     "output_type": "execute_result"
    }
   ],
   "source": [
    "joblib.dump(tfidf, \"test_tfidf.pkl\")"
   ]
  }
 ],
 "metadata": {
  "kernelspec": {
   "display_name": "U4-S1 (Python3)\n",
   "language": "python",
   "name": "u4-s1"
  },
  "language_info": {
   "codemirror_mode": {
    "name": "ipython",
    "version": 3
   },
   "file_extension": ".py",
   "mimetype": "text/x-python",
   "name": "python",
   "nbconvert_exporter": "python",
   "pygments_lexer": "ipython3",
   "version": "3.7.0"
  }
 },
 "nbformat": 4,
 "nbformat_minor": 4
}
