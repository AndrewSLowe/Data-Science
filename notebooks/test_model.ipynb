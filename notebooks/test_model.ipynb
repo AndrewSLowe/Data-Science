{
 "cells": [
  {
   "cell_type": "code",
   "execution_count": 3,
   "metadata": {},
   "outputs": [],
   "source": [
    "import pandas as pd\n",
    "import numpy as np\n",
    "\n",
    "import spacy\n",
    "from spacy.tokenizer import Tokenizer\n",
    "\n",
    "from sklearn.externals import joblib \n",
    "from sklearn.feature_extraction.text import TfidfVectorizer\n",
    "from sklearn.neighbors import NearestNeighbors\n",
    "\n",
    "# nlp = spacy.load(\"en_core_web_lg\")"
   ]
  },
  {
   "cell_type": "code",
   "execution_count": 4,
   "metadata": {},
   "outputs": [
    {
     "name": "stdout",
     "output_type": "stream",
     "text": [
      "(2349, 11)\n"
     ]
    },
    {
     "data": {
      "text/html": [
       "<div>\n",
       "<style scoped>\n",
       "    .dataframe tbody tr th:only-of-type {\n",
       "        vertical-align: middle;\n",
       "    }\n",
       "\n",
       "    .dataframe tbody tr th {\n",
       "        vertical-align: top;\n",
       "    }\n",
       "\n",
       "    .dataframe thead th {\n",
       "        text-align: right;\n",
       "    }\n",
       "</style>\n",
       "<table border=\"1\" class=\"dataframe\">\n",
       "  <thead>\n",
       "    <tr style=\"text-align: right;\">\n",
       "      <th></th>\n",
       "      <th>Unnamed: 0</th>\n",
       "      <th>Id</th>\n",
       "      <th>Strain</th>\n",
       "      <th>Race</th>\n",
       "      <th>Flavors</th>\n",
       "      <th>Positive</th>\n",
       "      <th>Negative</th>\n",
       "      <th>Medical</th>\n",
       "      <th>Rating</th>\n",
       "      <th>Description</th>\n",
       "      <th>everything</th>\n",
       "    </tr>\n",
       "  </thead>\n",
       "  <tbody>\n",
       "    <tr>\n",
       "      <th>0</th>\n",
       "      <td>0</td>\n",
       "      <td>0</td>\n",
       "      <td>100 Og</td>\n",
       "      <td>hybrid</td>\n",
       "      <td>Earthy, Sweet, Citrus</td>\n",
       "      <td>Creative, Energetic, Tingly, Euphoric, Relaxed</td>\n",
       "      <td>Dizzy, Dry Mouth, Paranoid, Anxious</td>\n",
       "      <td>Depression, Stress, Fatigue</td>\n",
       "      <td>4.0</td>\n",
       "      <td>$100 OG is a 50/50 hybrid strain that packs a ...</td>\n",
       "      <td>Earthy, Sweet, Citrus,Creative, Energetic, Tin...</td>\n",
       "    </tr>\n",
       "    <tr>\n",
       "      <th>1</th>\n",
       "      <td>1</td>\n",
       "      <td>1</td>\n",
       "      <td>1024</td>\n",
       "      <td>sativa</td>\n",
       "      <td>Spicy/Herbal, Sage, Woody</td>\n",
       "      <td>Uplifted, Happy, Relaxed, Energetic, Creative</td>\n",
       "      <td>Dizzy, Dry Mouth, Paranoid, Anxious</td>\n",
       "      <td>Depression, Stress, Fatigue</td>\n",
       "      <td>4.4</td>\n",
       "      <td>1024 is a sativa-dominant hybrid bred in Spain...</td>\n",
       "      <td>Spicy/Herbal, Sage, Woody,Uplifted, Happy, Rel...</td>\n",
       "    </tr>\n",
       "    <tr>\n",
       "      <th>2</th>\n",
       "      <td>2</td>\n",
       "      <td>2</td>\n",
       "      <td>13 Dawgs</td>\n",
       "      <td>hybrid</td>\n",
       "      <td>Apricot, Citrus, Grapefruit</td>\n",
       "      <td>Tingly, Creative, Hungry, Relaxed, Uplifted</td>\n",
       "      <td>Dizzy, Dry Mouth, Paranoid, Anxious</td>\n",
       "      <td>Depression, Stress, Fatigue</td>\n",
       "      <td>4.2</td>\n",
       "      <td>13 Dawgs is a hybrid of G13 and Chemdawg genet...</td>\n",
       "      <td>Apricot, Citrus, Grapefruit,Tingly, Creative, ...</td>\n",
       "    </tr>\n",
       "    <tr>\n",
       "      <th>3</th>\n",
       "      <td>3</td>\n",
       "      <td>3</td>\n",
       "      <td>24K Gold</td>\n",
       "      <td>hybrid</td>\n",
       "      <td>Citrus, Earthy, Orange</td>\n",
       "      <td>Happy, Relaxed, Euphoric, Uplifted, Talkative</td>\n",
       "      <td>Dizzy, Dry Mouth, Paranoid, Anxious</td>\n",
       "      <td>Depression, Stress, Fatigue</td>\n",
       "      <td>4.6</td>\n",
       "      <td>Also known as Kosher Tangie, 24k Gold is a 60%...</td>\n",
       "      <td>Citrus, Earthy, Orange,Happy, Relaxed, Euphori...</td>\n",
       "    </tr>\n",
       "    <tr>\n",
       "      <th>4</th>\n",
       "      <td>4</td>\n",
       "      <td>4</td>\n",
       "      <td>3 Bears Og</td>\n",
       "      <td>indica</td>\n",
       "      <td>Sweet, Pungent, Earthy</td>\n",
       "      <td>Relaxed, Happy, Sleepy, Creative, Euphoric</td>\n",
       "      <td>Dizzy, Dry Mouth, Paranoid, Anxious</td>\n",
       "      <td>Depression, Stress, Fatigue</td>\n",
       "      <td>4.4</td>\n",
       "      <td>3 Bears OG by Mephisto Genetics is an autoflow...</td>\n",
       "      <td>Sweet, Pungent, Earthy,Relaxed, Happy, Sleepy,...</td>\n",
       "    </tr>\n",
       "  </tbody>\n",
       "</table>\n",
       "</div>"
      ],
      "text/plain": [
       "   Unnamed: 0  Id      Strain    Race                      Flavors  \\\n",
       "0           0   0      100 Og  hybrid        Earthy, Sweet, Citrus   \n",
       "1           1   1        1024  sativa    Spicy/Herbal, Sage, Woody   \n",
       "2           2   2    13 Dawgs  hybrid  Apricot, Citrus, Grapefruit   \n",
       "3           3   3    24K Gold  hybrid       Citrus, Earthy, Orange   \n",
       "4           4   4  3 Bears Og  indica       Sweet, Pungent, Earthy   \n",
       "\n",
       "                                         Positive  \\\n",
       "0  Creative, Energetic, Tingly, Euphoric, Relaxed   \n",
       "1   Uplifted, Happy, Relaxed, Energetic, Creative   \n",
       "2     Tingly, Creative, Hungry, Relaxed, Uplifted   \n",
       "3   Happy, Relaxed, Euphoric, Uplifted, Talkative   \n",
       "4      Relaxed, Happy, Sleepy, Creative, Euphoric   \n",
       "\n",
       "                              Negative                      Medical  Rating  \\\n",
       "0  Dizzy, Dry Mouth, Paranoid, Anxious  Depression, Stress, Fatigue     4.0   \n",
       "1  Dizzy, Dry Mouth, Paranoid, Anxious  Depression, Stress, Fatigue     4.4   \n",
       "2  Dizzy, Dry Mouth, Paranoid, Anxious  Depression, Stress, Fatigue     4.2   \n",
       "3  Dizzy, Dry Mouth, Paranoid, Anxious  Depression, Stress, Fatigue     4.6   \n",
       "4  Dizzy, Dry Mouth, Paranoid, Anxious  Depression, Stress, Fatigue     4.4   \n",
       "\n",
       "                                         Description  \\\n",
       "0  $100 OG is a 50/50 hybrid strain that packs a ...   \n",
       "1  1024 is a sativa-dominant hybrid bred in Spain...   \n",
       "2  13 Dawgs is a hybrid of G13 and Chemdawg genet...   \n",
       "3  Also known as Kosher Tangie, 24k Gold is a 60%...   \n",
       "4  3 Bears OG by Mephisto Genetics is an autoflow...   \n",
       "\n",
       "                                          everything  \n",
       "0  Earthy, Sweet, Citrus,Creative, Energetic, Tin...  \n",
       "1  Spicy/Herbal, Sage, Woody,Uplifted, Happy, Rel...  \n",
       "2  Apricot, Citrus, Grapefruit,Tingly, Creative, ...  \n",
       "3  Citrus, Earthy, Orange,Happy, Relaxed, Euphori...  \n",
       "4  Sweet, Pungent, Earthy,Relaxed, Happy, Sleepy,...  "
      ]
     },
     "execution_count": 4,
     "metadata": {},
     "output_type": "execute_result"
    }
   ],
   "source": [
    "data = pd.read_csv('../DS_strain_data.csv', na_values='None')\n",
    "# data = data.set_index('name')\n",
    "print(data.shape)\n",
    "data.head()"
   ]
  },
  {
   "cell_type": "code",
   "execution_count": 5,
   "metadata": {},
   "outputs": [],
   "source": [
    "from gensim.utils import simple_preprocess\n",
    "\n",
    "def tokenize(text):\n",
    "    return [token for token in simple_preprocess(text)]"
   ]
  },
  {
   "cell_type": "code",
   "execution_count": 6,
   "metadata": {},
   "outputs": [
    {
     "data": {
      "text/html": [
       "<div>\n",
       "<style scoped>\n",
       "    .dataframe tbody tr th:only-of-type {\n",
       "        vertical-align: middle;\n",
       "    }\n",
       "\n",
       "    .dataframe tbody tr th {\n",
       "        vertical-align: top;\n",
       "    }\n",
       "\n",
       "    .dataframe thead th {\n",
       "        text-align: right;\n",
       "    }\n",
       "</style>\n",
       "<table border=\"1\" class=\"dataframe\">\n",
       "  <thead>\n",
       "    <tr style=\"text-align: right;\">\n",
       "      <th></th>\n",
       "      <th>ammonia</th>\n",
       "      <th>anxious</th>\n",
       "      <th>appetite</th>\n",
       "      <th>apple</th>\n",
       "      <th>apricot</th>\n",
       "      <th>aroused</th>\n",
       "      <th>berry</th>\n",
       "      <th>blue</th>\n",
       "      <th>blueberry</th>\n",
       "      <th>butter</th>\n",
       "      <th>...</th>\n",
       "      <th>tar</th>\n",
       "      <th>tea</th>\n",
       "      <th>tingly</th>\n",
       "      <th>tobacco</th>\n",
       "      <th>tree</th>\n",
       "      <th>tropical</th>\n",
       "      <th>uplifted</th>\n",
       "      <th>vanilla</th>\n",
       "      <th>violet</th>\n",
       "      <th>woody</th>\n",
       "    </tr>\n",
       "  </thead>\n",
       "  <tbody>\n",
       "    <tr>\n",
       "      <th>0</th>\n",
       "      <td>0.0</td>\n",
       "      <td>0.161923</td>\n",
       "      <td>0.0</td>\n",
       "      <td>0.0</td>\n",
       "      <td>0.000000</td>\n",
       "      <td>0.0</td>\n",
       "      <td>0.0</td>\n",
       "      <td>0.0</td>\n",
       "      <td>0.0</td>\n",
       "      <td>0.0</td>\n",
       "      <td>...</td>\n",
       "      <td>0.0</td>\n",
       "      <td>0.0</td>\n",
       "      <td>0.448640</td>\n",
       "      <td>0.0</td>\n",
       "      <td>0.0</td>\n",
       "      <td>0.0</td>\n",
       "      <td>0.000000</td>\n",
       "      <td>0.0</td>\n",
       "      <td>0.0</td>\n",
       "      <td>0.000000</td>\n",
       "    </tr>\n",
       "    <tr>\n",
       "      <th>1</th>\n",
       "      <td>0.0</td>\n",
       "      <td>0.115515</td>\n",
       "      <td>0.0</td>\n",
       "      <td>0.0</td>\n",
       "      <td>0.000000</td>\n",
       "      <td>0.0</td>\n",
       "      <td>0.0</td>\n",
       "      <td>0.0</td>\n",
       "      <td>0.0</td>\n",
       "      <td>0.0</td>\n",
       "      <td>...</td>\n",
       "      <td>0.0</td>\n",
       "      <td>0.0</td>\n",
       "      <td>0.000000</td>\n",
       "      <td>0.0</td>\n",
       "      <td>0.0</td>\n",
       "      <td>0.0</td>\n",
       "      <td>0.156295</td>\n",
       "      <td>0.0</td>\n",
       "      <td>0.0</td>\n",
       "      <td>0.350248</td>\n",
       "    </tr>\n",
       "    <tr>\n",
       "      <th>2</th>\n",
       "      <td>0.0</td>\n",
       "      <td>0.103597</td>\n",
       "      <td>0.0</td>\n",
       "      <td>0.0</td>\n",
       "      <td>0.614224</td>\n",
       "      <td>0.0</td>\n",
       "      <td>0.0</td>\n",
       "      <td>0.0</td>\n",
       "      <td>0.0</td>\n",
       "      <td>0.0</td>\n",
       "      <td>...</td>\n",
       "      <td>0.0</td>\n",
       "      <td>0.0</td>\n",
       "      <td>0.287038</td>\n",
       "      <td>0.0</td>\n",
       "      <td>0.0</td>\n",
       "      <td>0.0</td>\n",
       "      <td>0.140171</td>\n",
       "      <td>0.0</td>\n",
       "      <td>0.0</td>\n",
       "      <td>0.000000</td>\n",
       "    </tr>\n",
       "    <tr>\n",
       "      <th>3</th>\n",
       "      <td>0.0</td>\n",
       "      <td>0.143521</td>\n",
       "      <td>0.0</td>\n",
       "      <td>0.0</td>\n",
       "      <td>0.000000</td>\n",
       "      <td>0.0</td>\n",
       "      <td>0.0</td>\n",
       "      <td>0.0</td>\n",
       "      <td>0.0</td>\n",
       "      <td>0.0</td>\n",
       "      <td>...</td>\n",
       "      <td>0.0</td>\n",
       "      <td>0.0</td>\n",
       "      <td>0.000000</td>\n",
       "      <td>0.0</td>\n",
       "      <td>0.0</td>\n",
       "      <td>0.0</td>\n",
       "      <td>0.194189</td>\n",
       "      <td>0.0</td>\n",
       "      <td>0.0</td>\n",
       "      <td>0.000000</td>\n",
       "    </tr>\n",
       "    <tr>\n",
       "      <th>4</th>\n",
       "      <td>0.0</td>\n",
       "      <td>0.177011</td>\n",
       "      <td>0.0</td>\n",
       "      <td>0.0</td>\n",
       "      <td>0.000000</td>\n",
       "      <td>0.0</td>\n",
       "      <td>0.0</td>\n",
       "      <td>0.0</td>\n",
       "      <td>0.0</td>\n",
       "      <td>0.0</td>\n",
       "      <td>...</td>\n",
       "      <td>0.0</td>\n",
       "      <td>0.0</td>\n",
       "      <td>0.000000</td>\n",
       "      <td>0.0</td>\n",
       "      <td>0.0</td>\n",
       "      <td>0.0</td>\n",
       "      <td>0.000000</td>\n",
       "      <td>0.0</td>\n",
       "      <td>0.0</td>\n",
       "      <td>0.000000</td>\n",
       "    </tr>\n",
       "  </tbody>\n",
       "</table>\n",
       "<p>5 rows × 87 columns</p>\n",
       "</div>"
      ],
      "text/plain": [
       "   ammonia   anxious  appetite  apple   apricot  aroused  berry  blue  \\\n",
       "0      0.0  0.161923       0.0    0.0  0.000000      0.0    0.0   0.0   \n",
       "1      0.0  0.115515       0.0    0.0  0.000000      0.0    0.0   0.0   \n",
       "2      0.0  0.103597       0.0    0.0  0.614224      0.0    0.0   0.0   \n",
       "3      0.0  0.143521       0.0    0.0  0.000000      0.0    0.0   0.0   \n",
       "4      0.0  0.177011       0.0    0.0  0.000000      0.0    0.0   0.0   \n",
       "\n",
       "   blueberry  butter  ...  tar  tea    tingly  tobacco  tree  tropical  \\\n",
       "0        0.0     0.0  ...  0.0  0.0  0.448640      0.0   0.0       0.0   \n",
       "1        0.0     0.0  ...  0.0  0.0  0.000000      0.0   0.0       0.0   \n",
       "2        0.0     0.0  ...  0.0  0.0  0.287038      0.0   0.0       0.0   \n",
       "3        0.0     0.0  ...  0.0  0.0  0.000000      0.0   0.0       0.0   \n",
       "4        0.0     0.0  ...  0.0  0.0  0.000000      0.0   0.0       0.0   \n",
       "\n",
       "   uplifted  vanilla  violet     woody  \n",
       "0  0.000000      0.0     0.0  0.000000  \n",
       "1  0.156295      0.0     0.0  0.350248  \n",
       "2  0.140171      0.0     0.0  0.000000  \n",
       "3  0.194189      0.0     0.0  0.000000  \n",
       "4  0.000000      0.0     0.0  0.000000  \n",
       "\n",
       "[5 rows x 87 columns]"
      ]
     },
     "execution_count": 6,
     "metadata": {},
     "output_type": "execute_result"
    }
   ],
   "source": [
    "from sklearn.feature_extraction.text import TfidfVectorizer\n",
    "\n",
    "tfidf = TfidfVectorizer(stop_words = 'english',\n",
    "                      # ngram_range=(1,2),\n",
    "                      # max_df=.5,\n",
    "                      # min_df=3,\n",
    "                       tokenizer= tokenize)\n",
    "\n",
    "dtm = tfidf.fit_transform(data['everything'])\n",
    "                       \n",
    "dtm = pd.DataFrame(dtm.todense(), columns = tfidf.get_feature_names())\n",
    "                       \n",
    "dtm.head()"
   ]
  },
  {
   "cell_type": "code",
   "execution_count": 7,
   "metadata": {},
   "outputs": [
    {
     "data": {
      "text/plain": [
       "NearestNeighbors(algorithm='kd_tree', leaf_size=30, metric='minkowski',\n",
       "         metric_params=None, n_jobs=None, n_neighbors=5, p=2, radius=1.0)"
      ]
     },
     "execution_count": 7,
     "metadata": {},
     "output_type": "execute_result"
    }
   ],
   "source": [
    "from sklearn.neighbors import NearestNeighbors\n",
    "\n",
    "nn = NearestNeighbors(n_neighbors=5, algorithm='kd_tree')\n",
    "nn.fit(dtm)"
   ]
  },
  {
   "cell_type": "code",
   "execution_count": 8,
   "metadata": {},
   "outputs": [
    {
     "data": {
      "text/plain": [
       "Unnamed: 0                                                   552\n",
       "Id                                                           552\n",
       "Strain                                                    Citrix\n",
       "Race                                                      hybrid\n",
       "Flavors                        Citrus, Grapefruit, Orange, Lemon\n",
       "Positive       Euphoric, Happy, Energetic, Uplifted, Aroused,...\n",
       "Negative                            Dry Mouth, Paranoid, Anxious\n",
       "Medical        Depression, Stress, Lack of Appetite, Nausea, ...\n",
       "Rating                                                       4.3\n",
       "Description    Citrix is a hybrid cannabis strain that draws ...\n",
       "everything     Citrus, Grapefruit, Orange, Lemon,Euphoric, Ha...\n",
       "Name: 552, dtype: object"
      ]
     },
     "execution_count": 8,
     "metadata": {},
     "output_type": "execute_result"
    }
   ],
   "source": [
    "data.iloc[552]"
   ]
  },
  {
   "cell_type": "code",
   "execution_count": 9,
   "metadata": {},
   "outputs": [
    {
     "data": {
      "text/plain": [
       "(array([[0.        , 0.54563368, 0.66674909, 0.66964119, 0.67499652]]),\n",
       " array([[ 100, 1677, 1752, 2339,  506]]))"
      ]
     },
     "execution_count": 9,
     "metadata": {},
     "output_type": "execute_result"
    }
   ],
   "source": [
    "nn.kneighbors([dtm.iloc[100]])  # The second set of values are the suggested strains."
   ]
  },
  {
   "cell_type": "code",
   "execution_count": 10,
   "metadata": {},
   "outputs": [],
   "source": [
    "test_phrase = [\"\"\"\n",
    "I want something earthy Euphoric dizzy Depression\n",
    "\"\"\"]"
   ]
  },
  {
   "cell_type": "code",
   "execution_count": 11,
   "metadata": {},
   "outputs": [],
   "source": [
    "new = tfidf.transform(test_phrase)"
   ]
  },
  {
   "cell_type": "code",
   "execution_count": 12,
   "metadata": {},
   "outputs": [
    {
     "data": {
      "text/plain": [
       "(array([[0.92737593, 0.98637406, 0.99283283, 1.00028364, 1.00028364]]),\n",
       " array([[ 530,  138, 2271,  428, 1587]]))"
      ]
     },
     "execution_count": 12,
     "metadata": {},
     "output_type": "execute_result"
    }
   ],
   "source": [
    "nn.kneighbors(new.todense())  # The second set of values are the suggested strains."
   ]
  },
  {
   "cell_type": "code",
   "execution_count": 13,
   "metadata": {},
   "outputs": [
    {
     "data": {
      "text/plain": [
       "['baseline_tfidf.pkl']"
      ]
     },
     "execution_count": 13,
     "metadata": {},
     "output_type": "execute_result"
    }
   ],
   "source": [
    "from sklearn.externals import joblib \n",
    "joblib.dump(tfidf, 'baseline_tfidf.pkl')"
   ]
  },
  {
   "cell_type": "code",
   "execution_count": 43,
   "metadata": {},
   "outputs": [
    {
     "data": {
      "text/plain": [
       "['baseline_model.pkl']"
      ]
     },
     "execution_count": 43,
     "metadata": {},
     "output_type": "execute_result"
    }
   ],
   "source": [
    "joblib.dump(nn, 'baseline_model.pkl')"
   ]
  },
  {
   "cell_type": "code",
   "execution_count": 50,
   "metadata": {},
   "outputs": [
    {
     "data": {
      "text/plain": [
       "['vectorized.pkl']"
      ]
     },
     "execution_count": 50,
     "metadata": {},
     "output_type": "execute_result"
    }
   ],
   "source": [
    "vectorized = tfidf.transform\n",
    "joblib.dump(vectorized, 'vectorized.pkl')"
   ]
  },
  {
   "cell_type": "code",
   "execution_count": 51,
   "metadata": {},
   "outputs": [
    {
     "data": {
      "text/plain": [
       "['kneighbors.pkl']"
      ]
     },
     "execution_count": 51,
     "metadata": {},
     "output_type": "execute_result"
    }
   ],
   "source": [
    "kneighbors = nn.kneighbors\n",
    "joblib.dump(kneighbors, 'kneighbors.pkl')"
   ]
  }
 ],
 "metadata": {
  "kernelspec": {
   "display_name": "U4-S1 (Python3)\n",
   "language": "python",
   "name": "u4-s1"
  },
  "language_info": {
   "codemirror_mode": {
    "name": "ipython",
    "version": 3
   },
   "file_extension": ".py",
   "mimetype": "text/x-python",
   "name": "python",
   "nbconvert_exporter": "python",
   "pygments_lexer": "ipython3",
   "version": "3.7.0"
  }
 },
 "nbformat": 4,
 "nbformat_minor": 4
}
