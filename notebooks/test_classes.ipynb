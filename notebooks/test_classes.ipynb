{
 "cells": [
  {
   "cell_type": "code",
   "execution_count": 2,
   "metadata": {},
   "outputs": [],
   "source": [
    "class strainSuggester():\n",
    "    \"\"\"\n",
    "    Generates 5 suggested strains based on input text\n",
    "    \"\"\"\n",
    "    def __init__(self):\n",
    "        self.tfidf = joblib.load('baseline_tfidf.pkl')\n",
    "        self.test_model = joblib.load('baseline_model.pkl')\n",
    "    \n",
    "    def suggestStrain(self, input, neighbors=5):\n",
    "        vectorized = (tfidf.transform(input)).todense()\n",
    "        results = nn.kneighbors(vectorized, neighbors)\n",
    "        return results[0]"
   ]
  },
  {
   "cell_type": "code",
   "execution_count": null,
   "metadata": {},
   "outputs": [],
   "source": [
    "class strainSuggester():\n",
    "    \"\"\"\n",
    "    Generates 5 suggested strains based on input text\n",
    "    \"\"\"\n",
    "    def __init__(self):\n",
    "        self.tfidf = joblib.load('baseline_tfidf.pkl')\n",
    "        self.test_model = joblib.load('baseline_model.pkl')\n",
    "        \n",
    "    \n",
    "    def suggestStrain(self, input, neighbors=5):\n",
    "#         vectorized = joblib.load('vectorized.pkl')\n",
    "#         results = joblib.load('kneighbors.pkl')\n",
    "        \n",
    "        data_vectorized = transformed(input).todense()\n",
    "        res = results(data_vectorized, neighbors)\n",
    "        \n",
    "        return results"
   ]
  },
  {
   "cell_type": "code",
   "execution_count": null,
   "metadata": {},
   "outputs": [],
   "source": []
  }
 ],
 "metadata": {
  "kernelspec": {
   "display_name": "U4-S1 (Python3)\n",
   "language": "python",
   "name": "u4-s1"
  },
  "language_info": {
   "codemirror_mode": {
    "name": "ipython",
    "version": 3
   },
   "file_extension": ".py",
   "mimetype": "text/x-python",
   "name": "python",
   "nbconvert_exporter": "python",
   "pygments_lexer": "ipython3",
   "version": "3.7.0"
  }
 },
 "nbformat": 4,
 "nbformat_minor": 4
}
