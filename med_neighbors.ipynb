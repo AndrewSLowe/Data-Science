{
 "cells": [
  {
   "cell_type": "code",
   "execution_count": 1,
   "metadata": {},
   "outputs": [],
   "source": [
    "import pandas as pd "
   ]
  },
  {
   "cell_type": "code",
   "execution_count": 190,
   "metadata": {},
   "outputs": [],
   "source": [
    "data = pd.read_csv(r'C:\\Users\\Emma\\Desktop\\second_med_build\\strain_data.csv')"
   ]
  },
  {
   "cell_type": "code",
   "execution_count": 158,
   "metadata": {},
   "outputs": [
    {
     "data": {
      "text/html": [
       "<div>\n",
       "<style scoped>\n",
       "    .dataframe tbody tr th:only-of-type {\n",
       "        vertical-align: middle;\n",
       "    }\n",
       "\n",
       "    .dataframe tbody tr th {\n",
       "        vertical-align: top;\n",
       "    }\n",
       "\n",
       "    .dataframe thead th {\n",
       "        text-align: right;\n",
       "    }\n",
       "</style>\n",
       "<table border=\"1\" class=\"dataframe\">\n",
       "  <thead>\n",
       "    <tr style=\"text-align: right;\">\n",
       "      <th></th>\n",
       "      <th>Id</th>\n",
       "      <th>Strain</th>\n",
       "      <th>Race</th>\n",
       "      <th>Flavors</th>\n",
       "      <th>Positive</th>\n",
       "      <th>Negative</th>\n",
       "      <th>Medical</th>\n",
       "      <th>Rating</th>\n",
       "      <th>Description</th>\n",
       "    </tr>\n",
       "  </thead>\n",
       "  <tbody>\n",
       "    <tr>\n",
       "      <td>2344</td>\n",
       "      <td>2344</td>\n",
       "      <td>Zeus Og</td>\n",
       "      <td>hybrid</td>\n",
       "      <td>Earthy, Woody, Pine</td>\n",
       "      <td>Happy, Uplifted, Relaxed, Euphoric, Energetic</td>\n",
       "      <td>Dizzy, Dry Mouth, Paranoid, Anxious</td>\n",
       "      <td>Depression, Stress, Fatigue</td>\n",
       "      <td>4.7</td>\n",
       "      <td>Zeus OG is a hybrid cross between Pineapple OG...</td>\n",
       "    </tr>\n",
       "    <tr>\n",
       "      <td>2345</td>\n",
       "      <td>2345</td>\n",
       "      <td>Zkittlez</td>\n",
       "      <td>indica</td>\n",
       "      <td>Sweet, Berry, Grape</td>\n",
       "      <td>Relaxed, Euphoric, Happy, Uplifted, Sleepy</td>\n",
       "      <td>Dizzy, Dry Mouth, Paranoid, Anxious</td>\n",
       "      <td>Depression, Insomnia, Pain, Stress, Nausea, Fa...</td>\n",
       "      <td>4.6</td>\n",
       "      <td>Zkittlez is an indica-dominant mix of Grape Ap...</td>\n",
       "    </tr>\n",
       "    <tr>\n",
       "      <td>2346</td>\n",
       "      <td>2346</td>\n",
       "      <td>Zombie Kush</td>\n",
       "      <td>indica</td>\n",
       "      <td>Earthy, Sweet, Spicy/Herbal</td>\n",
       "      <td>Relaxed, Sleepy, Talkative, Euphoric, Happy</td>\n",
       "      <td>Dizzy, Dry Mouth, Paranoid, Anxious</td>\n",
       "      <td>Depression, Stress, Fatigue</td>\n",
       "      <td>5.0</td>\n",
       "      <td>Zombie Kush by Ripper Seeds comes from two dif...</td>\n",
       "    </tr>\n",
       "    <tr>\n",
       "      <td>2347</td>\n",
       "      <td>2347</td>\n",
       "      <td>Zombie Og</td>\n",
       "      <td>indica</td>\n",
       "      <td>Sweet, Earthy, Pungent</td>\n",
       "      <td>Relaxed, Sleepy, Euphoric, Happy, Hungry</td>\n",
       "      <td>Dizzy, Dry Mouth, Paranoid, Anxious</td>\n",
       "      <td>Depression, Stress, Fatigue</td>\n",
       "      <td>4.4</td>\n",
       "      <td>If you’re looking to transform into a flesh-ea...</td>\n",
       "    </tr>\n",
       "    <tr>\n",
       "      <td>2348</td>\n",
       "      <td>2348</td>\n",
       "      <td>Zoom Pie</td>\n",
       "      <td>indica</td>\n",
       "      <td>Berry, Earthy, Pungent</td>\n",
       "      <td>Relaxed, Hungry, Happy, Uplifted, Giggly, Sleepy</td>\n",
       "      <td>Dizzy, Dry Mouth, Paranoid, Anxious</td>\n",
       "      <td>Insomnia, Pain, Cramps, Lack of Appetite, Stre...</td>\n",
       "      <td>4.6</td>\n",
       "      <td>Zoom Pie (also known as Zombie Pie) is a heavy...</td>\n",
       "    </tr>\n",
       "  </tbody>\n",
       "</table>\n",
       "</div>"
      ],
      "text/plain": [
       "        Id       Strain    Race                      Flavors  \\\n",
       "2344  2344      Zeus Og  hybrid          Earthy, Woody, Pine   \n",
       "2345  2345     Zkittlez  indica          Sweet, Berry, Grape   \n",
       "2346  2346  Zombie Kush  indica  Earthy, Sweet, Spicy/Herbal   \n",
       "2347  2347    Zombie Og  indica       Sweet, Earthy, Pungent   \n",
       "2348  2348     Zoom Pie  indica       Berry, Earthy, Pungent   \n",
       "\n",
       "                                              Positive  \\\n",
       "2344     Happy, Uplifted, Relaxed, Euphoric, Energetic   \n",
       "2345        Relaxed, Euphoric, Happy, Uplifted, Sleepy   \n",
       "2346       Relaxed, Sleepy, Talkative, Euphoric, Happy   \n",
       "2347          Relaxed, Sleepy, Euphoric, Happy, Hungry   \n",
       "2348  Relaxed, Hungry, Happy, Uplifted, Giggly, Sleepy   \n",
       "\n",
       "                                 Negative  \\\n",
       "2344  Dizzy, Dry Mouth, Paranoid, Anxious   \n",
       "2345  Dizzy, Dry Mouth, Paranoid, Anxious   \n",
       "2346  Dizzy, Dry Mouth, Paranoid, Anxious   \n",
       "2347  Dizzy, Dry Mouth, Paranoid, Anxious   \n",
       "2348  Dizzy, Dry Mouth, Paranoid, Anxious   \n",
       "\n",
       "                                                Medical  Rating  \\\n",
       "2344                        Depression, Stress, Fatigue     4.7   \n",
       "2345  Depression, Insomnia, Pain, Stress, Nausea, Fa...     4.6   \n",
       "2346                        Depression, Stress, Fatigue     5.0   \n",
       "2347                        Depression, Stress, Fatigue     4.4   \n",
       "2348  Insomnia, Pain, Cramps, Lack of Appetite, Stre...     4.6   \n",
       "\n",
       "                                            Description  \n",
       "2344  Zeus OG is a hybrid cross between Pineapple OG...  \n",
       "2345  Zkittlez is an indica-dominant mix of Grape Ap...  \n",
       "2346  Zombie Kush by Ripper Seeds comes from two dif...  \n",
       "2347  If you’re looking to transform into a flesh-ea...  \n",
       "2348  Zoom Pie (also known as Zombie Pie) is a heavy...  "
      ]
     },
     "execution_count": 158,
     "metadata": {},
     "output_type": "execute_result"
    }
   ],
   "source": [
    "data.tail()"
   ]
  },
  {
   "cell_type": "code",
   "execution_count": 186,
   "metadata": {},
   "outputs": [
    {
     "data": {
      "text/plain": [
       "(2349, 9)"
      ]
     },
     "execution_count": 186,
     "metadata": {},
     "output_type": "execute_result"
    }
   ],
   "source": [
    "data.shape"
   ]
  },
  {
   "cell_type": "code",
   "execution_count": 187,
   "metadata": {},
   "outputs": [
    {
     "data": {
      "text/plain": [
       "Id              0\n",
       "Strain          0\n",
       "Race            0\n",
       "Flavors        58\n",
       "Positive       31\n",
       "Negative        0\n",
       "Medical         0\n",
       "Rating          0\n",
       "Description     0\n",
       "dtype: int64"
      ]
     },
     "execution_count": 187,
     "metadata": {},
     "output_type": "execute_result"
    }
   ],
   "source": [
    "(data.isnull() == True).sum()"
   ]
  },
  {
   "cell_type": "code",
   "execution_count": 172,
   "metadata": {},
   "outputs": [
    {
     "data": {
      "text/plain": [
       "Id                                                            52\n",
       "Strain                                                 Afrikaner\n",
       "Race                                                      sativa\n",
       "Flavors                                                      NaN\n",
       "Positive                                                     NaN\n",
       "Negative                     Dizzy, Dry Mouth, Paranoid, Anxious\n",
       "Medical                              Depression, Stress, Fatigue\n",
       "Rating                                                         0\n",
       "Description    Afrikaner by Cannabaal and master grower Waldo...\n",
       "everything                                                   NaN\n",
       "Name: 52, dtype: object"
      ]
     },
     "execution_count": 172,
     "metadata": {},
     "output_type": "execute_result"
    }
   ],
   "source": [
    "data.iloc[52]"
   ]
  },
  {
   "cell_type": "code",
   "execution_count": 191,
   "metadata": {},
   "outputs": [],
   "source": [
    "#new csv has nans\n",
    "import numpy as np\n",
    "\n",
    "data = data.replace(np.nan, '')"
   ]
  },
  {
   "cell_type": "code",
   "execution_count": 184,
   "metadata": {},
   "outputs": [],
   "source": [
    "#save a copy so DS all has the same thing\n",
    "\n",
    "#data.to_csv(r'C:\\Users\\Emma\\Desktop\\second_med_build\\DS_strain_data.csv') #ya only press this once"
   ]
  },
  {
   "cell_type": "code",
   "execution_count": 197,
   "metadata": {},
   "outputs": [],
   "source": [
    "data['everything'] = data[['Flavors', 'Positive', 'Negative', 'Medical']].agg(','.join, axis= 1)"
   ]
  },
  {
   "cell_type": "markdown",
   "metadata": {},
   "source": [
    "### Section\n",
    "\n",
    "This section was an inital test of the data/nearest neighbors"
   ]
  },
  {
   "cell_type": "code",
   "execution_count": 7,
   "metadata": {},
   "outputs": [],
   "source": [
    "from sklearn.feature_extraction.text import CountVectorizer"
   ]
  },
  {
   "cell_type": "code",
   "execution_count": 199,
   "metadata": {},
   "outputs": [],
   "source": [
    "vect = CountVectorizer()\n",
    "vect.fit(data.everything)\n",
    "dtm = vect.transform(data.everything)\n",
    "dtm = pd.DataFrame(dtm.todense(), columns=vect.get_feature_names())"
   ]
  },
  {
   "cell_type": "code",
   "execution_count": 200,
   "metadata": {},
   "outputs": [
    {
     "data": {
      "text/html": [
       "<div>\n",
       "<style scoped>\n",
       "    .dataframe tbody tr th:only-of-type {\n",
       "        vertical-align: middle;\n",
       "    }\n",
       "\n",
       "    .dataframe tbody tr th {\n",
       "        vertical-align: top;\n",
       "    }\n",
       "\n",
       "    .dataframe thead th {\n",
       "        text-align: right;\n",
       "    }\n",
       "</style>\n",
       "<table border=\"1\" class=\"dataframe\">\n",
       "  <thead>\n",
       "    <tr style=\"text-align: right;\">\n",
       "      <th></th>\n",
       "      <th>ammonia</th>\n",
       "      <th>anxious</th>\n",
       "      <th>appetite</th>\n",
       "      <th>apple</th>\n",
       "      <th>apricot</th>\n",
       "      <th>aroused</th>\n",
       "      <th>berry</th>\n",
       "      <th>blue</th>\n",
       "      <th>blueberry</th>\n",
       "      <th>butter</th>\n",
       "      <th>...</th>\n",
       "      <th>tar</th>\n",
       "      <th>tea</th>\n",
       "      <th>tingly</th>\n",
       "      <th>tobacco</th>\n",
       "      <th>tree</th>\n",
       "      <th>tropical</th>\n",
       "      <th>uplifted</th>\n",
       "      <th>vanilla</th>\n",
       "      <th>violet</th>\n",
       "      <th>woody</th>\n",
       "    </tr>\n",
       "  </thead>\n",
       "  <tbody>\n",
       "    <tr>\n",
       "      <td>0</td>\n",
       "      <td>0</td>\n",
       "      <td>1</td>\n",
       "      <td>0</td>\n",
       "      <td>0</td>\n",
       "      <td>0</td>\n",
       "      <td>0</td>\n",
       "      <td>0</td>\n",
       "      <td>0</td>\n",
       "      <td>0</td>\n",
       "      <td>0</td>\n",
       "      <td>...</td>\n",
       "      <td>0</td>\n",
       "      <td>0</td>\n",
       "      <td>1</td>\n",
       "      <td>0</td>\n",
       "      <td>0</td>\n",
       "      <td>0</td>\n",
       "      <td>0</td>\n",
       "      <td>0</td>\n",
       "      <td>0</td>\n",
       "      <td>0</td>\n",
       "    </tr>\n",
       "    <tr>\n",
       "      <td>1</td>\n",
       "      <td>0</td>\n",
       "      <td>1</td>\n",
       "      <td>0</td>\n",
       "      <td>0</td>\n",
       "      <td>0</td>\n",
       "      <td>0</td>\n",
       "      <td>0</td>\n",
       "      <td>0</td>\n",
       "      <td>0</td>\n",
       "      <td>0</td>\n",
       "      <td>...</td>\n",
       "      <td>0</td>\n",
       "      <td>0</td>\n",
       "      <td>0</td>\n",
       "      <td>0</td>\n",
       "      <td>0</td>\n",
       "      <td>0</td>\n",
       "      <td>1</td>\n",
       "      <td>0</td>\n",
       "      <td>0</td>\n",
       "      <td>1</td>\n",
       "    </tr>\n",
       "    <tr>\n",
       "      <td>2</td>\n",
       "      <td>0</td>\n",
       "      <td>1</td>\n",
       "      <td>0</td>\n",
       "      <td>0</td>\n",
       "      <td>1</td>\n",
       "      <td>0</td>\n",
       "      <td>0</td>\n",
       "      <td>0</td>\n",
       "      <td>0</td>\n",
       "      <td>0</td>\n",
       "      <td>...</td>\n",
       "      <td>0</td>\n",
       "      <td>0</td>\n",
       "      <td>1</td>\n",
       "      <td>0</td>\n",
       "      <td>0</td>\n",
       "      <td>0</td>\n",
       "      <td>1</td>\n",
       "      <td>0</td>\n",
       "      <td>0</td>\n",
       "      <td>0</td>\n",
       "    </tr>\n",
       "    <tr>\n",
       "      <td>3</td>\n",
       "      <td>0</td>\n",
       "      <td>1</td>\n",
       "      <td>0</td>\n",
       "      <td>0</td>\n",
       "      <td>0</td>\n",
       "      <td>0</td>\n",
       "      <td>0</td>\n",
       "      <td>0</td>\n",
       "      <td>0</td>\n",
       "      <td>0</td>\n",
       "      <td>...</td>\n",
       "      <td>0</td>\n",
       "      <td>0</td>\n",
       "      <td>0</td>\n",
       "      <td>0</td>\n",
       "      <td>0</td>\n",
       "      <td>0</td>\n",
       "      <td>1</td>\n",
       "      <td>0</td>\n",
       "      <td>0</td>\n",
       "      <td>0</td>\n",
       "    </tr>\n",
       "    <tr>\n",
       "      <td>4</td>\n",
       "      <td>0</td>\n",
       "      <td>1</td>\n",
       "      <td>0</td>\n",
       "      <td>0</td>\n",
       "      <td>0</td>\n",
       "      <td>0</td>\n",
       "      <td>0</td>\n",
       "      <td>0</td>\n",
       "      <td>0</td>\n",
       "      <td>0</td>\n",
       "      <td>...</td>\n",
       "      <td>0</td>\n",
       "      <td>0</td>\n",
       "      <td>0</td>\n",
       "      <td>0</td>\n",
       "      <td>0</td>\n",
       "      <td>0</td>\n",
       "      <td>0</td>\n",
       "      <td>0</td>\n",
       "      <td>0</td>\n",
       "      <td>0</td>\n",
       "    </tr>\n",
       "    <tr>\n",
       "      <td>...</td>\n",
       "      <td>...</td>\n",
       "      <td>...</td>\n",
       "      <td>...</td>\n",
       "      <td>...</td>\n",
       "      <td>...</td>\n",
       "      <td>...</td>\n",
       "      <td>...</td>\n",
       "      <td>...</td>\n",
       "      <td>...</td>\n",
       "      <td>...</td>\n",
       "      <td>...</td>\n",
       "      <td>...</td>\n",
       "      <td>...</td>\n",
       "      <td>...</td>\n",
       "      <td>...</td>\n",
       "      <td>...</td>\n",
       "      <td>...</td>\n",
       "      <td>...</td>\n",
       "      <td>...</td>\n",
       "      <td>...</td>\n",
       "      <td>...</td>\n",
       "    </tr>\n",
       "    <tr>\n",
       "      <td>2344</td>\n",
       "      <td>0</td>\n",
       "      <td>1</td>\n",
       "      <td>0</td>\n",
       "      <td>0</td>\n",
       "      <td>0</td>\n",
       "      <td>0</td>\n",
       "      <td>0</td>\n",
       "      <td>0</td>\n",
       "      <td>0</td>\n",
       "      <td>0</td>\n",
       "      <td>...</td>\n",
       "      <td>0</td>\n",
       "      <td>0</td>\n",
       "      <td>0</td>\n",
       "      <td>0</td>\n",
       "      <td>0</td>\n",
       "      <td>0</td>\n",
       "      <td>1</td>\n",
       "      <td>0</td>\n",
       "      <td>0</td>\n",
       "      <td>1</td>\n",
       "    </tr>\n",
       "    <tr>\n",
       "      <td>2345</td>\n",
       "      <td>0</td>\n",
       "      <td>1</td>\n",
       "      <td>0</td>\n",
       "      <td>0</td>\n",
       "      <td>0</td>\n",
       "      <td>0</td>\n",
       "      <td>1</td>\n",
       "      <td>0</td>\n",
       "      <td>0</td>\n",
       "      <td>0</td>\n",
       "      <td>...</td>\n",
       "      <td>0</td>\n",
       "      <td>0</td>\n",
       "      <td>0</td>\n",
       "      <td>0</td>\n",
       "      <td>0</td>\n",
       "      <td>0</td>\n",
       "      <td>1</td>\n",
       "      <td>0</td>\n",
       "      <td>0</td>\n",
       "      <td>0</td>\n",
       "    </tr>\n",
       "    <tr>\n",
       "      <td>2346</td>\n",
       "      <td>0</td>\n",
       "      <td>1</td>\n",
       "      <td>0</td>\n",
       "      <td>0</td>\n",
       "      <td>0</td>\n",
       "      <td>0</td>\n",
       "      <td>0</td>\n",
       "      <td>0</td>\n",
       "      <td>0</td>\n",
       "      <td>0</td>\n",
       "      <td>...</td>\n",
       "      <td>0</td>\n",
       "      <td>0</td>\n",
       "      <td>0</td>\n",
       "      <td>0</td>\n",
       "      <td>0</td>\n",
       "      <td>0</td>\n",
       "      <td>0</td>\n",
       "      <td>0</td>\n",
       "      <td>0</td>\n",
       "      <td>0</td>\n",
       "    </tr>\n",
       "    <tr>\n",
       "      <td>2347</td>\n",
       "      <td>0</td>\n",
       "      <td>1</td>\n",
       "      <td>0</td>\n",
       "      <td>0</td>\n",
       "      <td>0</td>\n",
       "      <td>0</td>\n",
       "      <td>0</td>\n",
       "      <td>0</td>\n",
       "      <td>0</td>\n",
       "      <td>0</td>\n",
       "      <td>...</td>\n",
       "      <td>0</td>\n",
       "      <td>0</td>\n",
       "      <td>0</td>\n",
       "      <td>0</td>\n",
       "      <td>0</td>\n",
       "      <td>0</td>\n",
       "      <td>0</td>\n",
       "      <td>0</td>\n",
       "      <td>0</td>\n",
       "      <td>0</td>\n",
       "    </tr>\n",
       "    <tr>\n",
       "      <td>2348</td>\n",
       "      <td>0</td>\n",
       "      <td>1</td>\n",
       "      <td>1</td>\n",
       "      <td>0</td>\n",
       "      <td>0</td>\n",
       "      <td>0</td>\n",
       "      <td>1</td>\n",
       "      <td>0</td>\n",
       "      <td>0</td>\n",
       "      <td>0</td>\n",
       "      <td>...</td>\n",
       "      <td>0</td>\n",
       "      <td>0</td>\n",
       "      <td>0</td>\n",
       "      <td>0</td>\n",
       "      <td>0</td>\n",
       "      <td>0</td>\n",
       "      <td>1</td>\n",
       "      <td>0</td>\n",
       "      <td>0</td>\n",
       "      <td>0</td>\n",
       "    </tr>\n",
       "  </tbody>\n",
       "</table>\n",
       "<p>2349 rows × 88 columns</p>\n",
       "</div>"
      ],
      "text/plain": [
       "      ammonia  anxious  appetite  apple  apricot  aroused  berry  blue  \\\n",
       "0           0        1         0      0        0        0      0     0   \n",
       "1           0        1         0      0        0        0      0     0   \n",
       "2           0        1         0      0        1        0      0     0   \n",
       "3           0        1         0      0        0        0      0     0   \n",
       "4           0        1         0      0        0        0      0     0   \n",
       "...       ...      ...       ...    ...      ...      ...    ...   ...   \n",
       "2344        0        1         0      0        0        0      0     0   \n",
       "2345        0        1         0      0        0        0      1     0   \n",
       "2346        0        1         0      0        0        0      0     0   \n",
       "2347        0        1         0      0        0        0      0     0   \n",
       "2348        0        1         1      0        0        0      1     0   \n",
       "\n",
       "      blueberry  butter  ...  tar  tea  tingly  tobacco  tree  tropical  \\\n",
       "0             0       0  ...    0    0       1        0     0         0   \n",
       "1             0       0  ...    0    0       0        0     0         0   \n",
       "2             0       0  ...    0    0       1        0     0         0   \n",
       "3             0       0  ...    0    0       0        0     0         0   \n",
       "4             0       0  ...    0    0       0        0     0         0   \n",
       "...         ...     ...  ...  ...  ...     ...      ...   ...       ...   \n",
       "2344          0       0  ...    0    0       0        0     0         0   \n",
       "2345          0       0  ...    0    0       0        0     0         0   \n",
       "2346          0       0  ...    0    0       0        0     0         0   \n",
       "2347          0       0  ...    0    0       0        0     0         0   \n",
       "2348          0       0  ...    0    0       0        0     0         0   \n",
       "\n",
       "      uplifted  vanilla  violet  woody  \n",
       "0            0        0       0      0  \n",
       "1            1        0       0      1  \n",
       "2            1        0       0      0  \n",
       "3            1        0       0      0  \n",
       "4            0        0       0      0  \n",
       "...        ...      ...     ...    ...  \n",
       "2344         1        0       0      1  \n",
       "2345         1        0       0      0  \n",
       "2346         0        0       0      0  \n",
       "2347         0        0       0      0  \n",
       "2348         1        0       0      0  \n",
       "\n",
       "[2349 rows x 88 columns]"
      ]
     },
     "execution_count": 200,
     "metadata": {},
     "output_type": "execute_result"
    }
   ],
   "source": [
    "dtm"
   ]
  },
  {
   "cell_type": "code",
   "execution_count": 201,
   "metadata": {},
   "outputs": [
    {
     "data": {
      "text/html": [
       "<div>\n",
       "<style scoped>\n",
       "    .dataframe tbody tr th:only-of-type {\n",
       "        vertical-align: middle;\n",
       "    }\n",
       "\n",
       "    .dataframe tbody tr th {\n",
       "        vertical-align: top;\n",
       "    }\n",
       "\n",
       "    .dataframe thead th {\n",
       "        text-align: right;\n",
       "    }\n",
       "</style>\n",
       "<table border=\"1\" class=\"dataframe\">\n",
       "  <thead>\n",
       "    <tr style=\"text-align: right;\">\n",
       "      <th></th>\n",
       "      <th>ammonia</th>\n",
       "      <th>anxious</th>\n",
       "      <th>appetite</th>\n",
       "      <th>apple</th>\n",
       "      <th>apricot</th>\n",
       "      <th>aroused</th>\n",
       "      <th>berry</th>\n",
       "      <th>blue</th>\n",
       "      <th>blueberry</th>\n",
       "      <th>butter</th>\n",
       "      <th>...</th>\n",
       "      <th>tar</th>\n",
       "      <th>tea</th>\n",
       "      <th>tingly</th>\n",
       "      <th>tobacco</th>\n",
       "      <th>tree</th>\n",
       "      <th>tropical</th>\n",
       "      <th>uplifted</th>\n",
       "      <th>vanilla</th>\n",
       "      <th>violet</th>\n",
       "      <th>woody</th>\n",
       "    </tr>\n",
       "  </thead>\n",
       "  <tbody>\n",
       "    <tr>\n",
       "      <td>0</td>\n",
       "      <td>0.0</td>\n",
       "      <td>0.161923</td>\n",
       "      <td>0.0</td>\n",
       "      <td>0.0</td>\n",
       "      <td>0.000000</td>\n",
       "      <td>0.0</td>\n",
       "      <td>0.0</td>\n",
       "      <td>0.0</td>\n",
       "      <td>0.0</td>\n",
       "      <td>0.0</td>\n",
       "      <td>...</td>\n",
       "      <td>0.0</td>\n",
       "      <td>0.0</td>\n",
       "      <td>0.448640</td>\n",
       "      <td>0.0</td>\n",
       "      <td>0.0</td>\n",
       "      <td>0.0</td>\n",
       "      <td>0.000000</td>\n",
       "      <td>0.0</td>\n",
       "      <td>0.0</td>\n",
       "      <td>0.000000</td>\n",
       "    </tr>\n",
       "    <tr>\n",
       "      <td>1</td>\n",
       "      <td>0.0</td>\n",
       "      <td>0.115515</td>\n",
       "      <td>0.0</td>\n",
       "      <td>0.0</td>\n",
       "      <td>0.000000</td>\n",
       "      <td>0.0</td>\n",
       "      <td>0.0</td>\n",
       "      <td>0.0</td>\n",
       "      <td>0.0</td>\n",
       "      <td>0.0</td>\n",
       "      <td>...</td>\n",
       "      <td>0.0</td>\n",
       "      <td>0.0</td>\n",
       "      <td>0.000000</td>\n",
       "      <td>0.0</td>\n",
       "      <td>0.0</td>\n",
       "      <td>0.0</td>\n",
       "      <td>0.156295</td>\n",
       "      <td>0.0</td>\n",
       "      <td>0.0</td>\n",
       "      <td>0.350248</td>\n",
       "    </tr>\n",
       "    <tr>\n",
       "      <td>2</td>\n",
       "      <td>0.0</td>\n",
       "      <td>0.103597</td>\n",
       "      <td>0.0</td>\n",
       "      <td>0.0</td>\n",
       "      <td>0.614224</td>\n",
       "      <td>0.0</td>\n",
       "      <td>0.0</td>\n",
       "      <td>0.0</td>\n",
       "      <td>0.0</td>\n",
       "      <td>0.0</td>\n",
       "      <td>...</td>\n",
       "      <td>0.0</td>\n",
       "      <td>0.0</td>\n",
       "      <td>0.287038</td>\n",
       "      <td>0.0</td>\n",
       "      <td>0.0</td>\n",
       "      <td>0.0</td>\n",
       "      <td>0.140171</td>\n",
       "      <td>0.0</td>\n",
       "      <td>0.0</td>\n",
       "      <td>0.000000</td>\n",
       "    </tr>\n",
       "    <tr>\n",
       "      <td>3</td>\n",
       "      <td>0.0</td>\n",
       "      <td>0.143521</td>\n",
       "      <td>0.0</td>\n",
       "      <td>0.0</td>\n",
       "      <td>0.000000</td>\n",
       "      <td>0.0</td>\n",
       "      <td>0.0</td>\n",
       "      <td>0.0</td>\n",
       "      <td>0.0</td>\n",
       "      <td>0.0</td>\n",
       "      <td>...</td>\n",
       "      <td>0.0</td>\n",
       "      <td>0.0</td>\n",
       "      <td>0.000000</td>\n",
       "      <td>0.0</td>\n",
       "      <td>0.0</td>\n",
       "      <td>0.0</td>\n",
       "      <td>0.194189</td>\n",
       "      <td>0.0</td>\n",
       "      <td>0.0</td>\n",
       "      <td>0.000000</td>\n",
       "    </tr>\n",
       "    <tr>\n",
       "      <td>4</td>\n",
       "      <td>0.0</td>\n",
       "      <td>0.177011</td>\n",
       "      <td>0.0</td>\n",
       "      <td>0.0</td>\n",
       "      <td>0.000000</td>\n",
       "      <td>0.0</td>\n",
       "      <td>0.0</td>\n",
       "      <td>0.0</td>\n",
       "      <td>0.0</td>\n",
       "      <td>0.0</td>\n",
       "      <td>...</td>\n",
       "      <td>0.0</td>\n",
       "      <td>0.0</td>\n",
       "      <td>0.000000</td>\n",
       "      <td>0.0</td>\n",
       "      <td>0.0</td>\n",
       "      <td>0.0</td>\n",
       "      <td>0.000000</td>\n",
       "      <td>0.0</td>\n",
       "      <td>0.0</td>\n",
       "      <td>0.000000</td>\n",
       "    </tr>\n",
       "  </tbody>\n",
       "</table>\n",
       "<p>5 rows × 87 columns</p>\n",
       "</div>"
      ],
      "text/plain": [
       "   ammonia   anxious  appetite  apple   apricot  aroused  berry  blue  \\\n",
       "0      0.0  0.161923       0.0    0.0  0.000000      0.0    0.0   0.0   \n",
       "1      0.0  0.115515       0.0    0.0  0.000000      0.0    0.0   0.0   \n",
       "2      0.0  0.103597       0.0    0.0  0.614224      0.0    0.0   0.0   \n",
       "3      0.0  0.143521       0.0    0.0  0.000000      0.0    0.0   0.0   \n",
       "4      0.0  0.177011       0.0    0.0  0.000000      0.0    0.0   0.0   \n",
       "\n",
       "   blueberry  butter  ...  tar  tea    tingly  tobacco  tree  tropical  \\\n",
       "0        0.0     0.0  ...  0.0  0.0  0.448640      0.0   0.0       0.0   \n",
       "1        0.0     0.0  ...  0.0  0.0  0.000000      0.0   0.0       0.0   \n",
       "2        0.0     0.0  ...  0.0  0.0  0.287038      0.0   0.0       0.0   \n",
       "3        0.0     0.0  ...  0.0  0.0  0.000000      0.0   0.0       0.0   \n",
       "4        0.0     0.0  ...  0.0  0.0  0.000000      0.0   0.0       0.0   \n",
       "\n",
       "   uplifted  vanilla  violet     woody  \n",
       "0  0.000000      0.0     0.0  0.000000  \n",
       "1  0.156295      0.0     0.0  0.350248  \n",
       "2  0.140171      0.0     0.0  0.000000  \n",
       "3  0.194189      0.0     0.0  0.000000  \n",
       "4  0.000000      0.0     0.0  0.000000  \n",
       "\n",
       "[5 rows x 87 columns]"
      ]
     },
     "execution_count": 201,
     "metadata": {},
     "output_type": "execute_result"
    }
   ],
   "source": [
    "from sklearn.feature_extraction.text import CountVectorizer, TfidfVectorizer\n",
    "\n",
    "tfidf = TfidfVectorizer(stop_words = 'english',\n",
    "                      # ngram_range=(1,2),\n",
    "                      # max_df=.5,\n",
    "                      # min_df=3,\n",
    "                       tokenizer= tokenize)\n",
    "\n",
    "dtm = tfidf.fit_transform(data['everything'])\n",
    "                       \n",
    "dtm = pd.DataFrame(dtm.todense(), columns = tfidf.get_feature_names())\n",
    "                       \n",
    "dtm.head()"
   ]
  },
  {
   "cell_type": "code",
   "execution_count": 202,
   "metadata": {},
   "outputs": [
    {
     "data": {
      "text/plain": [
       "NearestNeighbors(algorithm='kd_tree', leaf_size=30, metric='minkowski',\n",
       "                 metric_params=None, n_jobs=None, n_neighbors=5, p=2,\n",
       "                 radius=1.0)"
      ]
     },
     "execution_count": 202,
     "metadata": {},
     "output_type": "execute_result"
    }
   ],
   "source": [
    "from sklearn.neighbors import NearestNeighbors\n",
    "\n",
    "nn = NearestNeighbors(n_neighbors=5, algorithm='kd_tree')\n",
    "nn.fit(dtm)"
   ]
  },
  {
   "cell_type": "code",
   "execution_count": 211,
   "metadata": {},
   "outputs": [
    {
     "data": {
      "text/plain": [
       "(array([[0.        , 0.67578641, 0.67888603, 0.71395469, 0.73405097]]),\n",
       " array([[ 492, 1986, 1158, 1261, 1124]], dtype=int64))"
      ]
     },
     "execution_count": 211,
     "metadata": {},
     "output_type": "execute_result"
    }
   ],
   "source": [
    "nn.kneighbors([dtm.iloc[492]])"
   ]
  },
  {
   "cell_type": "code",
   "execution_count": 204,
   "metadata": {},
   "outputs": [
    {
     "data": {
      "text/plain": [
       "Id                                                             0\n",
       "Strain                                                    100 Og\n",
       "Race                                                      hybrid\n",
       "Flavors                                    Earthy, Sweet, Citrus\n",
       "Positive          Creative, Energetic, Tingly, Euphoric, Relaxed\n",
       "Negative                     Dizzy, Dry Mouth, Paranoid, Anxious\n",
       "Medical                              Depression, Stress, Fatigue\n",
       "Rating                                                         4\n",
       "Description    $100 OG is a 50/50 hybrid strain that packs a ...\n",
       "everything     Earthy, Sweet, Citrus,Creative, Energetic, Tin...\n",
       "Name: 0, dtype: object"
      ]
     },
     "execution_count": 204,
     "metadata": {},
     "output_type": "execute_result"
    }
   ],
   "source": [
    "data.iloc[0] # input value"
   ]
  },
  {
   "cell_type": "code",
   "execution_count": 205,
   "metadata": {},
   "outputs": [
    {
     "data": {
      "text/plain": [
       "Id                                                           574\n",
       "Strain                                        Confidential Wreck\n",
       "Race                                                      hybrid\n",
       "Flavors                                    Sweet, Citrus, Earthy\n",
       "Positive             Hungry, Relaxed, Tingly, Uplifted, Creative\n",
       "Negative                     Dizzy, Dry Mouth, Paranoid, Anxious\n",
       "Medical                              Depression, Stress, Fatigue\n",
       "Rating                                                       4.2\n",
       "Description    Confidential Wreck, also known as Lohan, is th...\n",
       "everything     Sweet, Citrus, Earthy,Hungry, Relaxed, Tingly,...\n",
       "Name: 574, dtype: object"
      ]
     },
     "execution_count": 205,
     "metadata": {},
     "output_type": "execute_result"
    }
   ],
   "source": [
    "data.iloc[574]"
   ]
  },
  {
   "cell_type": "code",
   "execution_count": 206,
   "metadata": {},
   "outputs": [
    {
     "data": {
      "text/plain": [
       "Id                                                          2035\n",
       "Strain                                           Sunset Sherbert\n",
       "Race                                                      hybrid\n",
       "Flavors                                    Sweet, Citrus, Earthy\n",
       "Positive            Relaxed, Happy, Euphoric, Uplifted, Creative\n",
       "Negative                     Dizzy, Dry Mouth, Paranoid, Anxious\n",
       "Medical                              Depression, Stress, Fatigue\n",
       "Rating                                                       4.6\n",
       "Description    Heir to the Girl Scout Cookies throne is Sunse...\n",
       "everything     Sweet, Citrus, Earthy,Relaxed, Happy, Euphoric...\n",
       "Name: 2035, dtype: object"
      ]
     },
     "execution_count": 206,
     "metadata": {},
     "output_type": "execute_result"
    }
   ],
   "source": [
    "data.iloc[2035]"
   ]
  },
  {
   "cell_type": "code",
   "execution_count": 208,
   "metadata": {},
   "outputs": [
    {
     "data": {
      "text/plain": [
       "Id                                                            22\n",
       "Strain                                                  Aberdeen\n",
       "Race                                                      hybrid\n",
       "Flavors                          Menthol, Blue, Cheese, Chemical\n",
       "Positive           Uplifted, Euphoric, Giggly, Energetic, Sleepy\n",
       "Negative                     Dizzy, Dry Mouth, Paranoid, Anxious\n",
       "Medical                              Depression, Stress, Fatigue\n",
       "Rating                                                       4.3\n",
       "Description    Aberdeen is a variety of Agent Orange grown by...\n",
       "everything     Menthol, Blue, Cheese, Chemical,Uplifted, Euph...\n",
       "Name: 22, dtype: object"
      ]
     },
     "execution_count": 208,
     "metadata": {},
     "output_type": "execute_result"
    }
   ],
   "source": [
    "data.iloc[22] #input value"
   ]
  },
  {
   "cell_type": "code",
   "execution_count": 209,
   "metadata": {},
   "outputs": [
    {
     "data": {
      "text/plain": [
       "Id                                                          2043\n",
       "Strain                                              Super Cheese\n",
       "Race                                                      indica\n",
       "Flavors                        Cheese, Blue Cheese, Earthy, Blue\n",
       "Positive                        Relaxed, Euphoric, Happy, Sleepy\n",
       "Negative                     Dizzy, Dry Mouth, Paranoid, Anxious\n",
       "Medical              Depression, Insomnia, Pain, Stress, Fatigue\n",
       "Rating                                                       4.5\n",
       "Description    Super Cheese, bred by Positronics, is a throwb...\n",
       "everything     Cheese, Blue Cheese, Earthy, Blue,Relaxed, Eup...\n",
       "Name: 2043, dtype: object"
      ]
     },
     "execution_count": 209,
     "metadata": {},
     "output_type": "execute_result"
    }
   ],
   "source": [
    "data.iloc[2043]"
   ]
  },
  {
   "cell_type": "code",
   "execution_count": 210,
   "metadata": {},
   "outputs": [
    {
     "data": {
      "text/plain": [
       "Id                                                           479\n",
       "Strain                                               Cheesewreck\n",
       "Race                                                      hybrid\n",
       "Flavors                      Cheese, Blue Cheese, Woody, Pungent\n",
       "Positive       Relaxed, Happy, Creative, Uplifted, Giggly, Eu...\n",
       "Negative                     Dizzy, Dry Mouth, Paranoid, Anxious\n",
       "Medical              Depression, Insomnia, Pain, Stress, Fatigue\n",
       "Rating                                                       4.3\n",
       "Description    Cheesewreck is a sativa-dominant hybrid bred b...\n",
       "everything     Cheese, Blue Cheese, Woody, Pungent,Relaxed, H...\n",
       "Name: 479, dtype: object"
      ]
     },
     "execution_count": 210,
     "metadata": {},
     "output_type": "execute_result"
    }
   ],
   "source": [
    "data.iloc[479]"
   ]
  },
  {
   "cell_type": "code",
   "execution_count": 213,
   "metadata": {},
   "outputs": [
    {
     "data": {
      "text/plain": [
       "Id                                                           492\n",
       "Strain                                                 Chemnesia\n",
       "Race                                                      hybrid\n",
       "Flavors                             Citrus, Diesel, Lemon, Sweet\n",
       "Positive                     Relaxed, Euphoric, Happy, Energetic\n",
       "Negative                     Dizzy, Dry Mouth, Paranoid, Anxious\n",
       "Medical             Depression, Pain, Fatigue, Headaches, Stress\n",
       "Rating                                                       4.8\n",
       "Description    Chemnesia has been dubbed one of the most powe...\n",
       "everything     Citrus, Diesel, Lemon, Sweet,Relaxed, Euphoric...\n",
       "Name: 492, dtype: object"
      ]
     },
     "execution_count": 213,
     "metadata": {},
     "output_type": "execute_result"
    }
   ],
   "source": [
    "data.iloc[492] #input value"
   ]
  },
  {
   "cell_type": "code",
   "execution_count": 214,
   "metadata": {},
   "outputs": [
    {
     "data": {
      "text/plain": [
       "Id                                                          1986\n",
       "Strain                                                Star Tonic\n",
       "Race                                                      hybrid\n",
       "Flavors                             Citrus, Earthy, Sweet, Lemon\n",
       "Positive       Relaxed, Euphoric, Happy, Creative, Focused, U...\n",
       "Negative                            Dry Mouth, Paranoid, Anxious\n",
       "Medical             Depression, Pain, Stress, Headaches, Fatigue\n",
       "Rating                                                       4.7\n",
       "Description    Star Tonic is a high-CBD strain bred from Deat...\n",
       "everything     Citrus, Earthy, Sweet, Lemon,Relaxed, Euphoric...\n",
       "Name: 1986, dtype: object"
      ]
     },
     "execution_count": 214,
     "metadata": {},
     "output_type": "execute_result"
    }
   ],
   "source": [
    "data.iloc[1986]"
   ]
  },
  {
   "cell_type": "code",
   "execution_count": 215,
   "metadata": {},
   "outputs": [
    {
     "data": {
      "text/plain": [
       "Id                                                          1158\n",
       "Strain                                                  Kali Dog\n",
       "Race                                                      hybrid\n",
       "Flavors                            Citrus, Earthy, Lemon, Diesel\n",
       "Positive       Relaxed, Happy, Energetic, Uplifted, Sleepy, F...\n",
       "Negative                            Dry Mouth, Paranoid, Anxious\n",
       "Medical        Pain, Stress, Lack of Appetite, Headaches, Fat...\n",
       "Rating                                                       4.8\n",
       "Description    This OG Kush and Sour Diesel hybrid from Royal...\n",
       "everything     Citrus, Earthy, Lemon, Diesel,Relaxed, Happy, ...\n",
       "Name: 1158, dtype: object"
      ]
     },
     "execution_count": 215,
     "metadata": {},
     "output_type": "execute_result"
    }
   ],
   "source": [
    "data.iloc[1158]"
   ]
  },
  {
   "cell_type": "code",
   "execution_count": null,
   "metadata": {},
   "outputs": [],
   "source": [
    "#with samples being put in "
   ]
  },
  {
   "cell_type": "code",
   "execution_count": 216,
   "metadata": {},
   "outputs": [],
   "source": [
    "sample = ['sweet, citrus, pain']"
   ]
  },
  {
   "cell_type": "code",
   "execution_count": 217,
   "metadata": {},
   "outputs": [
    {
     "data": {
      "text/plain": [
       "(array([[0.94952198, 0.96279755, 0.98896091, 0.99282592, 1.00196871]]),\n",
       " array([[1721,  727, 1614, 1364, 2299]], dtype=int64))"
      ]
     },
     "execution_count": 217,
     "metadata": {},
     "output_type": "execute_result"
    }
   ],
   "source": [
    "new = tfidf.transform(sample)\n",
    "nn.kneighbors(new.todense())"
   ]
  },
  {
   "cell_type": "code",
   "execution_count": 218,
   "metadata": {},
   "outputs": [
    {
     "data": {
      "text/plain": [
       "Id                                                          1721\n",
       "Strain                                               Purple Thai\n",
       "Race                                                      sativa\n",
       "Flavors                                    Earthy, Citrus, Sweet\n",
       "Positive       Relaxed, Euphoric, Happy, Creative, Uplifted, ...\n",
       "Negative                     Dizzy, Dry Mouth, Paranoid, Anxious\n",
       "Medical                        Depression, Pain, Stress, Fatigue\n",
       "Rating                                                       4.6\n",
       "Description    Purple Thai is a mostly sativa strain that cro...\n",
       "everything     Earthy, Citrus, Sweet,Relaxed, Euphoric, Happy...\n",
       "Name: 1721, dtype: object"
      ]
     },
     "execution_count": 218,
     "metadata": {},
     "output_type": "execute_result"
    }
   ],
   "source": [
    "#with sample = ['sweet, citrus, pain']\n",
    "#array([[1721,  727, 1614, 1364, 2299]], dtype=int64)\n",
    "\n",
    "data.iloc[1721]"
   ]
  },
  {
   "cell_type": "code",
   "execution_count": 219,
   "metadata": {},
   "outputs": [
    {
     "data": {
      "text/plain": [
       "Id                                                           727\n",
       "Strain                                          Dutch Treat Haze\n",
       "Race                                                      hybrid\n",
       "Flavors                             Sweet, Earthy, Citrus, Berry\n",
       "Positive           Relaxed, Euphoric, Happy, Energetic, Uplifted\n",
       "Negative                            Dry Mouth, Paranoid, Anxious\n",
       "Medical                        Depression, Pain, Stress, Fatigue\n",
       "Rating                                                       4.5\n",
       "Description    Two superstars from the Dutch cannabis scene m...\n",
       "everything     Sweet, Earthy, Citrus, Berry,Relaxed, Euphoric...\n",
       "Name: 727, dtype: object"
      ]
     },
     "execution_count": 219,
     "metadata": {},
     "output_type": "execute_result"
    }
   ],
   "source": [
    "data.iloc[727]"
   ]
  },
  {
   "cell_type": "code",
   "execution_count": 220,
   "metadata": {},
   "outputs": [
    {
     "data": {
      "text/plain": [
       "Id                                                          1614\n",
       "Strain                                             Pink Lemonade\n",
       "Race                                                      hybrid\n",
       "Flavors                                     Lemon, Citrus, Sweet\n",
       "Positive            Relaxed, Happy, Energetic, Uplifted, Focused\n",
       "Negative                            Dry Mouth, Paranoid, Anxious\n",
       "Medical                        Depression, Pain, Stress, Fatigue\n",
       "Rating                                                       4.5\n",
       "Description    Pink Lemonade is a tart sativa-dominant hybrid...\n",
       "everything     Lemon, Citrus, Sweet,Relaxed, Happy, Energetic...\n",
       "Name: 1614, dtype: object"
      ]
     },
     "execution_count": 220,
     "metadata": {},
     "output_type": "execute_result"
    }
   ],
   "source": [
    "data.iloc[1614]"
   ]
  },
  {
   "cell_type": "code",
   "execution_count": 221,
   "metadata": {},
   "outputs": [
    {
     "data": {
      "text/plain": [
       "(array([[0.88056576, 0.89043411, 0.90681119, 0.92817442, 0.93977065]]),\n",
       " array([[2338, 1482,  867,  968, 2264]], dtype=int64))"
      ]
     },
     "execution_count": 221,
     "metadata": {},
     "output_type": "execute_result"
    }
   ],
   "source": [
    "sample = ['headache, insomnia, pungent']\n",
    "\n",
    "new = tfidf.transform(sample)\n",
    "nn.kneighbors(new.todense())"
   ]
  },
  {
   "cell_type": "code",
   "execution_count": 222,
   "metadata": {},
   "outputs": [
    {
     "data": {
      "text/plain": [
       "Id                                                          2338\n",
       "Strain                                                  Yumboldt\n",
       "Race                                                      indica\n",
       "Flavors                                   Sweet, Pungent, Earthy\n",
       "Positive       Relaxed, Euphoric, Happy, Uplifted, Sleepy, Hu...\n",
       "Negative                     Dizzy, Dry Mouth, Paranoid, Anxious\n",
       "Medical        Depression, Insomnia, Pain, Stress, Headache, ...\n",
       "Rating                                                       4.2\n",
       "Description    Yumboldt can be hard to find but it is renowne...\n",
       "everything     Sweet, Pungent, Earthy,Relaxed, Euphoric, Happ...\n",
       "Name: 2338, dtype: object"
      ]
     },
     "execution_count": 222,
     "metadata": {},
     "output_type": "execute_result"
    }
   ],
   "source": [
    "# with sample = ['headache, insomnia, pungent']\n",
    "#array([[2338, 1482,  867,  968, 2264]], dtype=int64))\n",
    "\n",
    "data.iloc[2338]"
   ]
  },
  {
   "cell_type": "code",
   "execution_count": 223,
   "metadata": {},
   "outputs": [
    {
     "data": {
      "text/plain": [
       "Id                                                          1482\n",
       "Strain                                                Obama Kush\n",
       "Race                                                      indica\n",
       "Flavors                             Sweet, Earthy, Pine, Pungent\n",
       "Positive            Relaxed, Euphoric, Happy, Creative, Uplifted\n",
       "Negative                     Dizzy, Dry Mouth, Paranoid, Anxious\n",
       "Medical        Depression, Insomnia, Pain, Stress, Headache, ...\n",
       "Rating                                                       4.4\n",
       "Description    This unique indica appropriately channels the ...\n",
       "everything     Sweet, Earthy, Pine, Pungent,Relaxed, Euphoric...\n",
       "Name: 1482, dtype: object"
      ]
     },
     "execution_count": 223,
     "metadata": {},
     "output_type": "execute_result"
    }
   ],
   "source": [
    "data.iloc[1482]"
   ]
  },
  {
   "cell_type": "code",
   "execution_count": 224,
   "metadata": {},
   "outputs": [
    {
     "data": {
      "text/plain": [
       "(array([[0.78518469, 0.87915974, 0.89372137, 0.91921291, 0.94610798]]),\n",
       " array([[ 472, 1642,  252,  879, 1655]], dtype=int64))"
      ]
     },
     "execution_count": 224,
     "metadata": {},
     "output_type": "execute_result"
    }
   ],
   "source": [
    "sample = ['uplifted, relaxed, cramps, nausea']\n",
    "\n",
    "new = tfidf.transform(sample)\n",
    "nn.kneighbors(new.todense())"
   ]
  },
  {
   "cell_type": "code",
   "execution_count": 225,
   "metadata": {},
   "outputs": [
    {
     "data": {
      "text/plain": [
       "Id                                                           472\n",
       "Strain                                            Champagne Kush\n",
       "Race                                                      hybrid\n",
       "Flavors                                   Earthy, Sweet, Pungent\n",
       "Positive           Relaxed, Euphoric, Happy, Talkative, Uplifted\n",
       "Negative                     Dizzy, Dry Mouth, Paranoid, Anxious\n",
       "Medical        Depression, Pain, Stress, Cramps, Nausea, Fatigue\n",
       "Rating                                                       4.2\n",
       "Description    Champagne Kush is an indica-dominant hybrid th...\n",
       "everything     Earthy, Sweet, Pungent,Relaxed, Euphoric, Happ...\n",
       "Name: 472, dtype: object"
      ]
     },
     "execution_count": 225,
     "metadata": {},
     "output_type": "execute_result"
    }
   ],
   "source": [
    "# with sample = ['uplifted, realaxed, cramps, nausea']\n",
    "#array([[ 472, 1642,  252,  879, 1655]], dtype=int64))\n",
    "\n",
    "data.loc[472]"
   ]
  },
  {
   "cell_type": "code",
   "execution_count": 226,
   "metadata": {},
   "outputs": [
    {
     "data": {
      "text/plain": [
       "Id                                                          1642\n",
       "Strain                                             Predator Pink\n",
       "Race                                                      hybrid\n",
       "Flavors                           Earthy, Sweet, Berry, Tropical\n",
       "Positive       Relaxed, Hungry, Euphoric, Happy, Tingly, Upli...\n",
       "Negative                     Dizzy, Dry Mouth, Paranoid, Anxious\n",
       "Medical              Depression, Stress, Cramps, Nausea, Fatigue\n",
       "Rating                                                       4.7\n",
       "Description    A cross between Plushberry and Starfighter, Pr...\n",
       "everything     Earthy, Sweet, Berry, Tropical,Relaxed, Hungry...\n",
       "Name: 1642, dtype: object"
      ]
     },
     "execution_count": 226,
     "metadata": {},
     "output_type": "execute_result"
    }
   ],
   "source": [
    "data.loc[1642]"
   ]
  },
  {
   "cell_type": "code",
   "execution_count": 227,
   "metadata": {},
   "outputs": [
    {
     "data": {
      "text/plain": [
       "Id                                                           252\n",
       "Strain                                            Blackberry Pie\n",
       "Race                                                      hybrid\n",
       "Flavors                                  Sweet, Blueberry, Berry\n",
       "Positive              Relaxed, Hungry, Euphoric, Happy, Creative\n",
       "Negative                     Dizzy, Dry Mouth, Paranoid, Anxious\n",
       "Medical                    Pain, Cramps, Nausea, Stress, Fatigue\n",
       "Rating                                                       4.7\n",
       "Description    Blackberry Pie is a hybrid cross of Jojorizo’s...\n",
       "everything     Sweet, Blueberry, Berry,Relaxed, Hungry, Eupho...\n",
       "Name: 252, dtype: object"
      ]
     },
     "execution_count": 227,
     "metadata": {},
     "output_type": "execute_result"
    }
   ],
   "source": [
    "data.loc[252]"
   ]
  },
  {
   "cell_type": "code",
   "execution_count": 228,
   "metadata": {},
   "outputs": [
    {
     "data": {
      "text/plain": [
       "Id                                                           879\n",
       "Strain                                               Goji Diesel\n",
       "Race                                                      hybrid\n",
       "Flavors                                                         \n",
       "Positive       Relaxed, Euphoric, Creative, Uplifted, Focused...\n",
       "Negative                     Dizzy, Dry Mouth, Paranoid, Anxious\n",
       "Medical                      Depression, Stress, Cramps, Fatigue\n",
       "Rating                                                       4.8\n",
       "Description    Goji Diesel is an uplifting strain brought to ...\n",
       "everything     ,Relaxed, Euphoric, Creative, Uplifted, Focuse...\n",
       "Name: 879, dtype: object"
      ]
     },
     "execution_count": 228,
     "metadata": {},
     "output_type": "execute_result"
    }
   ],
   "source": [
    "data.loc[879]"
   ]
  },
  {
   "cell_type": "markdown",
   "metadata": {},
   "source": [
    "### Section\n",
    "\n",
    "This section is a test to see if the model performs well only testing on medical data. Tyler and I talked earlier about having two models, or a model and a filter, with the first model only suggesting relief for medical symptoms, and making all the other inputs secondary to it. So, have this medical model put out, say fifty suggestions and put those in a model or through a filter to narrow it down given flavor, race, etc."
   ]
  },
  {
   "cell_type": "code",
   "execution_count": 237,
   "metadata": {},
   "outputs": [],
   "source": [
    "########################### just medical \n",
    "\n",
    "vect = CountVectorizer()\n",
    "vect.fit(data.Medical)\n",
    "dtm = vect.transform(data.Medical)\n",
    "dtmM = pd.DataFrame(dtm.todense(), columns=vect.get_feature_names())"
   ]
  },
  {
   "cell_type": "code",
   "execution_count": 239,
   "metadata": {},
   "outputs": [
    {
     "data": {
      "text/html": [
       "<div>\n",
       "<style scoped>\n",
       "    .dataframe tbody tr th:only-of-type {\n",
       "        vertical-align: middle;\n",
       "    }\n",
       "\n",
       "    .dataframe tbody tr th {\n",
       "        vertical-align: top;\n",
       "    }\n",
       "\n",
       "    .dataframe thead th {\n",
       "        text-align: right;\n",
       "    }\n",
       "</style>\n",
       "<table border=\"1\" class=\"dataframe\">\n",
       "  <thead>\n",
       "    <tr style=\"text-align: right;\">\n",
       "      <th></th>\n",
       "      <th>appetite</th>\n",
       "      <th>cramps</th>\n",
       "      <th>depression</th>\n",
       "      <th>eye</th>\n",
       "      <th>fatigue</th>\n",
       "      <th>headache</th>\n",
       "      <th>headaches</th>\n",
       "      <th>inflammation</th>\n",
       "      <th>insomnia</th>\n",
       "      <th>lack</th>\n",
       "      <th>nausea</th>\n",
       "      <th>pain</th>\n",
       "      <th>pressure</th>\n",
       "      <th>seizures</th>\n",
       "      <th>spasticity</th>\n",
       "      <th>stress</th>\n",
       "    </tr>\n",
       "  </thead>\n",
       "  <tbody>\n",
       "    <tr>\n",
       "      <td>0</td>\n",
       "      <td>0.0</td>\n",
       "      <td>0.0</td>\n",
       "      <td>0.618926</td>\n",
       "      <td>0.0</td>\n",
       "      <td>0.555397</td>\n",
       "      <td>0.0</td>\n",
       "      <td>0.0</td>\n",
       "      <td>0.0</td>\n",
       "      <td>0.0</td>\n",
       "      <td>0.0</td>\n",
       "      <td>0.0</td>\n",
       "      <td>0.0</td>\n",
       "      <td>0.0</td>\n",
       "      <td>0.0</td>\n",
       "      <td>0.0</td>\n",
       "      <td>0.555397</td>\n",
       "    </tr>\n",
       "    <tr>\n",
       "      <td>1</td>\n",
       "      <td>0.0</td>\n",
       "      <td>0.0</td>\n",
       "      <td>0.618926</td>\n",
       "      <td>0.0</td>\n",
       "      <td>0.555397</td>\n",
       "      <td>0.0</td>\n",
       "      <td>0.0</td>\n",
       "      <td>0.0</td>\n",
       "      <td>0.0</td>\n",
       "      <td>0.0</td>\n",
       "      <td>0.0</td>\n",
       "      <td>0.0</td>\n",
       "      <td>0.0</td>\n",
       "      <td>0.0</td>\n",
       "      <td>0.0</td>\n",
       "      <td>0.555397</td>\n",
       "    </tr>\n",
       "    <tr>\n",
       "      <td>2</td>\n",
       "      <td>0.0</td>\n",
       "      <td>0.0</td>\n",
       "      <td>0.618926</td>\n",
       "      <td>0.0</td>\n",
       "      <td>0.555397</td>\n",
       "      <td>0.0</td>\n",
       "      <td>0.0</td>\n",
       "      <td>0.0</td>\n",
       "      <td>0.0</td>\n",
       "      <td>0.0</td>\n",
       "      <td>0.0</td>\n",
       "      <td>0.0</td>\n",
       "      <td>0.0</td>\n",
       "      <td>0.0</td>\n",
       "      <td>0.0</td>\n",
       "      <td>0.555397</td>\n",
       "    </tr>\n",
       "    <tr>\n",
       "      <td>3</td>\n",
       "      <td>0.0</td>\n",
       "      <td>0.0</td>\n",
       "      <td>0.618926</td>\n",
       "      <td>0.0</td>\n",
       "      <td>0.555397</td>\n",
       "      <td>0.0</td>\n",
       "      <td>0.0</td>\n",
       "      <td>0.0</td>\n",
       "      <td>0.0</td>\n",
       "      <td>0.0</td>\n",
       "      <td>0.0</td>\n",
       "      <td>0.0</td>\n",
       "      <td>0.0</td>\n",
       "      <td>0.0</td>\n",
       "      <td>0.0</td>\n",
       "      <td>0.555397</td>\n",
       "    </tr>\n",
       "    <tr>\n",
       "      <td>4</td>\n",
       "      <td>0.0</td>\n",
       "      <td>0.0</td>\n",
       "      <td>0.618926</td>\n",
       "      <td>0.0</td>\n",
       "      <td>0.555397</td>\n",
       "      <td>0.0</td>\n",
       "      <td>0.0</td>\n",
       "      <td>0.0</td>\n",
       "      <td>0.0</td>\n",
       "      <td>0.0</td>\n",
       "      <td>0.0</td>\n",
       "      <td>0.0</td>\n",
       "      <td>0.0</td>\n",
       "      <td>0.0</td>\n",
       "      <td>0.0</td>\n",
       "      <td>0.555397</td>\n",
       "    </tr>\n",
       "  </tbody>\n",
       "</table>\n",
       "</div>"
      ],
      "text/plain": [
       "   appetite  cramps  depression  eye   fatigue  headache  headaches  \\\n",
       "0       0.0     0.0    0.618926  0.0  0.555397       0.0        0.0   \n",
       "1       0.0     0.0    0.618926  0.0  0.555397       0.0        0.0   \n",
       "2       0.0     0.0    0.618926  0.0  0.555397       0.0        0.0   \n",
       "3       0.0     0.0    0.618926  0.0  0.555397       0.0        0.0   \n",
       "4       0.0     0.0    0.618926  0.0  0.555397       0.0        0.0   \n",
       "\n",
       "   inflammation  insomnia  lack  nausea  pain  pressure  seizures  spasticity  \\\n",
       "0           0.0       0.0   0.0     0.0   0.0       0.0       0.0         0.0   \n",
       "1           0.0       0.0   0.0     0.0   0.0       0.0       0.0         0.0   \n",
       "2           0.0       0.0   0.0     0.0   0.0       0.0       0.0         0.0   \n",
       "3           0.0       0.0   0.0     0.0   0.0       0.0       0.0         0.0   \n",
       "4           0.0       0.0   0.0     0.0   0.0       0.0       0.0         0.0   \n",
       "\n",
       "     stress  \n",
       "0  0.555397  \n",
       "1  0.555397  \n",
       "2  0.555397  \n",
       "3  0.555397  \n",
       "4  0.555397  "
      ]
     },
     "execution_count": 239,
     "metadata": {},
     "output_type": "execute_result"
    }
   ],
   "source": [
    "tfidf = TfidfVectorizer(stop_words = 'english',\n",
    "                      # ngram_range=(1,2),\n",
    "                      # max_df=.5,\n",
    "                      # min_df=3,\n",
    "                       tokenizer= tokenize)\n",
    "\n",
    "dtmM = tfidf.fit_transform(data['Medical'])\n",
    "                       \n",
    "dtmM = pd.DataFrame(dtmM.todense(), columns = tfidf.get_feature_names())\n",
    "                       \n",
    "dtmM.head()"
   ]
  },
  {
   "cell_type": "code",
   "execution_count": 240,
   "metadata": {},
   "outputs": [
    {
     "data": {
      "text/plain": [
       "NearestNeighbors(algorithm='kd_tree', leaf_size=30, metric='minkowski',\n",
       "                 metric_params=None, n_jobs=None, n_neighbors=5, p=2,\n",
       "                 radius=1.0)"
      ]
     },
     "execution_count": 240,
     "metadata": {},
     "output_type": "execute_result"
    }
   ],
   "source": [
    "from sklearn.neighbors import NearestNeighbors\n",
    "\n",
    "nn = NearestNeighbors(n_neighbors=5, algorithm='kd_tree')\n",
    "nn.fit(dtmM)"
   ]
  },
  {
   "cell_type": "code",
   "execution_count": 241,
   "metadata": {},
   "outputs": [
    {
     "data": {
      "text/plain": [
       "(array([[0., 0., 0., 0., 0.]]),\n",
       " array([[ 157,    0,  610,   67, 1172]], dtype=int64))"
      ]
     },
     "execution_count": 241,
     "metadata": {},
     "output_type": "execute_result"
    }
   ],
   "source": [
    "nn.kneighbors([dtmM.iloc[0]])"
   ]
  },
  {
   "cell_type": "code",
   "execution_count": 242,
   "metadata": {},
   "outputs": [
    {
     "data": {
      "text/plain": [
       "'Depression, Stress, Fatigue'"
      ]
     },
     "execution_count": 242,
     "metadata": {},
     "output_type": "execute_result"
    }
   ],
   "source": [
    "data['Medical'].iloc[0] #input variable "
   ]
  },
  {
   "cell_type": "code",
   "execution_count": 245,
   "metadata": {},
   "outputs": [
    {
     "data": {
      "text/plain": [
       "Id                                                           157\n",
       "Strain                                           Banana Cream Og\n",
       "Race                                                      hybrid\n",
       "Flavors                                        Minty, Mint, Pine\n",
       "Positive            Relaxed, Creative, Tingly, Uplifted, Focused\n",
       "Negative                     Dizzy, Dry Mouth, Paranoid, Anxious\n",
       "Medical                              Depression, Stress, Fatigue\n",
       "Rating                                                       4.8\n",
       "Description    Banana Cream OG is grown by Vagrant Hill Farms...\n",
       "everything     Minty, Mint, Pine,Relaxed, Creative, Tingly, U...\n",
       "tokens         [minty, mint, pine, relaxed, creative, tingly,...\n",
       "Name: 157, dtype: object"
      ]
     },
     "execution_count": 245,
     "metadata": {},
     "output_type": "execute_result"
    }
   ],
   "source": [
    "data.iloc[157]"
   ]
  },
  {
   "cell_type": "code",
   "execution_count": 246,
   "metadata": {},
   "outputs": [
    {
     "data": {
      "text/plain": [
       "Id                                                           610\n",
       "Strain                                            Critical Skunk\n",
       "Race                                                      hybrid\n",
       "Flavors                                            Earthy, Skunk\n",
       "Positive               Happy, Relaxed, Creative, Hungry, Aroused\n",
       "Negative                     Dizzy, Dry Mouth, Paranoid, Anxious\n",
       "Medical                              Depression, Stress, Fatigue\n",
       "Rating                                                       4.5\n",
       "Description    Critical Skunk is a hybrid bred by Mr. Nice Se...\n",
       "everything     Earthy, Skunk,Happy, Relaxed, Creative, Hungry...\n",
       "tokens         [earthy, skunk, happy, relaxed, creative, hung...\n",
       "Name: 610, dtype: object"
      ]
     },
     "execution_count": 246,
     "metadata": {},
     "output_type": "execute_result"
    }
   ],
   "source": [
    "data.iloc[610]"
   ]
  },
  {
   "cell_type": "code",
   "execution_count": 248,
   "metadata": {},
   "outputs": [
    {
     "data": {
      "text/plain": [
       "Id                                                          1642\n",
       "Strain                                             Predator Pink\n",
       "Race                                                      hybrid\n",
       "Flavors                           Earthy, Sweet, Berry, Tropical\n",
       "Positive       Relaxed, Hungry, Euphoric, Happy, Tingly, Upli...\n",
       "Negative                     Dizzy, Dry Mouth, Paranoid, Anxious\n",
       "Medical              Depression, Stress, Cramps, Nausea, Fatigue\n",
       "Rating                                                       4.7\n",
       "Description    A cross between Plushberry and Starfighter, Pr...\n",
       "everything     Earthy, Sweet, Berry, Tropical,Relaxed, Hungry...\n",
       "tokens         [earthy, sweet, berry, tropical, relaxed, hung...\n",
       "Name: 1642, dtype: object"
      ]
     },
     "execution_count": 248,
     "metadata": {},
     "output_type": "execute_result"
    }
   ],
   "source": [
    "data.iloc[16]"
   ]
  },
  {
   "cell_type": "code",
   "execution_count": 249,
   "metadata": {},
   "outputs": [
    {
     "data": {
      "text/plain": [
       "Id                                                          1171\n",
       "Strain                                              Kerala Krush\n",
       "Race                                                      sativa\n",
       "Flavors                                     Mango, Sweet, Orange\n",
       "Positive              Relaxed, Hungry, Happy, Energetic, Focused\n",
       "Negative                     Dizzy, Dry Mouth, Paranoid, Anxious\n",
       "Medical              Depression, Cramps, Nausea, Stress, Fatigue\n",
       "Rating                                                       4.6\n",
       "Description    Kerala Krush by Flying Dutchmen is an 85% sati...\n",
       "everything     Mango, Sweet, Orange,Relaxed, Hungry, Happy, E...\n",
       "tokens         [mango, sweet, orange, relaxed, hungry, happy,...\n",
       "Name: 1171, dtype: object"
      ]
     },
     "execution_count": 249,
     "metadata": {},
     "output_type": "execute_result"
    }
   ],
   "source": [
    "data.iloc[1171]"
   ]
  },
  {
   "cell_type": "code",
   "execution_count": 250,
   "metadata": {},
   "outputs": [],
   "source": [
    "user_test = pd.read_csv(r'C:\\Users\\Emma\\Desktop\\second_med_build\\random_users.csv')"
   ]
  },
  {
   "cell_type": "code",
   "execution_count": 251,
   "metadata": {},
   "outputs": [
    {
     "data": {
      "text/html": [
       "<div>\n",
       "<style scoped>\n",
       "    .dataframe tbody tr th:only-of-type {\n",
       "        vertical-align: middle;\n",
       "    }\n",
       "\n",
       "    .dataframe tbody tr th {\n",
       "        vertical-align: top;\n",
       "    }\n",
       "\n",
       "    .dataframe thead th {\n",
       "        text-align: right;\n",
       "    }\n",
       "</style>\n",
       "<table border=\"1\" class=\"dataframe\">\n",
       "  <thead>\n",
       "    <tr style=\"text-align: right;\">\n",
       "      <th></th>\n",
       "      <th>User_Id</th>\n",
       "      <th>Race</th>\n",
       "      <th>Flavors</th>\n",
       "      <th>Positive</th>\n",
       "      <th>Negative</th>\n",
       "      <th>Medical</th>\n",
       "    </tr>\n",
       "  </thead>\n",
       "  <tbody>\n",
       "    <tr>\n",
       "      <td>0</td>\n",
       "      <td>0</td>\n",
       "      <td>sativa, hybrid</td>\n",
       "      <td>Chestnut, Lavender, Tropical, Berry, Butter, F...</td>\n",
       "      <td>NaN</td>\n",
       "      <td>Dry Mouth, Paranoid, Dizzy</td>\n",
       "      <td>Insomnia, Headaches, Cramps, Seizures, Headache</td>\n",
       "    </tr>\n",
       "    <tr>\n",
       "      <td>1</td>\n",
       "      <td>1</td>\n",
       "      <td>indica, sativa</td>\n",
       "      <td>Strawberry, Pungent, Orange, Lime, Lemon, Lave...</td>\n",
       "      <td>Focused, Tingly, Uplifted, Euphoric, Giggly, S...</td>\n",
       "      <td>Anxious</td>\n",
       "      <td>Lack of Appetite</td>\n",
       "    </tr>\n",
       "    <tr>\n",
       "      <td>2</td>\n",
       "      <td>2</td>\n",
       "      <td>sativa</td>\n",
       "      <td>Tropical, Grapefruit, Lemon, Minty, Apple, Tre...</td>\n",
       "      <td>Talkative, Focused, Euphoric, Relaxed, Hungry</td>\n",
       "      <td>Dizzy</td>\n",
       "      <td>Lack of Appetite, Inflammation, Cramps, Muscle...</td>\n",
       "    </tr>\n",
       "    <tr>\n",
       "      <td>3</td>\n",
       "      <td>3</td>\n",
       "      <td>indica</td>\n",
       "      <td>Nutty, Lime, Plum, Berry, Vanilla, Coffee, Pep...</td>\n",
       "      <td>Uplifted, Hungry</td>\n",
       "      <td>Dry Mouth, Dry Eyes, Anxious, Paranoid</td>\n",
       "      <td>Nausea</td>\n",
       "    </tr>\n",
       "    <tr>\n",
       "      <td>4</td>\n",
       "      <td>4</td>\n",
       "      <td>hybrid</td>\n",
       "      <td>Apple, Menthol, Spicy/Herbal, Cheese, Fruit, B...</td>\n",
       "      <td>Uplifted, Energetic</td>\n",
       "      <td>Dry Eyes, Anxious, Paranoid</td>\n",
       "      <td>Headaches, Eye Pressure, Fatigue, Spasticity, ...</td>\n",
       "    </tr>\n",
       "  </tbody>\n",
       "</table>\n",
       "</div>"
      ],
      "text/plain": [
       "   User_Id            Race                                            Flavors  \\\n",
       "0        0  sativa, hybrid  Chestnut, Lavender, Tropical, Berry, Butter, F...   \n",
       "1        1  indica, sativa  Strawberry, Pungent, Orange, Lime, Lemon, Lave...   \n",
       "2        2          sativa  Tropical, Grapefruit, Lemon, Minty, Apple, Tre...   \n",
       "3        3          indica  Nutty, Lime, Plum, Berry, Vanilla, Coffee, Pep...   \n",
       "4        4          hybrid  Apple, Menthol, Spicy/Herbal, Cheese, Fruit, B...   \n",
       "\n",
       "                                            Positive  \\\n",
       "0                                                NaN   \n",
       "1  Focused, Tingly, Uplifted, Euphoric, Giggly, S...   \n",
       "2      Talkative, Focused, Euphoric, Relaxed, Hungry   \n",
       "3                                   Uplifted, Hungry   \n",
       "4                                Uplifted, Energetic   \n",
       "\n",
       "                                 Negative  \\\n",
       "0              Dry Mouth, Paranoid, Dizzy   \n",
       "1                                 Anxious   \n",
       "2                                   Dizzy   \n",
       "3  Dry Mouth, Dry Eyes, Anxious, Paranoid   \n",
       "4             Dry Eyes, Anxious, Paranoid   \n",
       "\n",
       "                                             Medical  \n",
       "0    Insomnia, Headaches, Cramps, Seizures, Headache  \n",
       "1                                   Lack of Appetite  \n",
       "2  Lack of Appetite, Inflammation, Cramps, Muscle...  \n",
       "3                                             Nausea  \n",
       "4  Headaches, Eye Pressure, Fatigue, Spasticity, ...  "
      ]
     },
     "execution_count": 251,
     "metadata": {},
     "output_type": "execute_result"
    }
   ],
   "source": [
    "user_test.head()"
   ]
  },
  {
   "cell_type": "code",
   "execution_count": 252,
   "metadata": {},
   "outputs": [],
   "source": [
    "user_test = user_test.replace(np.nan, '')"
   ]
  },
  {
   "cell_type": "code",
   "execution_count": 255,
   "metadata": {},
   "outputs": [],
   "source": [
    "user_test['everything'] = user_test[['Race', 'Flavors', 'Positive', 'Negative', 'Medical']].agg(','.join, axis= 1)"
   ]
  },
  {
   "cell_type": "code",
   "execution_count": 260,
   "metadata": {},
   "outputs": [
    {
     "data": {
      "text/plain": [
       "'sativa, hybrid,Chestnut, Lavender, Tropical, Berry, Butter, Fruit, Coffee, Plum,,Dry Mouth, Paranoid, Dizzy,Insomnia, Headaches, Cramps, Seizures, Headache'"
      ]
     },
     "execution_count": 260,
     "metadata": {},
     "output_type": "execute_result"
    }
   ],
   "source": [
    "sample"
   ]
  },
  {
   "cell_type": "code",
   "execution_count": 269,
   "metadata": {},
   "outputs": [
    {
     "data": {
      "text/plain": [
       "(array([[0.71301946, 0.80116447, 0.80116447, 0.90036502, 0.95390157]]),\n",
       " array([[ 929, 1366,  246, 1720,   69]], dtype=int64))"
      ]
     },
     "execution_count": 269,
     "metadata": {},
     "output_type": "execute_result"
    }
   ],
   "source": [
    "sample = [user_test['Medical'][0]]\n",
    "\n",
    "new = tfidf.transform(sample)\n",
    "nn.kneighbors(new.todense())"
   ]
  },
  {
   "cell_type": "code",
   "execution_count": 266,
   "metadata": {},
   "outputs": [
    {
     "name": "stdout",
     "output_type": "stream",
     "text": [
      "['Insomnia, Headaches, Cramps, Seizures, Headache'] Id                                                           929\n",
      "Strain                                           Grapefruit Kush\n",
      "Race                                                      hybrid\n",
      "Flavors                        Grapefruit, Earthy, Citrus, Sweet\n",
      "Positive       Relaxed, Hungry, Euphoric, Happy, Uplifted, Fo...\n",
      "Negative           Dizzy, Dry Mouth, Paranoid, Dry Eyes, Anxious\n",
      "Medical                      Insomnia, Stress, Fatigue, Seizures\n",
      "Rating                                                       4.3\n",
      "Description    This cannabis strain is a cross of BC Kush and...\n",
      "everything     Grapefruit, Earthy, Citrus, Sweet,Relaxed, Hun...\n",
      "tokens         [grapefruit, earthy, citrus, sweet, relaxed, h...\n",
      "Name: 929, dtype: object Id                                                          1366\n",
      "Strain                                                Maui Haole\n",
      "Race                                                      hybrid\n",
      "Flavors                        Diesel, Pungent, Tropical, Earthy\n",
      "Positive            Relaxed, Euphoric, Creative, Sleepy, Aroused\n",
      "Negative                            Dry Mouth, Paranoid, Anxious\n",
      "Medical              Depression, Pain, Stress, Seizures, Fatigue\n",
      "Rating                                                       4.6\n",
      "Description    Maui Haole is a balanced hybrid that combines ...\n",
      "everything     Diesel, Pungent, Tropical, Earthy,Relaxed, Eup...\n",
      "tokens         [diesel, pungent, tropical, earthy, relaxed, e...\n",
      "Name: 1366, dtype: object\n"
     ]
    }
   ],
   "source": [
    "print(sample,data.iloc[929],data.iloc[1366])"
   ]
  },
  {
   "cell_type": "code",
   "execution_count": 276,
   "metadata": {},
   "outputs": [
    {
     "name": "stdout",
     "output_type": "stream",
     "text": [
      "This is the sample: ['Insomnia, Headaches, Cramps, Seizures, Headache']\n",
      "929                   Insomnia, Stress, Fatigue, Seizures\n",
      "1366          Depression, Pain, Stress, Seizures, Fatigue\n",
      "246           Depression, Pain, Seizures, Stress, Fatigue\n",
      "1720    Depression, Insomnia, Cramps, Headaches, Stres...\n",
      "69         Depression, Cramps, Fatigue, Headaches, Stress\n",
      "Name: Medical, dtype: object\n",
      "\n",
      "\n",
      "This is the sample: ['Lack of Appetite']\n",
      "1184                Stress, Lack of Appetite, Fatigue\n",
      "1311    Depression, Stress, Lack of Appetite, Fatigue\n",
      "1206    Depression, Stress, Lack of Appetite, Fatigue\n",
      "1537    Depression, Stress, Lack of Appetite, Fatigue\n",
      "1379    Depression, Stress, Lack of Appetite, Fatigue\n",
      "Name: Medical, dtype: object\n",
      "\n",
      "\n",
      "This is the sample: ['Lack of Appetite, Inflammation, Cramps, Muscle Spasms, Headache, Insomnia']\n",
      "2223    Pain, Cramps, Lack of Appetite, Inflammation, ...\n",
      "118     Pain, Cramps, Lack of Appetite, Inflammation, ...\n",
      "1781    Depression, Insomnia, Cramps, Inflammation, St...\n",
      "1257    Pain, Stress, Lack of Appetite, Headache, Infl...\n",
      "1097    Pain, Stress, Lack of Appetite, Headache, Infl...\n",
      "Name: Medical, dtype: object\n",
      "\n",
      "\n",
      "This is the sample: ['Nausea']\n",
      "732                 Nausea, Stress, Fatigue\n",
      "206     Depression, Stress, Nausea, Fatigue\n",
      "1032    Depression, Stress, Nausea, Fatigue\n",
      "1041    Depression, Stress, Nausea, Fatigue\n",
      "270     Depression, Stress, Nausea, Fatigue\n",
      "Name: Medical, dtype: object\n",
      "\n",
      "\n",
      "This is the sample: ['Headaches, Eye Pressure, Fatigue, Spasticity, Depression, Nausea, Insomnia, Inflammation']\n",
      "1416    Depression, Insomnia, Eye Pressure, Inflammati...\n",
      "400     Depression, Pain, Eye Pressure, Inflammation, ...\n",
      "1607    Depression, Fatigue, Headaches, Eye Pressure, ...\n",
      "1600    Depression, Fatigue, Headaches, Eye Pressure, ...\n",
      "1529    Depression, Stress, Headaches, Eye Pressure, F...\n",
      "Name: Medical, dtype: object\n",
      "\n",
      "\n",
      "This is the sample: ['Eye Pressure, Muscle Spasms, Seizures, Cramps']\n",
      "356                       Fatigue, Eye Pressure, Stress\n",
      "756                       Eye Pressure, Stress, Fatigue\n",
      "2099          Depression, Stress, Fatigue, Eye Pressure\n",
      "1838          Depression, Stress, Fatigue, Eye Pressure\n",
      "2160    Depression, Pain, Stress, Eye Pressure, Fatigue\n",
      "Name: Medical, dtype: object\n",
      "\n",
      "\n",
      "This is the sample: ['Nausea']\n",
      "732                 Nausea, Stress, Fatigue\n",
      "206     Depression, Stress, Nausea, Fatigue\n",
      "1032    Depression, Stress, Nausea, Fatigue\n",
      "1041    Depression, Stress, Nausea, Fatigue\n",
      "270     Depression, Stress, Nausea, Fatigue\n",
      "Name: Medical, dtype: object\n",
      "\n",
      "\n",
      "This is the sample: ['Depression, Lack of Appetite, Seizures']\n",
      "246           Depression, Pain, Seizures, Stress, Fatigue\n",
      "1366          Depression, Pain, Stress, Seizures, Fatigue\n",
      "179     Pain, Lack of Appetite, Inflammation, Seizures...\n",
      "929                   Insomnia, Stress, Fatigue, Seizures\n",
      "705           Pain, Fatigue, Spasticity, Seizures, Stress\n",
      "Name: Medical, dtype: object\n",
      "\n",
      "\n",
      "This is the sample: ['Insomnia, Fatigue, Headaches, Pain, Nausea, Muscle Spasms, Spasticity']\n",
      "1425         Pain, Fatigue, Headaches, Spasticity, Stress\n",
      "1393        Depression, Pain, Stress, Spasticity, Fatigue\n",
      "300               Depression, Stress, Fatigue, Spasticity\n",
      "587     Depression, Pain, Stress, Headache, Spasticity...\n",
      "990     Pain, Stress, Lack of Appetite, Spasticity, Fa...\n",
      "Name: Medical, dtype: object\n",
      "\n",
      "\n",
      "This is the sample: ['Cramps, Fatigue, Muscle Spasms, Eye Pressure, Depression']\n",
      "1838          Depression, Stress, Fatigue, Eye Pressure\n",
      "2099          Depression, Stress, Fatigue, Eye Pressure\n",
      "356                       Fatigue, Eye Pressure, Stress\n",
      "756                       Eye Pressure, Stress, Fatigue\n",
      "1802    Depression, Pain, Stress, Eye Pressure, Fatigue\n",
      "Name: Medical, dtype: object\n",
      "\n",
      "\n",
      "This is the sample: ['Seizures, Eye Pressure, Fatigue']\n",
      "756                       Eye Pressure, Stress, Fatigue\n",
      "356                       Fatigue, Eye Pressure, Stress\n",
      "1838          Depression, Stress, Fatigue, Eye Pressure\n",
      "2099          Depression, Stress, Fatigue, Eye Pressure\n",
      "1802    Depression, Pain, Stress, Eye Pressure, Fatigue\n",
      "Name: Medical, dtype: object\n",
      "\n",
      "\n",
      "This is the sample: ['Fatigue, Cramps, Pain, Spasticity, Headache, Muscle Spasms, Nausea']\n",
      "587     Depression, Pain, Stress, Headache, Spasticity...\n",
      "2257    Pain, Cramps, Inflammation, Spasticity, Stress...\n",
      "1393        Depression, Pain, Stress, Spasticity, Fatigue\n",
      "300               Depression, Stress, Fatigue, Spasticity\n",
      "715       Pain, Stress, Cramps, Nausea, Headache, Fatigue\n",
      "Name: Medical, dtype: object\n",
      "\n",
      "\n",
      "This is the sample: ['Headaches, Insomnia, Lack of Appetite, Muscle Spasms, Seizures, Stress, Inflammation, Fatigue, Headache']\n",
      "179     Pain, Lack of Appetite, Inflammation, Seizures...\n",
      "929                   Insomnia, Stress, Fatigue, Seizures\n",
      "78      Pain, Lack of Appetite, Headaches, Inflammatio...\n",
      "246           Depression, Pain, Seizures, Stress, Fatigue\n",
      "1366          Depression, Pain, Stress, Seizures, Fatigue\n",
      "Name: Medical, dtype: object\n",
      "\n",
      "\n",
      "This is the sample: ['Headache, Pain, Eye Pressure, Muscle Spasms, Depression, Lack of Appetite, Cramps, Seizures']\n",
      "1825    Depression, Stress, Lack of Appetite, Headache...\n",
      "751     Pain, Lack of Appetite, Fatigue, Eye Pressure,...\n",
      "1298    Depression, Lack of Appetite, Fatigue, Eye Pre...\n",
      "2282    Depression, Pain, Stress, Headache, Eye Pressu...\n",
      "1716    Depression, Pain, Stress, Headache, Eye Pressu...\n",
      "Name: Medical, dtype: object\n",
      "\n",
      "\n",
      "This is the sample: ['Depression, Eye Pressure, Muscle Spasms, Headaches, Lack of Appetite, Pain, Stress']\n",
      "2190    Pain, Lack of Appetite, Headaches, Eye Pressur...\n",
      "751     Pain, Lack of Appetite, Fatigue, Eye Pressure,...\n",
      "2248       Pain, Stress, Headaches, Eye Pressure, Fatigue\n",
      "1198       Pain, Stress, Headaches, Eye Pressure, Fatigue\n",
      "1298    Depression, Lack of Appetite, Fatigue, Eye Pre...\n",
      "Name: Medical, dtype: object\n",
      "\n",
      "\n",
      "This is the sample: ['']\n",
      "2052    Depression, Headaches, Inflammation, Stress, F...\n",
      "1156    Depression, Fatigue, Headaches, Inflammation, ...\n",
      "65                   Insomnia, Stress, Fatigue, Headaches\n",
      "2084    Depression, Pain, Cramps, Lack of Appetite, St...\n",
      "1556                 Insomnia, Stress, Fatigue, Headaches\n",
      "Name: Medical, dtype: object\n",
      "\n",
      "\n",
      "This is the sample: ['Headache, Eye Pressure, Cramps, Pain, Depression, Inflammation, Lack of Appetite']\n",
      "1666    Lack of Appetite, Fatigue, Eye Pressure, Infla...\n",
      "1825    Depression, Stress, Lack of Appetite, Headache...\n",
      "400     Depression, Pain, Eye Pressure, Inflammation, ...\n",
      "751     Pain, Lack of Appetite, Fatigue, Eye Pressure,...\n",
      "1416    Depression, Insomnia, Eye Pressure, Inflammati...\n",
      "Name: Medical, dtype: object\n",
      "\n",
      "\n",
      "This is the sample: ['Muscle Spasms, Nausea, Spasticity, Lack of Appetite, Headaches, Headache, Depression, Fatigue, Pain']\n",
      "1840    Pain, Lack of Appetite, Fatigue, Spasticity, S...\n",
      "990     Pain, Stress, Lack of Appetite, Spasticity, Fa...\n",
      "1425         Pain, Fatigue, Headaches, Spasticity, Stress\n",
      "587     Depression, Pain, Stress, Headache, Spasticity...\n",
      "1393        Depression, Pain, Stress, Spasticity, Fatigue\n",
      "Name: Medical, dtype: object\n",
      "\n",
      "\n",
      "This is the sample: ['Inflammation, Fatigue, Nausea, Headache, Cramps']\n",
      "1994    Pain, Stress, Nausea, Headache, Inflammation, ...\n",
      "1169          Pain, Stress, Cramps, Inflammation, Fatigue\n",
      "715       Pain, Stress, Cramps, Nausea, Headache, Fatigue\n",
      "2098    Depression, Pain, Cramps, Nausea, Headache, St...\n",
      "1781    Depression, Insomnia, Cramps, Inflammation, St...\n",
      "Name: Medical, dtype: object\n",
      "\n",
      "\n",
      "This is the sample: ['Headaches, Stress, Eye Pressure, Muscle Spasms, Headache, Nausea, Spasticity, Lack of Appetite']\n",
      "2190    Pain, Lack of Appetite, Headaches, Eye Pressur...\n",
      "1825    Depression, Stress, Lack of Appetite, Headache...\n",
      "2316    Depression, Stress, Headache, Headaches, Eye P...\n",
      "1402    Insomnia, Pain, Headache, Headaches, Eye Press...\n",
      "1298    Depression, Lack of Appetite, Fatigue, Eye Pre...\n",
      "Name: Medical, dtype: object\n",
      "\n",
      "\n",
      "This is the sample: ['Spasticity, Muscle Spasms, Cramps, Headaches, Stress, Eye Pressure, Lack of Appetite, Nausea, Pain']\n",
      "2190    Pain, Lack of Appetite, Headaches, Eye Pressur...\n",
      "751     Pain, Lack of Appetite, Fatigue, Eye Pressure,...\n",
      "2248       Pain, Stress, Headaches, Eye Pressure, Fatigue\n",
      "1198       Pain, Stress, Headaches, Eye Pressure, Fatigue\n",
      "1298    Depression, Lack of Appetite, Fatigue, Eye Pre...\n",
      "Name: Medical, dtype: object\n",
      "\n",
      "\n",
      "This is the sample: ['Lack of Appetite, Headaches, Seizures, Stress, Cramps, Pain, Eye Pressure, Muscle Spasms']\n",
      "2190    Pain, Lack of Appetite, Headaches, Eye Pressur...\n",
      "751     Pain, Lack of Appetite, Fatigue, Eye Pressure,...\n",
      "1198       Pain, Stress, Headaches, Eye Pressure, Fatigue\n",
      "2248       Pain, Stress, Headaches, Eye Pressure, Fatigue\n",
      "1298    Depression, Lack of Appetite, Fatigue, Eye Pre...\n",
      "Name: Medical, dtype: object\n",
      "\n",
      "\n",
      "This is the sample: ['Fatigue, Cramps, Pain, Headache, Stress, Insomnia, Headaches, Nausea, Lack of Appetite, Seizures']\n",
      "929                   Insomnia, Stress, Fatigue, Seizures\n",
      "179     Pain, Lack of Appetite, Inflammation, Seizures...\n",
      "1366          Depression, Pain, Stress, Seizures, Fatigue\n",
      "246           Depression, Pain, Seizures, Stress, Fatigue\n",
      "1655    Insomnia, Stress, Cramps, Lack of Appetite, Na...\n",
      "Name: Medical, dtype: object\n",
      "\n",
      "\n",
      "This is the sample: ['Seizures, Muscle Spasms, Stress, Eye Pressure, Fatigue, Headaches, Insomnia, Inflammation']\n",
      "1416    Depression, Insomnia, Eye Pressure, Inflammati...\n",
      "400     Depression, Pain, Eye Pressure, Inflammation, ...\n",
      "1607    Depression, Fatigue, Headaches, Eye Pressure, ...\n",
      "1600    Depression, Fatigue, Headaches, Eye Pressure, ...\n",
      "1529    Depression, Stress, Headaches, Eye Pressure, F...\n",
      "Name: Medical, dtype: object\n",
      "\n",
      "\n",
      "This is the sample: ['Insomnia, Inflammation, Headaches, Stress, Muscle Spasms, Fatigue, Lack of Appetite, Spasticity, Eye Pressure']\n",
      "1666    Lack of Appetite, Fatigue, Eye Pressure, Infla...\n",
      "2190    Pain, Lack of Appetite, Headaches, Eye Pressur...\n",
      "1416    Depression, Insomnia, Eye Pressure, Inflammati...\n",
      "1636    Insomnia, Lack of Appetite, Fatigue, Eye Press...\n",
      "951     Insomnia, Pain, Lack of Appetite, Eye Pressure...\n",
      "Name: Medical, dtype: object\n",
      "\n",
      "\n",
      "This is the sample: ['Headaches, Insomnia, Cramps, Spasticity, Eye Pressure, Pain, Lack of Appetite']\n",
      "2190    Pain, Lack of Appetite, Headaches, Eye Pressur...\n",
      "951     Insomnia, Pain, Lack of Appetite, Eye Pressure...\n",
      "1636    Insomnia, Lack of Appetite, Fatigue, Eye Press...\n",
      "751     Pain, Lack of Appetite, Fatigue, Eye Pressure,...\n",
      "2248       Pain, Stress, Headaches, Eye Pressure, Fatigue\n",
      "Name: Medical, dtype: object\n",
      "\n",
      "\n",
      "This is the sample: ['Spasticity, Insomnia, Seizures, Pain']\n",
      "705       Pain, Fatigue, Spasticity, Seizures, Stress\n",
      "929               Insomnia, Stress, Fatigue, Seizures\n",
      "246       Depression, Pain, Seizures, Stress, Fatigue\n",
      "1366      Depression, Pain, Stress, Seizures, Fatigue\n",
      "1393    Depression, Pain, Stress, Spasticity, Fatigue\n",
      "Name: Medical, dtype: object\n",
      "\n",
      "\n",
      "This is the sample: ['Seizures, Spasticity, Headaches, Headache, Stress, Inflammation, Eye Pressure, Insomnia']\n",
      "705           Pain, Fatigue, Spasticity, Seizures, Stress\n",
      "1402    Insomnia, Pain, Headache, Headaches, Eye Press...\n",
      "1416    Depression, Insomnia, Eye Pressure, Inflammati...\n",
      "2316    Depression, Stress, Headache, Headaches, Eye P...\n",
      "400     Depression, Pain, Eye Pressure, Inflammation, ...\n",
      "Name: Medical, dtype: object\n",
      "\n",
      "\n",
      "This is the sample: ['Muscle Spasms, Pain, Insomnia, Lack of Appetite, Depression, Eye Pressure, Cramps']\n",
      "951     Insomnia, Pain, Lack of Appetite, Eye Pressure...\n",
      "1636    Insomnia, Lack of Appetite, Fatigue, Eye Press...\n",
      "751     Pain, Lack of Appetite, Fatigue, Eye Pressure,...\n",
      "1298    Depression, Lack of Appetite, Fatigue, Eye Pre...\n",
      "448         Insomnia, Pain, Eye Pressure, Stress, Fatigue\n",
      "Name: Medical, dtype: object\n",
      "\n",
      "\n",
      "This is the sample: ['']\n",
      "2052    Depression, Headaches, Inflammation, Stress, F...\n",
      "1156    Depression, Fatigue, Headaches, Inflammation, ...\n",
      "65                   Insomnia, Stress, Fatigue, Headaches\n",
      "2084    Depression, Pain, Cramps, Lack of Appetite, St...\n",
      "1556                 Insomnia, Stress, Fatigue, Headaches\n",
      "Name: Medical, dtype: object\n",
      "\n",
      "\n",
      "This is the sample: ['Muscle Spasms, Nausea, Inflammation, Headache, Pain, Fatigue, Stress, Insomnia, Cramps']\n",
      "1994    Pain, Stress, Nausea, Headache, Inflammation, ...\n",
      "1781    Depression, Insomnia, Cramps, Inflammation, St...\n",
      "1169          Pain, Stress, Cramps, Inflammation, Fatigue\n",
      "715       Pain, Stress, Cramps, Nausea, Headache, Fatigue\n",
      "1757    Insomnia, Pain, Nausea, Inflammation, Stress, ...\n",
      "Name: Medical, dtype: object\n",
      "\n",
      "\n",
      "This is the sample: ['Stress, Insomnia']\n",
      "2111                Insomnia, Stress, Fatigue\n",
      "131                 Insomnia, Stress, Fatigue\n",
      "2031                Insomnia, Stress, Fatigue\n",
      "1030                Insomnia, Stress, Fatigue\n",
      "2100    Depression, Insomnia, Stress, Fatigue\n",
      "Name: Medical, dtype: object\n",
      "\n",
      "\n",
      "This is the sample: ['Inflammation, Insomnia, Lack of Appetite, Nausea']\n",
      "1370    Insomnia, Pain, Lack of Appetite, Inflammation...\n",
      "188       Insomnia, Stress, Nausea, Inflammation, Fatigue\n",
      "1757    Insomnia, Pain, Nausea, Inflammation, Stress, ...\n",
      "2283    Pain, Stress, Lack of Appetite, Inflammation, ...\n",
      "925     Depression, Pain, Lack of Appetite, Inflammati...\n",
      "Name: Medical, dtype: object\n",
      "\n",
      "\n",
      "This is the sample: ['Headache, Eye Pressure, Fatigue, Muscle Spasms, Pain, Depression']\n",
      "1716    Depression, Pain, Stress, Headache, Eye Pressu...\n",
      "2282    Depression, Pain, Stress, Headache, Eye Pressu...\n",
      "581     Insomnia, Pain, Stress, Headache, Eye Pressure...\n",
      "1802      Depression, Pain, Stress, Eye Pressure, Fatigue\n",
      "2160      Depression, Pain, Stress, Eye Pressure, Fatigue\n",
      "Name: Medical, dtype: object\n",
      "\n",
      "\n",
      "This is the sample: ['Spasticity, Cramps, Seizures, Nausea, Insomnia, Inflammation']\n",
      "705           Pain, Fatigue, Spasticity, Seizures, Stress\n",
      "2257    Pain, Cramps, Inflammation, Spasticity, Stress...\n",
      "1653      Pain, Stress, Inflammation, Spasticity, Fatigue\n",
      "179     Pain, Lack of Appetite, Inflammation, Seizures...\n",
      "929                   Insomnia, Stress, Fatigue, Seizures\n",
      "Name: Medical, dtype: object\n",
      "\n",
      "\n",
      "This is the sample: ['Headache, Muscle Spasms']\n",
      "932           Depression, Stress, Headache, Fatigue\n",
      "2299          Depression, Stress, Headache, Fatigue\n",
      "2193    Depression, Pain, Stress, Headache, Fatigue\n",
      "2237    Depression, Pain, Stress, Headache, Fatigue\n",
      "2229    Depression, Pain, Stress, Headache, Fatigue\n",
      "Name: Medical, dtype: object\n",
      "\n",
      "\n",
      "This is the sample: ['Inflammation']\n",
      "357     Depression, Stress, Fatigue, Inflammation\n",
      "962     Depression, Inflammation, Stress, Fatigue\n",
      "604     Depression, Stress, Fatigue, Inflammation\n",
      "1365          Pain, Stress, Inflammation, Fatigue\n",
      "1332          Pain, Stress, Fatigue, Inflammation\n",
      "Name: Medical, dtype: object\n",
      "\n",
      "\n",
      "This is the sample: ['Lack of Appetite, Nausea, Seizures, Pain, Inflammation, Eye Pressure, Headache, Muscle Spasms']\n",
      "1666    Lack of Appetite, Fatigue, Eye Pressure, Infla...\n",
      "179     Pain, Lack of Appetite, Inflammation, Seizures...\n",
      "1825    Depression, Stress, Lack of Appetite, Headache...\n",
      "400     Depression, Pain, Eye Pressure, Inflammation, ...\n",
      "751     Pain, Lack of Appetite, Fatigue, Eye Pressure,...\n",
      "Name: Medical, dtype: object\n",
      "\n",
      "\n",
      "This is the sample: ['Headache, Lack of Appetite, Depression, Spasticity']\n",
      "1840    Pain, Lack of Appetite, Fatigue, Spasticity, S...\n",
      "990     Pain, Stress, Lack of Appetite, Spasticity, Fa...\n",
      "587     Depression, Pain, Stress, Headache, Spasticity...\n",
      "300               Depression, Stress, Fatigue, Spasticity\n",
      "1393        Depression, Pain, Stress, Spasticity, Fatigue\n",
      "Name: Medical, dtype: object\n",
      "\n",
      "\n",
      "This is the sample: ['Eye Pressure, Inflammation, Insomnia, Headaches, Pain, Lack of Appetite, Depression, Seizures, Nausea, Stress']\n",
      "1666    Lack of Appetite, Fatigue, Eye Pressure, Infla...\n",
      "2190    Pain, Lack of Appetite, Headaches, Eye Pressur...\n",
      "179     Pain, Lack of Appetite, Inflammation, Seizures...\n",
      "1416    Depression, Insomnia, Eye Pressure, Inflammati...\n",
      "400     Depression, Pain, Eye Pressure, Inflammation, ...\n",
      "Name: Medical, dtype: object\n",
      "\n",
      "\n",
      "This is the sample: ['Cramps, Headache, Depression, Nausea']\n",
      "2098    Depression, Pain, Cramps, Nausea, Headache, St...\n",
      "715       Pain, Stress, Cramps, Nausea, Headache, Fatigue\n",
      "1086          Depression, Stress, Cramps, Nausea, Fatigue\n",
      "1171          Depression, Cramps, Nausea, Stress, Fatigue\n",
      "1642          Depression, Stress, Cramps, Nausea, Fatigue\n",
      "Name: Medical, dtype: object\n",
      "\n",
      "\n",
      "This is the sample: ['Lack of Appetite, Stress, Depression, Fatigue, Seizures, Muscle Spasms, Pain, Headache, Cramps']\n",
      "246           Depression, Pain, Seizures, Stress, Fatigue\n",
      "1366          Depression, Pain, Stress, Seizures, Fatigue\n",
      "179     Pain, Lack of Appetite, Inflammation, Seizures...\n",
      "929                   Insomnia, Stress, Fatigue, Seizures\n",
      "500     Depression, Pain, Cramps, Lack of Appetite, St...\n",
      "Name: Medical, dtype: object\n",
      "\n",
      "\n",
      "This is the sample: ['Eye Pressure, Inflammation, Stress, Cramps, Spasticity, Headache']\n",
      "2257    Pain, Cramps, Inflammation, Spasticity, Stress...\n",
      "400     Depression, Pain, Eye Pressure, Inflammation, ...\n",
      "1416    Depression, Insomnia, Eye Pressure, Inflammati...\n",
      "1666    Lack of Appetite, Fatigue, Eye Pressure, Infla...\n",
      "1716    Depression, Pain, Stress, Headache, Eye Pressu...\n",
      "Name: Medical, dtype: object\n",
      "\n",
      "\n",
      "This is the sample: ['Lack of Appetite, Nausea, Cramps, Insomnia, Depression, Headache']\n",
      "1655    Insomnia, Stress, Cramps, Lack of Appetite, Na...\n",
      "1652    Stress, Cramps, Lack of Appetite, Nausea, Fatigue\n",
      "645     Cramps, Lack of Appetite, Nausea, Stress, Fatigue\n",
      "2131    Pain, Cramps, Lack of Appetite, Nausea, Stress...\n",
      "2319    Depression, Insomnia, Stress, Cramps, Lack of ...\n",
      "Name: Medical, dtype: object\n",
      "\n",
      "\n",
      "This is the sample: ['Spasticity']\n",
      "300               Depression, Stress, Fatigue, Spasticity\n",
      "1393        Depression, Pain, Stress, Spasticity, Fatigue\n",
      "587     Depression, Pain, Stress, Headache, Spasticity...\n",
      "1425         Pain, Fatigue, Headaches, Spasticity, Stress\n",
      "1840    Pain, Lack of Appetite, Fatigue, Spasticity, S...\n",
      "Name: Medical, dtype: object\n",
      "\n",
      "\n",
      "This is the sample: ['Headaches, Depression, Eye Pressure, Fatigue, Cramps, Inflammation, Insomnia, Headache']\n",
      "1416    Depression, Insomnia, Eye Pressure, Inflammati...\n",
      "1402    Insomnia, Pain, Headache, Headaches, Eye Press...\n",
      "2316    Depression, Stress, Headache, Headaches, Eye P...\n",
      "400     Depression, Pain, Eye Pressure, Inflammation, ...\n",
      "1529    Depression, Stress, Headaches, Eye Pressure, F...\n",
      "Name: Medical, dtype: object\n",
      "\n",
      "\n",
      "This is the sample: ['Muscle Spasms, Spasticity, Headaches, Lack of Appetite, Headache']\n",
      "1840    Pain, Lack of Appetite, Fatigue, Spasticity, S...\n",
      "990     Pain, Stress, Lack of Appetite, Spasticity, Fa...\n",
      "1425         Pain, Fatigue, Headaches, Spasticity, Stress\n",
      "587     Depression, Pain, Stress, Headache, Spasticity...\n",
      "300               Depression, Stress, Fatigue, Spasticity\n",
      "Name: Medical, dtype: object\n",
      "\n",
      "\n",
      "This is the sample: ['Eye Pressure, Pain, Insomnia, Seizures, Nausea, Depression, Stress, Muscle Spasms, Lack of Appetite, Fatigue']\n",
      "951     Insomnia, Pain, Lack of Appetite, Eye Pressure...\n",
      "1636    Insomnia, Lack of Appetite, Fatigue, Eye Press...\n",
      "751     Pain, Lack of Appetite, Fatigue, Eye Pressure,...\n",
      "1298    Depression, Lack of Appetite, Fatigue, Eye Pre...\n",
      "595     Depression, Pain, Nausea, Eye Pressure, Stress...\n",
      "Name: Medical, dtype: object\n",
      "\n",
      "\n",
      "This is the sample: ['Seizures, Lack of Appetite, Stress, Insomnia, Eye Pressure, Headache, Cramps']\n",
      "1825    Depression, Stress, Lack of Appetite, Headache...\n",
      "1636    Insomnia, Lack of Appetite, Fatigue, Eye Press...\n",
      "951     Insomnia, Pain, Lack of Appetite, Eye Pressure...\n",
      "1298    Depression, Lack of Appetite, Fatigue, Eye Pre...\n",
      "751     Pain, Lack of Appetite, Fatigue, Eye Pressure,...\n",
      "Name: Medical, dtype: object\n",
      "\n",
      "\n",
      "This is the sample: ['Headache, Headaches, Pain, Cramps, Seizures, Spasticity, Muscle Spasms']\n",
      "705           Pain, Fatigue, Spasticity, Seizures, Stress\n",
      "1425         Pain, Fatigue, Headaches, Spasticity, Stress\n",
      "587     Depression, Pain, Stress, Headache, Spasticity...\n",
      "1366          Depression, Pain, Stress, Seizures, Fatigue\n",
      "246           Depression, Pain, Seizures, Stress, Fatigue\n",
      "Name: Medical, dtype: object\n",
      "\n",
      "\n"
     ]
    }
   ],
   "source": [
    "count = []\n",
    "\n",
    "for row in user_test['Medical'][:50]:\n",
    "    sample = [row]\n",
    "    new = tfidf.transform(sample)\n",
    "    neighbors = nn.kneighbors(new.todense())\n",
    "    neighbors = neighbors[1]\n",
    "    count.append(neighbors)\n",
    "    for i in neighbors:\n",
    "        print('This is the sample:', sample)\n",
    "        print(data['Medical'].iloc[i])\n",
    "        print('\\n')"
   ]
  },
  {
   "cell_type": "code",
   "execution_count": 277,
   "metadata": {},
   "outputs": [
    {
     "data": {
      "text/plain": [
       "[array([[ 929, 1366,  246, 1720,   69]], dtype=int64),\n",
       " array([[1184, 1311, 1206, 1537, 1379]], dtype=int64),\n",
       " array([[2223,  118, 1781, 1257, 1097]], dtype=int64),\n",
       " array([[ 732,  206, 1032, 1041,  270]], dtype=int64),\n",
       " array([[1416,  400, 1607, 1600, 1529]], dtype=int64),\n",
       " array([[ 356,  756, 2099, 1838, 2160]], dtype=int64),\n",
       " array([[ 732,  206, 1032, 1041,  270]], dtype=int64),\n",
       " array([[ 246, 1366,  179,  929,  705]], dtype=int64),\n",
       " array([[1425, 1393,  300,  587,  990]], dtype=int64),\n",
       " array([[1838, 2099,  356,  756, 1802]], dtype=int64),\n",
       " array([[ 756,  356, 1838, 2099, 1802]], dtype=int64),\n",
       " array([[ 587, 2257, 1393,  300,  715]], dtype=int64),\n",
       " array([[ 179,  929,   78,  246, 1366]], dtype=int64),\n",
       " array([[1825,  751, 1298, 2282, 1716]], dtype=int64),\n",
       " array([[2190,  751, 2248, 1198, 1298]], dtype=int64),\n",
       " array([[2052, 1156,   65, 2084, 1556]], dtype=int64),\n",
       " array([[1666, 1825,  400,  751, 1416]], dtype=int64),\n",
       " array([[1840,  990, 1425,  587, 1393]], dtype=int64),\n",
       " array([[1994, 1169,  715, 2098, 1781]], dtype=int64),\n",
       " array([[2190, 1825, 2316, 1402, 1298]], dtype=int64),\n",
       " array([[2190,  751, 2248, 1198, 1298]], dtype=int64),\n",
       " array([[2190,  751, 1198, 2248, 1298]], dtype=int64),\n",
       " array([[ 929,  179, 1366,  246, 1655]], dtype=int64),\n",
       " array([[1416,  400, 1607, 1600, 1529]], dtype=int64),\n",
       " array([[1666, 2190, 1416, 1636,  951]], dtype=int64),\n",
       " array([[2190,  951, 1636,  751, 2248]], dtype=int64),\n",
       " array([[ 705,  929,  246, 1366, 1393]], dtype=int64),\n",
       " array([[ 705, 1402, 1416, 2316,  400]], dtype=int64),\n",
       " array([[ 951, 1636,  751, 1298,  448]], dtype=int64),\n",
       " array([[2052, 1156,   65, 2084, 1556]], dtype=int64),\n",
       " array([[1994, 1781, 1169,  715, 1757]], dtype=int64),\n",
       " array([[2111,  131, 2031, 1030, 2100]], dtype=int64),\n",
       " array([[1370,  188, 1757, 2283,  925]], dtype=int64),\n",
       " array([[1716, 2282,  581, 1802, 2160]], dtype=int64),\n",
       " array([[ 705, 2257, 1653,  179,  929]], dtype=int64),\n",
       " array([[ 932, 2299, 2193, 2237, 2229]], dtype=int64),\n",
       " array([[ 357,  962,  604, 1365, 1332]], dtype=int64),\n",
       " array([[1666,  179, 1825,  400,  751]], dtype=int64),\n",
       " array([[1840,  990,  587,  300, 1393]], dtype=int64),\n",
       " array([[1666, 2190,  179, 1416,  400]], dtype=int64),\n",
       " array([[2098,  715, 1086, 1171, 1642]], dtype=int64),\n",
       " array([[ 246, 1366,  179,  929,  500]], dtype=int64),\n",
       " array([[2257,  400, 1416, 1666, 1716]], dtype=int64),\n",
       " array([[1655, 1652,  645, 2131, 2319]], dtype=int64),\n",
       " array([[ 300, 1393,  587, 1425, 1840]], dtype=int64),\n",
       " array([[1416, 1402, 2316,  400, 1529]], dtype=int64),\n",
       " array([[1840,  990, 1425,  587,  300]], dtype=int64),\n",
       " array([[ 951, 1636,  751, 1298,  595]], dtype=int64),\n",
       " array([[1825, 1636,  951, 1298,  751]], dtype=int64),\n",
       " array([[ 705, 1425,  587, 1366,  246]], dtype=int64)]"
      ]
     },
     "execution_count": 277,
     "metadata": {},
     "output_type": "execute_result"
    }
   ],
   "source": [
    "count #I am about to cycle through this and count how many duplicates there are to measure if this model is sound"
   ]
  },
  {
   "cell_type": "markdown",
   "metadata": {},
   "source": [
    "### Section \n",
    "\n",
    "this is the topic modeling to replicate clustering but with more interpretability"
   ]
  },
  {
   "cell_type": "code",
   "execution_count": null,
   "metadata": {},
   "outputs": [],
   "source": [
    "##########topic modeling"
   ]
  },
  {
   "cell_type": "code",
   "execution_count": 229,
   "metadata": {},
   "outputs": [],
   "source": [
    "from gensim.utils import simple_preprocess\n",
    "\n",
    "def tokenize(text):\n",
    "    return [token for token in simple_preprocess(text)]"
   ]
  },
  {
   "cell_type": "code",
   "execution_count": 230,
   "metadata": {},
   "outputs": [],
   "source": [
    "data['tokens'] = data['everything'].apply(tokenize)"
   ]
  },
  {
   "cell_type": "code",
   "execution_count": 231,
   "metadata": {},
   "outputs": [],
   "source": [
    "from gensim import corpora\n",
    "\n",
    "id2word = corpora.Dictionary(data['tokens'])"
   ]
  },
  {
   "cell_type": "code",
   "execution_count": 232,
   "metadata": {},
   "outputs": [
    {
     "data": {
      "text/plain": [
       "'flowery'"
      ]
     },
     "execution_count": 232,
     "metadata": {},
     "output_type": "execute_result"
    }
   ],
   "source": [
    "id2word[30]"
   ]
  },
  {
   "cell_type": "code",
   "execution_count": 233,
   "metadata": {},
   "outputs": [],
   "source": [
    "#create corpus for lda \n",
    "\n",
    "corpus = [id2word.doc2bow(text) for text in data['tokens']]"
   ]
  },
  {
   "cell_type": "code",
   "execution_count": 234,
   "metadata": {},
   "outputs": [],
   "source": [
    "from gensim.models.ldamulticore import LdaMulticore\n",
    "\n",
    "lda = LdaMulticore(corpus=corpus, #we gotta give them the bag of words\n",
    "                  id2word=id2word, #we wanna see the words\n",
    "                  random_state=42, \n",
    "                  num_topics = 5, #just gonna try ten, probably not a huge variety of reviews\n",
    "                  passes= 25, #he said to amp it up to 100, but imma start small\n",
    "                  workers=8)"
   ]
  },
  {
   "cell_type": "code",
   "execution_count": 235,
   "metadata": {},
   "outputs": [
    {
     "data": {
      "text/plain": [
       "[(0,\n",
       "  '0.069*\"dry\" + 0.050*\"pain\" + 0.049*\"relaxed\" + 0.048*\"paranoid\" + 0.048*\"anxious\" + 0.048*\"stress\" + 0.048*\"mouth\" + 0.048*\"fatigue\" + 0.047*\"happy\" + 0.045*\"euphoric\"'),\n",
       " (1,\n",
       "  '0.055*\"spicy\" + 0.055*\"herbal\" + 0.054*\"dry\" + 0.052*\"paranoid\" + 0.052*\"stress\" + 0.052*\"fatigue\" + 0.052*\"anxious\" + 0.052*\"mouth\" + 0.044*\"depression\" + 0.039*\"happy\"'),\n",
       " (2,\n",
       "  '0.062*\"mouth\" + 0.062*\"fatigue\" + 0.062*\"anxious\" + 0.062*\"stress\" + 0.062*\"paranoid\" + 0.061*\"dry\" + 0.059*\"depression\" + 0.056*\"relaxed\" + 0.054*\"dizzy\" + 0.047*\"happy\"'),\n",
       " (3,\n",
       "  '0.091*\"lack\" + 0.091*\"appetite\" + 0.091*\"of\" + 0.049*\"dry\" + 0.038*\"happy\" + 0.038*\"pain\" + 0.036*\"fatigue\" + 0.036*\"mouth\" + 0.036*\"stress\" + 0.036*\"paranoid\"'),\n",
       " (4,\n",
       "  '0.064*\"dry\" + 0.057*\"mouth\" + 0.057*\"fatigue\" + 0.057*\"stress\" + 0.057*\"anxious\" + 0.057*\"paranoid\" + 0.055*\"depression\" + 0.049*\"uplifted\" + 0.048*\"happy\" + 0.046*\"dizzy\"')]"
      ]
     },
     "execution_count": 235,
     "metadata": {},
     "output_type": "execute_result"
    }
   ],
   "source": [
    "lda.print_topics()"
   ]
  },
  {
   "cell_type": "code",
   "execution_count": 236,
   "metadata": {},
   "outputs": [
    {
     "name": "stderr",
     "output_type": "stream",
     "text": [
      "C:\\ProgramData\\Anaconda3\\lib\\site-packages\\pyLDAvis\\_prepare.py:257: FutureWarning: Sorting because non-concatenation axis is not aligned. A future version\n",
      "of pandas will change to not sort by default.\n",
      "\n",
      "To accept the future behavior, pass 'sort=False'.\n",
      "\n",
      "To retain the current behavior and silence the warning, pass 'sort=True'.\n",
      "\n",
      "  return pd.concat([default_term_info] + list(topic_dfs))\n"
     ]
    },
    {
     "data": {
      "text/html": [
       "\n",
       "<link rel=\"stylesheet\" type=\"text/css\" href=\"https://cdn.rawgit.com/bmabey/pyLDAvis/files/ldavis.v1.0.0.css\">\n",
       "\n",
       "\n",
       "<div id=\"ldavis_el126823429531514329172547096\"></div>\n",
       "<script type=\"text/javascript\">\n",
       "\n",
       "var ldavis_el126823429531514329172547096_data = {\"mdsDat\": {\"x\": [0.009169616763690365, 0.033699177994280675, 0.01446396355955126, -0.12599211157351037, 0.06865935325598799], \"y\": [-0.0229021561686762, 0.04980743687676085, 0.05325120771542664, -0.016772560349192268, -0.06338392807431904], \"topics\": [1, 2, 3, 4, 5], \"cluster\": [1, 1, 1, 1, 1], \"Freq\": [31.601041793823242, 25.630939483642578, 20.741296768188477, 11.046262741088867, 10.980463027954102]}, \"tinfo\": {\"Category\": [\"Default\", \"Default\", \"Default\", \"Default\", \"Default\", \"Default\", \"Default\", \"Default\", \"Default\", \"Default\", \"Default\", \"Default\", \"Default\", \"Default\", \"Default\", \"Default\", \"Default\", \"Default\", \"Default\", \"Default\", \"Default\", \"Default\", \"Default\", \"Default\", \"Default\", \"Default\", \"Default\", \"Default\", \"Default\", \"Default\", \"Topic1\", \"Topic1\", \"Topic1\", \"Topic1\", \"Topic1\", \"Topic1\", \"Topic1\", \"Topic1\", \"Topic1\", \"Topic1\", \"Topic1\", \"Topic1\", \"Topic1\", \"Topic1\", \"Topic1\", \"Topic1\", \"Topic1\", \"Topic1\", \"Topic1\", \"Topic1\", \"Topic1\", \"Topic1\", \"Topic1\", \"Topic1\", \"Topic1\", \"Topic1\", \"Topic1\", \"Topic1\", \"Topic1\", \"Topic1\", \"Topic1\", \"Topic1\", \"Topic1\", \"Topic1\", \"Topic1\", \"Topic1\", \"Topic1\", \"Topic1\", \"Topic1\", \"Topic1\", \"Topic1\", \"Topic1\", \"Topic1\", \"Topic2\", \"Topic2\", \"Topic2\", \"Topic2\", \"Topic2\", \"Topic2\", \"Topic2\", \"Topic2\", \"Topic2\", \"Topic2\", \"Topic2\", \"Topic2\", \"Topic2\", \"Topic2\", \"Topic2\", \"Topic2\", \"Topic2\", \"Topic2\", \"Topic2\", \"Topic2\", \"Topic2\", \"Topic2\", \"Topic2\", \"Topic2\", \"Topic2\", \"Topic2\", \"Topic2\", \"Topic2\", \"Topic2\", \"Topic2\", \"Topic2\", \"Topic2\", \"Topic2\", \"Topic2\", \"Topic2\", \"Topic2\", \"Topic2\", \"Topic2\", \"Topic2\", \"Topic2\", \"Topic3\", \"Topic3\", \"Topic3\", \"Topic3\", \"Topic3\", \"Topic3\", \"Topic3\", \"Topic3\", \"Topic3\", \"Topic3\", \"Topic3\", \"Topic3\", \"Topic3\", \"Topic3\", \"Topic3\", \"Topic3\", \"Topic3\", \"Topic3\", \"Topic3\", \"Topic3\", \"Topic3\", \"Topic3\", \"Topic3\", \"Topic3\", \"Topic3\", \"Topic3\", \"Topic3\", \"Topic3\", \"Topic3\", \"Topic3\", \"Topic3\", \"Topic3\", \"Topic3\", \"Topic3\", \"Topic3\", \"Topic3\", \"Topic3\", \"Topic3\", \"Topic3\", \"Topic3\", \"Topic3\", \"Topic3\", \"Topic3\", \"Topic3\", \"Topic3\", \"Topic3\", \"Topic4\", \"Topic4\", \"Topic4\", \"Topic4\", \"Topic4\", \"Topic4\", \"Topic4\", \"Topic4\", \"Topic4\", \"Topic4\", \"Topic4\", \"Topic4\", \"Topic4\", \"Topic4\", \"Topic4\", \"Topic4\", \"Topic4\", \"Topic4\", \"Topic4\", \"Topic4\", \"Topic4\", \"Topic4\", \"Topic4\", \"Topic4\", \"Topic4\", \"Topic4\", \"Topic4\", \"Topic4\", \"Topic4\", \"Topic4\", \"Topic4\", \"Topic4\", \"Topic4\", \"Topic4\", \"Topic4\", \"Topic4\", \"Topic4\", \"Topic4\", \"Topic4\", \"Topic4\", \"Topic4\", \"Topic4\", \"Topic4\", \"Topic4\", \"Topic5\", \"Topic5\", \"Topic5\", \"Topic5\", \"Topic5\", \"Topic5\", \"Topic5\", \"Topic5\", \"Topic5\", \"Topic5\", \"Topic5\", \"Topic5\", \"Topic5\", \"Topic5\", \"Topic5\", \"Topic5\", \"Topic5\", \"Topic5\", \"Topic5\", \"Topic5\", \"Topic5\", \"Topic5\", \"Topic5\", \"Topic5\", \"Topic5\", \"Topic5\", \"Topic5\", \"Topic5\", \"Topic5\", \"Topic5\", \"Topic5\", \"Topic5\", \"Topic5\", \"Topic5\", \"Topic5\", \"Topic5\", \"Topic5\", \"Topic5\", \"Topic5\", \"Topic5\", \"Topic5\", \"Topic5\", \"Topic5\", \"Topic5\", \"Topic5\", \"Topic5\", \"Topic5\"], \"Freq\": [444.0, 444.0, 444.0, 265.0, 265.0, 787.0, 841.0, 169.0, 1152.0, 642.0, 440.0, 634.0, 359.0, 987.0, 626.0, 433.0, 400.0, 148.0, 2700.0, 68.0, 1860.0, 404.0, 326.0, 248.0, 307.0, 1179.0, 736.0, 2342.0, 2342.0, 2342.0, 74.33626556396484, 54.827842712402344, 204.036376953125, 634.5403442382812, 498.1292419433594, 30.918169021606445, 11.863231658935547, 264.2138671875, 1.1752231121063232, 153.26913452148438, 7.060729026794434, 398.6982727050781, 523.6044311523438, 4.666422367095947, 43.617774963378906, 81.11676788330078, 675.394287109375, 127.71092224121094, 57.98988342285156, 99.86741638183594, 25.094743728637695, 766.7964477539062, 635.5213623046875, 9.728361129760742, 16.72380256652832, 19.34909439086914, 84.23255920410156, 790.0932006835938, 790.0449829101562, 789.9754638671875, 789.975341796875, 789.923095703125, 661.8685302734375, 880.2975463867188, 571.3817749023438, 372.00775146484375, 188.75466918945312, 371.319580078125, 449.7140197753906, 291.6837463378906, 117.56561279296875, 97.2930679321289, 95.20704650878906, 20.106691360473633, 30.523210525512695, 309.69610595703125, 18.244489669799805, 192.39007568359375, 513.612060546875, 1.2012238502502441, 224.82432556152344, 13.756389617919922, 332.4478759765625, 30.22740364074707, 121.33712768554688, 252.8077850341797, 3.63045597076416, 518.5830688476562, 9.97608470916748, 606.4655151367188, 628.44140625, 75.6983413696289, 14.770161628723145, 658.2945556640625, 692.664306640625, 692.5975341796875, 692.529052734375, 692.4559936523438, 692.4315185546875, 70.53129577636719, 506.130615234375, 99.65122985839844, 14.755046844482422, 529.0625610351562, 690.5681762695312, 157.59249877929688, 333.2958679199219, 210.78787231445312, 90.23561096191406, 123.24922943115234, 93.9630355834961, 70.84519958496094, 53.99361038208008, 52.02626037597656, 33.56544494628906, 140.7471466064453, 40.6081428527832, 5.271755695343018, 37.953495025634766, 73.67857360839844, 34.10331344604492, 275.65545654296875, 20.617334365844727, 20.61324691772461, 210.09371948242188, 373.2289123535156, 38.701072692871094, 20.538597106933594, 20.324462890625, 136.17404174804688, 76.19991302490234, 165.86166381835938, 451.1763610839844, 399.7791442871094, 212.94589233398438, 16.01435661315918, 4.245245456695557, 115.2970199584961, 254.1787872314453, 45.517608642578125, 2.870441436767578, 72.4930419921875, 58.666709899902344, 445.9579162597656, 631.7129516601562, 408.74200439453125, 430.47747802734375, 435.1565856933594, 435.11358642578125, 435.08245849609375, 434.776123046875, 434.5474548339844, 322.7257995605469, 336.5916442871094, 289.8753662109375, 192.25625610351562, 141.1563262939453, 87.27105712890625, 80.39891815185547, 442.6621398925781, 442.6540222167969, 442.6518859863281, 53.78661346435547, 53.786376953125, 4.965332984924316, 3.2313127517700195, 70.13158416748047, 16.223161697387695, 44.04275894165039, 181.81494140625, 3.413182497024536, 43.64543151855469, 11.383362770080566, 2.381639003753662, 27.516326904296875, 2.9249727725982666, 48.046234130859375, 46.415016174316406, 39.066715240478516, 46.81595230102539, 106.13432312011719, 68.77415466308594, 66.4176254272461, 0.20230115950107574, 0.20229868590831757, 59.29243469238281, 112.41979217529297, 5.145963191986084, 183.1636505126953, 120.68894958496094, 164.72796630859375, 67.35245513916016, 239.06842041015625, 146.01202392578125, 155.01766967773438, 175.427978515625, 175.27371215820312, 175.10435485839844, 175.1005096435547, 175.08847045898438, 66.20893096923828, 112.22809600830078, 59.338199615478516, 263.9602355957031, 263.9450378417969, 67.88935089111328, 44.30366897583008, 11.960807800292969, 19.25845718383789, 37.69387435913086, 148.4424285888672, 5.096554279327393, 14.28428840637207, 7.539663314819336, 4.045017242431641, 5.37905216217041, 11.706469535827637, 11.70641803741455, 3.517641544342041, 16.325546264648438, 69.2395248413086, 14.940181732177734, 13.892582893371582, 27.420761108398438, 6.582006454467773, 90.86785888671875, 15.204837799072266, 9.239178657531738, 145.78424072265625, 62.8426399230957, 35.94892883300781, 95.82815551757812, 50.13330078125, 250.1710205078125, 250.16212463378906, 250.15435791015625, 250.07608032226562, 249.97079467773438, 213.235107421875, 258.89654541015625, 166.5844268798828, 181.22439575195312, 188.3704833984375, 162.4609832763672, 153.88259887695312, 114.5075912475586, 104.94801330566406, 76.20623779296875, 84.15911865234375, 49.89924621582031], \"Term\": [\"lack\", \"appetite\", \"of\", \"spicy\", \"herbal\", \"energetic\", \"sleepy\", \"blueberry\", \"pain\", \"insomnia\", \"berry\", \"hungry\", \"eyes\", \"creative\", \"citrus\", \"talkative\", \"tingly\", \"grape\", \"dry\", \"pepper\", \"relaxed\", \"pine\", \"headache\", \"aroused\", \"woody\", \"sweet\", \"focused\", \"fatigue\", \"paranoid\", \"stress\", \"orange\", \"lime\", \"lemon\", \"energetic\", \"citrus\", \"grapefruit\", \"blue\", \"talkative\", \"fruity\", \"diesel\", \"tobacco\", \"focused\", \"creative\", \"violet\", \"cheese\", \"tropical\", \"uplifted\", \"headache\", \"headaches\", \"nausea\", \"chemical\", \"depression\", \"dizzy\", \"menthol\", \"honey\", \"minty\", \"aroused\", \"mouth\", \"fatigue\", \"stress\", \"anxious\", \"paranoid\", \"happy\", \"dry\", \"euphoric\", \"sweet\", \"pungent\", \"earthy\", \"relaxed\", \"pain\", \"pine\", \"flowery\", \"giggly\", \"rose\", \"coffee\", \"tingly\", \"mint\", \"woody\", \"sleepy\", \"grapes\", \"pine\", \"tea\", \"hungry\", \"chemical\", \"diesel\", \"pungent\", \"violet\", \"earthy\", \"menthol\", \"dizzy\", \"relaxed\", \"skunk\", \"nutty\", \"depression\", \"mouth\", \"fatigue\", \"anxious\", \"stress\", \"paranoid\", \"aroused\", \"euphoric\", \"flowery\", \"minty\", \"happy\", \"dry\", \"insomnia\", \"uplifted\", \"sweet\", \"berry\", \"pain\", \"focused\", \"creative\", \"giggly\", \"pineapple\", \"butter\", \"grape\", \"mango\", \"peach\", \"strawberry\", \"cramps\", \"lavender\", \"berry\", \"eye\", \"pressure\", \"eyes\", \"insomnia\", \"inflammation\", \"vanilla\", \"honey\", \"headache\", \"tropical\", \"giggly\", \"pain\", \"sweet\", \"hungry\", \"grapefruit\", \"tobacco\", \"flowery\", \"sleepy\", \"headaches\", \"spasticity\", \"nausea\", \"skunk\", \"relaxed\", \"dry\", \"euphoric\", \"happy\", \"paranoid\", \"anxious\", \"stress\", \"mouth\", \"fatigue\", \"uplifted\", \"depression\", \"dizzy\", \"earthy\", \"creative\", \"pungent\", \"focused\", \"lack\", \"appetite\", \"of\", \"fruit\", \"tree\", \"tar\", \"spasticity\", \"eyes\", \"cheese\", \"nausea\", \"pain\", \"tea\", \"headache\", \"orange\", \"blue\", \"skunk\", \"mint\", \"giggly\", \"pine\", \"flowery\", \"talkative\", \"creative\", \"insomnia\", \"hungry\", \"fruity\", \"grapes\", \"pungent\", \"sweet\", \"minty\", \"happy\", \"earthy\", \"euphoric\", \"focused\", \"dry\", \"uplifted\", \"relaxed\", \"fatigue\", \"mouth\", \"stress\", \"paranoid\", \"anxious\", \"energetic\", \"depression\", \"dizzy\", \"spicy\", \"herbal\", \"pepper\", \"sage\", \"chestnut\", \"apple\", \"ammonia\", \"blueberry\", \"pear\", \"apricot\", \"plum\", \"seizures\", \"tar\", \"pressure\", \"eye\", \"spasticity\", \"nutty\", \"aroused\", \"minty\", \"strawberry\", \"cramps\", \"menthol\", \"talkative\", \"inflammation\", \"honey\", \"creative\", \"berry\", \"nausea\", \"focused\", \"giggly\", \"paranoid\", \"stress\", \"fatigue\", \"anxious\", \"mouth\", \"depression\", \"dry\", \"uplifted\", \"relaxed\", \"happy\", \"euphoric\", \"dizzy\", \"earthy\", \"pain\", \"energetic\", \"sweet\", \"sleepy\"], \"Total\": [444.0, 444.0, 444.0, 265.0, 265.0, 787.0, 841.0, 169.0, 1152.0, 642.0, 440.0, 634.0, 359.0, 987.0, 626.0, 433.0, 400.0, 148.0, 2700.0, 68.0, 1860.0, 404.0, 326.0, 248.0, 307.0, 1179.0, 736.0, 2342.0, 2342.0, 2342.0, 86.72097778320312, 65.1373062133789, 242.59983825683594, 787.46630859375, 626.3209228515625, 47.726070404052734, 18.80800437927246, 433.38671875, 1.9784671068191528, 280.4292297363281, 12.926507949829102, 736.2408447265625, 987.5245361328125, 8.9180269241333, 86.21854400634766, 183.87591552734375, 1644.012451171875, 326.825439453125, 151.78192138671875, 264.40167236328125, 66.52708435058594, 2087.14599609375, 1745.0830078125, 26.7203311920166, 46.9144172668457, 54.44981384277344, 248.5826416015625, 2342.778076171875, 2342.7724609375, 2342.7802734375, 2342.782470703125, 2342.78271484375, 1992.94287109375, 2700.54345703125, 1813.443359375, 1179.15380859375, 597.3106689453125, 1317.35546875, 1860.3553466796875, 1152.872314453125, 404.699462890625, 359.98724365234375, 413.2418518066406, 21.04602813720703, 35.98788833618164, 400.216796875, 25.140182495117188, 307.22979736328125, 841.6630249023438, 2.0002083778381348, 404.699462890625, 24.92975616455078, 634.440185546875, 66.52708435058594, 280.4292297363281, 597.3106689453125, 8.9180269241333, 1317.35546875, 26.7203311920166, 1745.0830078125, 1860.3553466796875, 229.39288330078125, 46.63234329223633, 2087.14599609375, 2342.778076171875, 2342.7724609375, 2342.782470703125, 2342.7802734375, 2342.78271484375, 248.5826416015625, 1813.443359375, 359.98724365234375, 54.44981384277344, 1992.94287109375, 2700.54345703125, 642.8179931640625, 1644.012451171875, 1179.15380859375, 440.6537780761719, 1152.872314453125, 736.2408447265625, 987.5245361328125, 413.2418518066406, 53.02688980102539, 34.657371520996094, 148.81484985351562, 43.7588005065918, 6.098660469055176, 52.492252349853516, 107.88276672363281, 52.61176681518555, 440.6537780761719, 33.183597564697266, 33.1834602355957, 359.49664306640625, 642.8179931640625, 73.12957763671875, 39.25029373168945, 46.9144172668457, 326.825439453125, 183.87591552734375, 413.2418518066406, 1152.872314453125, 1179.15380859375, 634.440185546875, 47.726070404052734, 12.926507949829102, 359.98724365234375, 841.6630249023438, 151.78192138671875, 10.020923614501953, 264.40167236328125, 229.39288330078125, 1860.3553466796875, 2700.54345703125, 1813.443359375, 1992.94287109375, 2342.78271484375, 2342.782470703125, 2342.7802734375, 2342.778076171875, 2342.7724609375, 1644.012451171875, 2087.14599609375, 1745.0830078125, 1317.35546875, 987.5245361328125, 597.3106689453125, 736.2408447265625, 444.0124816894531, 444.0127258300781, 444.0128173828125, 54.60426712036133, 54.604251861572266, 10.953697204589844, 10.020923614501953, 359.49664306640625, 86.21854400634766, 264.40167236328125, 1152.872314453125, 24.92975616455078, 326.825439453125, 86.72097778320312, 18.80800437927246, 229.39288330078125, 25.140182495117188, 413.2418518066406, 404.699462890625, 359.98724365234375, 433.38671875, 987.5245361328125, 642.8179931640625, 634.440185546875, 1.9784671068191528, 2.0002083778381348, 597.3106689453125, 1179.15380859375, 54.44981384277344, 1992.94287109375, 1317.35546875, 1813.443359375, 736.2408447265625, 2700.54345703125, 1644.012451171875, 1860.3553466796875, 2342.7724609375, 2342.778076171875, 2342.7802734375, 2342.78271484375, 2342.782470703125, 787.46630859375, 2087.14599609375, 1745.0830078125, 265.0635070800781, 265.0638427734375, 68.73065185546875, 45.17196273803711, 12.777244567871094, 20.64321517944336, 41.26639938354492, 169.33544921875, 5.9059882164001465, 16.737823486328125, 8.860108375549316, 5.946111679077148, 10.953697204589844, 33.1834602355957, 33.183597564697266, 10.020923614501953, 46.63234329223633, 248.5826416015625, 54.44981384277344, 52.492252349853516, 107.88276672363281, 26.7203311920166, 433.38671875, 73.12957763671875, 46.9144172668457, 987.5245361328125, 440.6537780761719, 264.40167236328125, 736.2408447265625, 413.2418518066406, 2342.78271484375, 2342.7802734375, 2342.7724609375, 2342.782470703125, 2342.778076171875, 2087.14599609375, 2700.54345703125, 1644.012451171875, 1860.3553466796875, 1992.94287109375, 1813.443359375, 1745.0830078125, 1317.35546875, 1152.872314453125, 787.46630859375, 1179.15380859375, 841.6630249023438], \"loglift\": [30.0, 29.0, 28.0, 27.0, 26.0, 25.0, 24.0, 23.0, 22.0, 21.0, 20.0, 19.0, 18.0, 17.0, 16.0, 15.0, 14.0, 13.0, 12.0, 11.0, 10.0, 9.0, 8.0, 7.0, 6.0, 5.0, 4.0, 3.0, 2.0, 1.0, 0.9979000091552734, 0.9797000288963318, 0.9789000153541565, 0.9361000061035156, 0.9229999780654907, 0.7178000211715698, 0.691100001335144, 0.6571000218391418, 0.6310999989509583, 0.5479000210762024, 0.5472000241279602, 0.5386000275611877, 0.5174999833106995, 0.5042999982833862, 0.4706000089645386, 0.3336000144481659, 0.2624000012874603, 0.21230000257492065, 0.18979999423027039, 0.17839999496936798, 0.1770000010728836, 0.15060000121593475, 0.14190000295639038, 0.14159999787807465, 0.12049999833106995, 0.11729999631643295, 0.0697999969124794, 0.06499999761581421, 0.06499999761581421, 0.0649000033736229, 0.0649000033736229, 0.06480000168085098, 0.04969999939203262, 0.03099999949336052, -0.002899999963119626, -0.0017000000225380063, -0.0, -0.11429999768733978, -0.2678999900817871, -0.2223999947309494, -0.08420000225305557, -0.15639999508857727, -0.3160000145435333, 1.3157000541687012, 1.1966999769210815, 1.1050000190734863, 1.0407999753952026, 0.8932999968528748, 0.8675000071525574, 0.8514999747276306, 0.7735000252723694, 0.7667999863624573, 0.7150999903678894, 0.5724999904632568, 0.5235999822616577, 0.5016000270843506, 0.4627000093460083, 0.42910000681877136, 0.37610000371932983, 0.304500013589859, 0.2761000096797943, 0.25270000100135803, 0.21170000731945038, 0.20749999582767487, 0.1428000032901764, 0.14270000159740448, 0.14259999990463257, 0.14249999821186066, 0.14249999821186066, 0.10170000046491623, 0.0851999968290329, 0.07699999958276749, 0.05570000037550926, 0.035100001841783524, -0.002300000051036477, -0.04450000077486038, -0.2345000058412552, -0.3603000044822693, -0.22450000047683716, -0.8744000196456909, -0.6973000168800354, -1.273300051689148, -0.673799991607666, 1.5540000200271606, 1.5410000085830688, 1.517300009727478, 1.4982999563217163, 1.427299976348877, 1.2487000226974487, 1.1916999816894531, 1.1395000219345093, 1.1038999557495117, 1.097100019454956, 1.0968999862670898, 1.0358999967575073, 1.0293999910354614, 0.9366999864578247, 0.9254000186920166, 0.7365000247955322, 0.6976000070571899, 0.6920999884605408, 0.6601999998092651, 0.6348999738693237, 0.49140000343322754, 0.4812999963760376, 0.4810999929904938, 0.4596000015735626, 0.4345000088214874, 0.3756999969482422, 0.3686999976634979, 0.32280001044273376, 0.2791000008583069, 0.2094999998807907, 0.14470000565052032, 0.12030000239610672, 0.08309999853372574, 0.0406000018119812, -0.11029999703168869, -0.1103999987244606, -0.11050000041723251, -0.1111999973654747, -0.11169999837875366, -0.054999999701976776, -0.2515999972820282, -0.22210000455379486, -0.351500004529953, -0.37229999899864197, -0.35040000081062317, -0.6414999961853027, 2.200000047683716, 2.200000047683716, 2.200000047683716, 2.187999963760376, 2.187999963760376, 1.4119000434875488, 1.0713000297546387, 0.5687000155448914, 0.5325999855995178, 0.4108000099658966, 0.3560999929904938, 0.21469999849796295, 0.18979999423027039, 0.17249999940395355, 0.13660000264644623, 0.08240000158548355, 0.051899999380111694, 0.05119999870657921, 0.03759999945759773, -0.01769999973475933, -0.022299999371170998, -0.027400000020861626, -0.03200000151991844, -0.053700000047683716, -0.07720000296831131, -0.08820000290870667, -0.10689999908208847, -0.14720000326633453, -0.15600000321865082, -0.18389999866485596, -0.18709999322891235, -0.1956000030040741, -0.18850000202655792, -0.22139999270439148, -0.21809999644756317, -0.28189998865127563, -0.3887999951839447, -0.3896999955177307, -0.3905999958515167, -0.39070001244544983, -0.39070001244544983, -0.2728999853134155, -0.7199000120162964, -1.1782000064849854, 2.204900026321411, 2.2047998905181885, 2.196700096130371, 2.1895999908447266, 2.1429998874664307, 2.1396000385284424, 2.118499994277954, 2.077399969100952, 2.0617001056671143, 2.05049991607666, 2.0476999282836914, 1.823799967765808, 1.4979000091552734, 1.167099952697754, 1.167099952697754, 1.1621999740600586, 1.159500002861023, 0.9308000206947327, 0.9157999753952026, 0.8797000050544739, 0.8392999768257141, 0.8080000281333923, 0.6467999815940857, 0.6384000182151794, 0.5842000246047974, 0.29600000381469727, 0.2614000141620636, 0.21369999647140503, 0.17010000348091125, 0.09969999641180038, -0.027899999171495438, -0.027899999171495438, -0.02800000086426735, -0.028300000354647636, -0.028699999675154686, -0.07209999859333038, -0.13570000231266022, -0.08030000329017639, -0.11969999969005585, -0.14990000426769257, -0.20350000262260437, -0.21930000185966492, -0.2337000072002411, -0.1875, -0.12630000710487366, -0.4307999908924103, -0.6162999868392944], \"logprob\": [30.0, 29.0, 28.0, 27.0, 26.0, 25.0, 24.0, 23.0, 22.0, 21.0, 20.0, 19.0, 18.0, 17.0, 16.0, 15.0, 14.0, 13.0, 12.0, 11.0, 10.0, 9.0, 8.0, 7.0, 6.0, 5.0, 4.0, 3.0, 2.0, 1.0, -5.228000164031982, -5.532400131225586, -4.218299865722656, -3.083699941635132, -3.325700044631958, -6.105299949645996, -7.063199996948242, -3.9598000049591064, -9.375100135803223, -4.50439977645874, -7.581999778747559, -3.5483999252319336, -3.275899887084961, -7.996200084686279, -5.761099815368652, -5.140699863433838, -3.0213000774383545, -4.686800003051758, -5.47629976272583, -4.932799816131592, -6.313899993896484, -2.894399881362915, -3.0820999145507812, -7.261600017547607, -6.719799995422363, -6.57390022277832, -5.103000164031982, -2.8643999099731445, -2.864500045776367, -2.8645999431610107, -2.8645999431610107, -2.8647000789642334, -3.0415000915527344, -2.7562999725341797, -3.188499927520752, -3.6177000999450684, -4.29610013961792, -3.619499921798706, -3.427999973297119, -3.8608999252319336, -4.769599914550781, -4.958899974822998, -4.980500221252441, -6.326200008392334, -5.908699989318848, -3.591599941253662, -6.423299789428711, -4.067699909210205, -3.085700035095215, -9.143899917602539, -3.911900043487549, -6.705699920654297, -3.520699977874756, -5.918499946594238, -4.528600215911865, -3.794600009918213, -8.037799835205078, -3.0761001110076904, -7.0269999504089355, -2.919600009918213, -2.884000062942505, -5.000400066375732, -6.6346001625061035, -2.837599992752075, -2.7867000102996826, -2.786799907684326, -2.786900043487549, -2.7869999408721924, -2.7869999408721924, -5.071100234985352, -3.100399971008301, -4.725500106811523, -6.6356000900268555, -3.0560998916625977, -2.7897000312805176, -4.267199993133545, -3.518199920654297, -3.9763998985290527, -4.82480001449585, -4.513000011444092, -4.784299850463867, -5.066699981689453, -5.3383002281188965, -5.16379976272583, -5.6020002365112305, -4.168600082397461, -5.411600112915039, -7.453199863433838, -5.4791998863220215, -4.815800189971924, -5.586100101470947, -3.4964001178741455, -6.089399814605713, -6.089600086212158, -3.7679998874664307, -3.1933000087738037, -5.459700107574463, -6.093200206756592, -6.103700160980225, -4.201600074768066, -4.782199859619141, -4.00439977645874, -3.003700017929077, -3.1245999336242676, -3.754499912261963, -6.3420000076293945, -7.6697001457214355, -4.368000030517578, -3.577500104904175, -5.297399997711182, -8.061100006103516, -4.831999778747559, -5.043700218200684, -3.0153000354766846, -2.667099952697754, -3.102400064468384, -3.050600051879883, -3.039799928665161, -3.039900064468384, -3.0399999618530273, -3.0406999588012695, -3.0411999225616455, -3.33870005607605, -3.2967000007629395, -3.4460999965667725, -3.8566999435424805, -4.1656999588012695, -4.646500110626221, -4.728499889373779, -2.392699956893921, -2.392699956893921, -2.392699956893921, -4.500500202178955, -4.500500202178955, -6.882999897003174, -7.312600135803223, -4.235099792480469, -5.699100017547607, -4.700300216674805, -3.2825000286102295, -7.257900238037109, -4.709400177001953, -6.053299903869629, -7.617700099945068, -5.1707000732421875, -7.412199974060059, -4.61329984664917, -4.647900104522705, -4.820199966430664, -4.6392998695373535, -3.8208000659942627, -4.254700183868408, -4.2895002365112305, -10.083499908447266, -10.083499908447266, -4.4029998779296875, -3.7632999420166016, -6.847300052642822, -3.275099992752075, -3.6923000812530518, -3.381200075149536, -4.275599956512451, -3.008699893951416, -3.501800060272217, -3.441999912261963, -3.3183000087738037, -3.3190999031066895, -3.3201000690460205, -3.3201000690460205, -3.320199966430664, -4.292699813842773, -3.765000104904175, -4.402200222015381, -2.903700113296509, -2.9038000106811523, -4.261600017547607, -4.688499927520752, -5.997900009155273, -5.521599769592285, -4.849999904632568, -3.479300022125244, -6.85099983215332, -5.820400238037109, -6.4593000411987305, -7.081999778747559, -6.796999931335449, -6.019400119781494, -6.019400119781494, -7.221700191497803, -5.686800003051758, -4.242000102996826, -5.7754998207092285, -5.848199844360352, -5.1682000160217285, -6.595200061798096, -3.970099925994873, -5.757900238037109, -6.256100177764893, -3.4974000453948975, -4.338900089263916, -4.89739990234375, -3.9170000553131104, -4.564799785614014, -2.95740008354187, -2.95740008354187, -2.95740008354187, -2.9577999114990234, -2.958199977874756, -3.1171000003814697, -2.923099994659424, -3.364000082015991, -3.2797999382019043, -3.2411000728607178, -3.3891000747680664, -3.4433000087738037, -3.7388999462127686, -3.8261001110076904, -4.146100044250488, -4.046800136566162, -4.569499969482422]}, \"token.table\": {\"Topic\": [1, 2, 3, 5, 1, 2, 3, 4, 5, 4, 2, 5, 2, 5, 1, 2, 3, 4, 5, 1, 2, 3, 4, 5, 1, 2, 4, 2, 3, 4, 5, 3, 1, 2, 4, 5, 1, 2, 4, 5, 5, 1, 2, 3, 4, 5, 1, 2, 1, 2, 3, 5, 1, 2, 3, 4, 5, 1, 2, 3, 4, 5, 1, 2, 3, 4, 5, 1, 2, 3, 4, 5, 1, 2, 3, 4, 5, 1, 2, 3, 4, 5, 1, 2, 3, 4, 5, 1, 2, 3, 4, 5, 3, 5, 1, 2, 3, 4, 5, 1, 2, 3, 4, 5, 1, 2, 3, 4, 5, 1, 2, 3, 4, 5, 4, 1, 1, 2, 3, 4, 5, 2, 3, 1, 3, 2, 1, 2, 3, 4, 5, 1, 2, 3, 4, 1, 2, 3, 4, 5, 5, 1, 3, 5, 1, 2, 3, 4, 5, 1, 3, 5, 1, 2, 3, 4, 5, 4, 1, 2, 3, 1, 2, 3, 4, 5, 1, 3, 4, 3, 5, 1, 2, 5, 2, 3, 4, 1, 2, 4, 5, 1, 2, 3, 4, 5, 1, 2, 3, 4, 5, 1, 2, 3, 4, 5, 4, 1, 3, 4, 1, 2, 3, 4, 5, 1, 2, 3, 4, 5, 3, 5, 5, 1, 2, 3, 4, 5, 3, 2, 5, 3, 5, 1, 2, 3, 4, 5, 1, 2, 3, 4, 5, 2, 5, 3, 5, 1, 2, 3, 4, 5, 1, 2, 3, 4, 5, 3, 4, 5, 5, 3, 5, 1, 2, 3, 4, 5, 1, 2, 3, 4, 5, 1, 2, 3, 4, 5, 4, 5, 1, 2, 4, 5, 1, 2, 3, 4, 5, 1, 3, 5, 4, 1, 2, 3, 4, 5, 1, 2, 3, 4, 5, 1, 2, 3, 4, 5, 1, 2, 1, 2, 3, 4, 5], \"Freq\": [0.048465579748153687, 0.024232789874076843, 0.024232789874076843, 0.9208460450172424, 0.3372058570384979, 0.29580211639404297, 0.18567664921283722, 0.07469750195741653, 0.10671071708202362, 0.9977191686630249, 0.048442065715789795, 0.9203992486000061, 0.11948984861373901, 0.8364289402961731, 0.3379157781600952, 0.2856192886829376, 0.008045613765716553, 0.08850175142288208, 0.27757367491722107, 0.002269355347380042, 0.20424197614192963, 0.6263420581817627, 0.024962909519672394, 0.14296938478946686, 0.638026237487793, 0.21267540752887726, 0.10633770376443863, 0.08858156949281693, 0.011810876429080963, 0.023621752858161926, 0.8740048408508301, 0.9810322523117065, 0.5103310346603394, 0.18557493388652802, 0.18557493388652802, 0.11598432809114456, 0.37578681111335754, 0.4509441554546356, 0.060125887393951416, 0.10522030293941498, 0.9391696453094482, 0.7951195240020752, 0.020756132900714874, 0.06226839870214462, 0.07344477623701096, 0.04789876565337181, 0.1389356255531311, 0.8614009022712708, 0.03707728534936905, 0.018538642674684525, 0.6859297752380371, 0.25027167797088623, 0.530619740486145, 0.07189694792032242, 0.14278125762939453, 0.10733910650014877, 0.14784443378448486, 0.36748746037483215, 0.315263032913208, 0.16146451234817505, 0.05366179347038269, 0.10205323249101639, 0.545592188835144, 0.43148142099380493, 0.003565962193533778, 0.014263848774135113, 0.003565962193533778, 0.3644525706768036, 0.3472614288330078, 0.16618120670318604, 0.03380927816033363, 0.08824795484542847, 0.3258603513240814, 0.2558744251728058, 0.2340269684791565, 0.08850070834159851, 0.09590662270784378, 0.28162482380867004, 0.39397111535072327, 0.14574654400348663, 0.09185068309307098, 0.08729610592126846, 0.8063837289810181, 0.0012698955833911896, 0.012698955833911896, 0.08381310850381851, 0.09651206433773041, 0.31487059593200684, 0.27902719378471375, 0.22553779184818268, 0.09098712354898453, 0.08933281153440475, 0.6328427791595459, 0.36162444949150085, 0.20862503349781036, 0.002781667048111558, 0.5841500759124756, 0.1947167068719864, 0.008345001377165318, 0.3372073173522949, 0.29580336809158325, 0.1856774389743805, 0.0746978223323822, 0.10671117156744003, 0.2694540023803711, 0.27778762578964233, 0.3194557726383209, 0.1083371713757515, 0.025000885128974915, 0.5419422388076782, 0.1276756078004837, 0.10866009443998337, 0.09100282937288284, 0.13039211928844452, 0.9889336824417114, 0.5054417848587036, 0.22988958656787872, 0.1306740790605545, 0.40170180797576904, 0.1161547377705574, 0.12099452316761017, 0.04703831672668457, 0.9474861025810242, 0.6495401859283447, 0.3352465331554413, 0.4999479055404663, 0.33217209577560425, 0.2654366195201874, 0.21576133370399475, 0.091824010014534, 0.09433285892009735, 0.3916463851928711, 0.0581350103020668, 0.41612428426742554, 0.13462844491004944, 0.38212719559669495, 0.17129839956760406, 0.3030664026737213, 0.07247240096330643, 0.07247240096330643, 0.9959864616394043, 0.36236196756362915, 0.42630818486213684, 0.19183868169784546, 0.0015761926770210266, 0.5232959985733032, 0.33572906255722046, 0.10402871668338776, 0.034676238894462585, 0.2598128020763397, 0.5332999229431152, 0.20511536300182343, 0.026446055620908737, 0.24579274654388428, 0.5802575349807739, 0.10733987390995026, 0.04200255870819092, 0.9977197051048279, 0.09503577649593353, 0.24709300696849823, 0.6462432742118835, 0.8408909440040588, 0.02061007171869278, 0.08244028687477112, 0.045342158526182175, 0.012366042472422123, 0.8443701863288879, 0.13816966116428375, 0.015352185815572739, 0.9369543790817261, 0.04570509120821953, 0.37424686551094055, 0.37424686551094055, 0.2619728147983551, 0.7159852385520935, 0.15910783410072327, 0.11933087557554245, 0.34894517064094543, 0.27548304200172424, 0.09182767570018768, 0.27548304200172424, 0.33720651268959045, 0.29580265283584595, 0.18567699193954468, 0.07469764351844788, 0.10671091824769974, 0.37821242213249207, 0.045385491102933884, 0.2723129391670227, 0.16641347110271454, 0.13615646958351135, 0.21444343030452728, 0.3216651678085327, 0.08577737212181091, 0.02144434303045273, 0.34310948848724365, 0.9977189302444458, 0.8533114194869995, 0.01153123565018177, 0.12684358656406403, 0.2532804310321808, 0.10669004917144775, 0.3911968469619751, 0.15786656737327576, 0.09107686579227448, 0.33720582723617554, 0.2953752279281616, 0.18567663431167603, 0.07469749450683594, 0.10671070963144302, 0.8198521733283997, 0.8465983867645264, 0.9893693327903748, 0.2915743887424469, 0.5559681057929993, 0.007412908133119345, 0.11366459727287292, 0.03212260082364082, 0.9806345701217651, 0.11286543309688568, 0.9029234647750854, 0.632845401763916, 0.36162593960762024, 0.31641826033592224, 0.42356517910957336, 0.14565284550189972, 0.09877607226371765, 0.015067536383867264, 0.24188926815986633, 0.337569922208786, 0.23973914980888367, 0.08331741392612457, 0.09729324281215668, 0.9502980709075928, 0.9740555286407471, 0.16817712783813477, 0.6727085113525391, 0.2789973318576813, 0.33130931854248047, 0.2572006583213806, 0.12206132709980011, 0.013077999465167522, 0.0035643719602376223, 0.6106957197189331, 0.3017834722995758, 0.024950603023171425, 0.05940619856119156, 0.299373596906662, 0.299373596906662, 0.3991647958755493, 0.9959877133369446, 0.7239163517951965, 0.26670601963996887, 0.3372061848640442, 0.2953755557537079, 0.18567682802677155, 0.0746975764632225, 0.10671082139015198, 0.31548047065734863, 0.17894187569618225, 0.33922630548477173, 0.09498336911201477, 0.07123752683401108, 0.6091557145118713, 0.006922224070876837, 0.06691483408212662, 0.10844817757606506, 0.20997412502765656, 0.4564668834209442, 0.4564668834209442, 0.28078895807266235, 0.5615779161453247, 0.12033811956644058, 0.040112707763910294, 0.06746343523263931, 0.774580180644989, 0.02498645707964897, 0.05996749922633171, 0.07246072590351105, 0.5415229201316833, 0.3094416558742523, 0.07736041396856308, 0.9889339804649353, 0.440514475107193, 0.0054384502582252026, 0.41332221031188965, 0.07069984823465347, 0.07069984823465347, 0.4105808436870575, 0.20255321264266968, 0.19647052884101868, 0.088807113468647, 0.10158073902130127, 0.17834261059761047, 0.17834261059761047, 0.5350278615951538, 0.05095503106713295, 0.1019100621342659, 0.5606621503829956, 0.4485297203063965, 0.16925442218780518, 0.6249393820762634, 0.006509785074740648, 0.08788210153579712, 0.1074114590883255], \"Term\": [\"ammonia\", \"ammonia\", \"ammonia\", \"ammonia\", \"anxious\", \"anxious\", \"anxious\", \"anxious\", \"anxious\", \"appetite\", \"apple\", \"apple\", \"apricot\", \"apricot\", \"aroused\", \"aroused\", \"aroused\", \"aroused\", \"aroused\", \"berry\", \"berry\", \"berry\", \"berry\", \"berry\", \"blue\", \"blue\", \"blue\", \"blueberry\", \"blueberry\", \"blueberry\", \"blueberry\", \"butter\", \"cheese\", \"cheese\", \"cheese\", \"cheese\", \"chemical\", \"chemical\", \"chemical\", \"chemical\", \"chestnut\", \"citrus\", \"citrus\", \"citrus\", \"citrus\", \"citrus\", \"coffee\", \"coffee\", \"cramps\", \"cramps\", \"cramps\", \"cramps\", \"creative\", \"creative\", \"creative\", \"creative\", \"creative\", \"depression\", \"depression\", \"depression\", \"depression\", \"depression\", \"diesel\", \"diesel\", \"diesel\", \"diesel\", \"diesel\", \"dizzy\", \"dizzy\", \"dizzy\", \"dizzy\", \"dizzy\", \"dry\", \"dry\", \"dry\", \"dry\", \"dry\", \"earthy\", \"earthy\", \"earthy\", \"earthy\", \"earthy\", \"energetic\", \"energetic\", \"energetic\", \"energetic\", \"energetic\", \"euphoric\", \"euphoric\", \"euphoric\", \"euphoric\", \"euphoric\", \"eye\", \"eye\", \"eyes\", \"eyes\", \"eyes\", \"eyes\", \"eyes\", \"fatigue\", \"fatigue\", \"fatigue\", \"fatigue\", \"fatigue\", \"flowery\", \"flowery\", \"flowery\", \"flowery\", \"flowery\", \"focused\", \"focused\", \"focused\", \"focused\", \"focused\", \"fruit\", \"fruity\", \"giggly\", \"giggly\", \"giggly\", \"giggly\", \"giggly\", \"grape\", \"grape\", \"grapefruit\", \"grapefruit\", \"grapes\", \"happy\", \"happy\", \"happy\", \"happy\", \"happy\", \"headache\", \"headache\", \"headache\", \"headache\", \"headaches\", \"headaches\", \"headaches\", \"headaches\", \"headaches\", \"herbal\", \"honey\", \"honey\", \"honey\", \"hungry\", \"hungry\", \"hungry\", \"hungry\", \"hungry\", \"inflammation\", \"inflammation\", \"inflammation\", \"insomnia\", \"insomnia\", \"insomnia\", \"insomnia\", \"insomnia\", \"lack\", \"lavender\", \"lavender\", \"lavender\", \"lemon\", \"lemon\", \"lemon\", \"lemon\", \"lemon\", \"lime\", \"lime\", \"lime\", \"mango\", \"mango\", \"menthol\", \"menthol\", \"menthol\", \"mint\", \"mint\", \"mint\", \"minty\", \"minty\", \"minty\", \"minty\", \"mouth\", \"mouth\", \"mouth\", \"mouth\", \"mouth\", \"nausea\", \"nausea\", \"nausea\", \"nausea\", \"nausea\", \"nutty\", \"nutty\", \"nutty\", \"nutty\", \"nutty\", \"of\", \"orange\", \"orange\", \"orange\", \"pain\", \"pain\", \"pain\", \"pain\", \"pain\", \"paranoid\", \"paranoid\", \"paranoid\", \"paranoid\", \"paranoid\", \"peach\", \"pear\", \"pepper\", \"pine\", \"pine\", \"pine\", \"pine\", \"pine\", \"pineapple\", \"plum\", \"plum\", \"pressure\", \"pressure\", \"pungent\", \"pungent\", \"pungent\", \"pungent\", \"pungent\", \"relaxed\", \"relaxed\", \"relaxed\", \"relaxed\", \"relaxed\", \"rose\", \"sage\", \"seizures\", \"seizures\", \"skunk\", \"skunk\", \"skunk\", \"skunk\", \"skunk\", \"sleepy\", \"sleepy\", \"sleepy\", \"sleepy\", \"sleepy\", \"spasticity\", \"spasticity\", \"spasticity\", \"spicy\", \"strawberry\", \"strawberry\", \"stress\", \"stress\", \"stress\", \"stress\", \"stress\", \"sweet\", \"sweet\", \"sweet\", \"sweet\", \"sweet\", \"talkative\", \"talkative\", \"talkative\", \"talkative\", \"talkative\", \"tar\", \"tar\", \"tea\", \"tea\", \"tea\", \"tea\", \"tingly\", \"tingly\", \"tingly\", \"tingly\", \"tingly\", \"tobacco\", \"tobacco\", \"tobacco\", \"tree\", \"tropical\", \"tropical\", \"tropical\", \"tropical\", \"tropical\", \"uplifted\", \"uplifted\", \"uplifted\", \"uplifted\", \"uplifted\", \"vanilla\", \"vanilla\", \"vanilla\", \"vanilla\", \"vanilla\", \"violet\", \"violet\", \"woody\", \"woody\", \"woody\", \"woody\", \"woody\"]}, \"R\": 30, \"lambda.step\": 0.01, \"plot.opts\": {\"xlab\": \"PC1\", \"ylab\": \"PC2\"}, \"topic.order\": [5, 3, 1, 4, 2]};\n",
       "\n",
       "function LDAvis_load_lib(url, callback){\n",
       "  var s = document.createElement('script');\n",
       "  s.src = url;\n",
       "  s.async = true;\n",
       "  s.onreadystatechange = s.onload = callback;\n",
       "  s.onerror = function(){console.warn(\"failed to load library \" + url);};\n",
       "  document.getElementsByTagName(\"head\")[0].appendChild(s);\n",
       "}\n",
       "\n",
       "if(typeof(LDAvis) !== \"undefined\"){\n",
       "   // already loaded: just create the visualization\n",
       "   !function(LDAvis){\n",
       "       new LDAvis(\"#\" + \"ldavis_el126823429531514329172547096\", ldavis_el126823429531514329172547096_data);\n",
       "   }(LDAvis);\n",
       "}else if(typeof define === \"function\" && define.amd){\n",
       "   // require.js is available: use it to load d3/LDAvis\n",
       "   require.config({paths: {d3: \"https://cdnjs.cloudflare.com/ajax/libs/d3/3.5.5/d3.min\"}});\n",
       "   require([\"d3\"], function(d3){\n",
       "      window.d3 = d3;\n",
       "      LDAvis_load_lib(\"https://cdn.rawgit.com/bmabey/pyLDAvis/files/ldavis.v1.0.0.js\", function(){\n",
       "        new LDAvis(\"#\" + \"ldavis_el126823429531514329172547096\", ldavis_el126823429531514329172547096_data);\n",
       "      });\n",
       "    });\n",
       "}else{\n",
       "    // require.js not available: dynamically load d3 & LDAvis\n",
       "    LDAvis_load_lib(\"https://cdnjs.cloudflare.com/ajax/libs/d3/3.5.5/d3.min.js\", function(){\n",
       "         LDAvis_load_lib(\"https://cdn.rawgit.com/bmabey/pyLDAvis/files/ldavis.v1.0.0.js\", function(){\n",
       "                 new LDAvis(\"#\" + \"ldavis_el126823429531514329172547096\", ldavis_el126823429531514329172547096_data);\n",
       "            })\n",
       "         });\n",
       "}\n",
       "</script>"
      ],
      "text/plain": [
       "PreparedData(topic_coordinates=              x         y  topics  cluster       Freq\n",
       "topic                                                \n",
       "4      0.009170 -0.022902       1        1  31.601042\n",
       "2      0.033699  0.049807       2        1  25.630939\n",
       "0      0.014464  0.053251       3        1  20.741297\n",
       "3     -0.125992 -0.016773       4        1  11.046263\n",
       "1      0.068659 -0.063384       5        1  10.980463, topic_info=   Category        Freq       Term        Total  loglift  logprob\n",
       "56  Default  444.000000       lack   444.000000  30.0000  30.0000\n",
       "55  Default  444.000000   appetite   444.000000  29.0000  29.0000\n",
       "58  Default  444.000000         of   444.000000  28.0000  28.0000\n",
       "19  Default  265.000000      spicy   265.000000  27.0000  27.0000\n",
       "17  Default  265.000000     herbal   265.000000  26.0000  26.0000\n",
       "..      ...         ...        ...          ...      ...      ...\n",
       "6    Topic5  114.507591     earthy  1317.355469  -0.2337  -3.7389\n",
       "54   Topic5  104.948013       pain  1152.872314  -0.1875  -3.8261\n",
       "7    Topic5   76.206238  energetic   787.466309  -0.1263  -4.1461\n",
       "14   Topic5   84.159119      sweet  1179.153809  -0.4308  -4.0468\n",
       "28   Topic5   49.899246     sleepy   841.663025  -0.6163  -4.5695\n",
       "\n",
       "[250 rows x 6 columns], token_table=      Topic      Freq     Term\n",
       "term                          \n",
       "37        1  0.048466  ammonia\n",
       "37        2  0.024233  ammonia\n",
       "37        3  0.024233  ammonia\n",
       "37        5  0.920846  ammonia\n",
       "0         1  0.337206  anxious\n",
       "...     ...       ...      ...\n",
       "21        1  0.169254    woody\n",
       "21        2  0.624939    woody\n",
       "21        3  0.006510    woody\n",
       "21        4  0.087882    woody\n",
       "21        5  0.107411    woody\n",
       "\n",
       "[305 rows x 3 columns], R=30, lambda_step=0.01, plot_opts={'xlab': 'PC1', 'ylab': 'PC2'}, topic_order=[5, 3, 1, 4, 2])"
      ]
     },
     "execution_count": 236,
     "metadata": {},
     "output_type": "execute_result"
    }
   ],
   "source": [
    "import gensim\n",
    "import pyLDAvis.gensim\n",
    "\n",
    "pyLDAvis.enable_notebook()\n",
    "\n",
    "pyLDAvis.gensim.prepare(lda, corpus, id2word)"
   ]
  },
  {
   "cell_type": "code",
   "execution_count": null,
   "metadata": {},
   "outputs": [],
   "source": []
  },
  {
   "cell_type": "code",
   "execution_count": 99,
   "metadata": {},
   "outputs": [
    {
     "data": {
      "text/plain": [
       "\"['Earthy', 'Chemical', 'Pine', 'Spicy/Herbal'],['Relaxed', 'Hungry', 'Happy', 'Sleepy', 'Creative', 'Focused'],['Dizzy'],['Depression', 'Insomnia', 'Pain', 'Stress', 'Lack of Appetite']\""
      ]
     },
     "execution_count": 99,
     "metadata": {},
     "output_type": "execute_result"
    }
   ],
   "source": [
    "data['everything'][0]"
   ]
  },
  {
   "cell_type": "code",
   "execution_count": 102,
   "metadata": {},
   "outputs": [
    {
     "ename": "ValueError",
     "evalue": "not enough values to unpack (expected 4, got 1)",
     "output_type": "error",
     "traceback": [
      "\u001b[1;31m---------------------------------------------------------------------------\u001b[0m",
      "\u001b[1;31mValueError\u001b[0m                                Traceback (most recent call last)",
      "\u001b[1;32m<ipython-input-102-2c305220d783>\u001b[0m in \u001b[0;36m<module>\u001b[1;34m\u001b[0m\n\u001b[0;32m      1\u001b[0m \u001b[1;32mfor\u001b[0m \u001b[0mrow\u001b[0m \u001b[1;32min\u001b[0m \u001b[0mdata\u001b[0m\u001b[1;33m[\u001b[0m\u001b[1;34m'everything'\u001b[0m\u001b[1;33m]\u001b[0m\u001b[1;33m:\u001b[0m\u001b[1;33m\u001b[0m\u001b[1;33m\u001b[0m\u001b[0m\n\u001b[0;32m      2\u001b[0m     \u001b[0mrow\u001b[0m \u001b[1;33m=\u001b[0m \u001b[0mtuple\u001b[0m\u001b[1;33m(\u001b[0m\u001b[0mrow\u001b[0m\u001b[1;33m)\u001b[0m\u001b[1;33m\u001b[0m\u001b[1;33m\u001b[0m\u001b[0m\n\u001b[1;32m----> 3\u001b[1;33m     \u001b[1;32mfor\u001b[0m \u001b[0ml1\u001b[0m\u001b[1;33m,\u001b[0m \u001b[0ml2\u001b[0m\u001b[1;33m,\u001b[0m \u001b[0ml3\u001b[0m\u001b[1;33m,\u001b[0m \u001b[0ml4\u001b[0m \u001b[1;32min\u001b[0m \u001b[0mrow\u001b[0m\u001b[1;33m:\u001b[0m\u001b[1;33m\u001b[0m\u001b[1;33m\u001b[0m\u001b[0m\n\u001b[0m\u001b[0;32m      4\u001b[0m         \u001b[0maltogether\u001b[0m\u001b[1;33m=\u001b[0m \u001b[1;33m[\u001b[0m\u001b[1;33m*\u001b[0m\u001b[0ml1\u001b[0m\u001b[1;33m,\u001b[0m \u001b[1;33m*\u001b[0m\u001b[0ml2\u001b[0m\u001b[1;33m,\u001b[0m \u001b[1;33m*\u001b[0m\u001b[0ml3\u001b[0m\u001b[1;33m,\u001b[0m \u001b[1;33m*\u001b[0m\u001b[0ml4\u001b[0m\u001b[1;33m]\u001b[0m\u001b[1;33m\u001b[0m\u001b[1;33m\u001b[0m\u001b[0m\n\u001b[0;32m      5\u001b[0m         \u001b[0mrow\u001b[0m \u001b[1;33m=\u001b[0m \u001b[0maltogether\u001b[0m\u001b[1;33m\u001b[0m\u001b[1;33m\u001b[0m\u001b[0m\n",
      "\u001b[1;31mValueError\u001b[0m: not enough values to unpack (expected 4, got 1)"
     ]
    }
   ],
   "source": [
    "for row in data['everything']:\n",
    "    #row = tuple(row)\n",
    "    for l1, l2, l3, l4 in row:\n",
    "        altogether= [*l1, *l2, *l3, *l4]\n",
    "        row = altogether"
   ]
  },
  {
   "cell_type": "code",
   "execution_count": 109,
   "metadata": {},
   "outputs": [
    {
     "ename": "ValueError",
     "evalue": "setting an array element with a sequence.",
     "output_type": "error",
     "traceback": [
      "\u001b[1;31m---------------------------------------------------------------------------\u001b[0m",
      "\u001b[1;31mValueError\u001b[0m                                Traceback (most recent call last)",
      "\u001b[1;32m<ipython-input-109-a886003562f0>\u001b[0m in \u001b[0;36m<module>\u001b[1;34m\u001b[0m\n\u001b[0;32m      4\u001b[0m \u001b[1;32mfrom\u001b[0m \u001b[0msklearn\u001b[0m\u001b[1;33m.\u001b[0m\u001b[0mcluster\u001b[0m \u001b[1;32mimport\u001b[0m \u001b[0mKMeans\u001b[0m\u001b[1;33m\u001b[0m\u001b[1;33m\u001b[0m\u001b[0m\n\u001b[0;32m      5\u001b[0m \u001b[1;33m\u001b[0m\u001b[0m\n\u001b[1;32m----> 6\u001b[1;33m \u001b[0mkmeans\u001b[0m \u001b[1;33m=\u001b[0m \u001b[0mKMeans\u001b[0m\u001b[1;33m(\u001b[0m\u001b[0mn_clusters\u001b[0m\u001b[1;33m=\u001b[0m\u001b[1;36m3\u001b[0m\u001b[1;33m)\u001b[0m\u001b[1;33m.\u001b[0m\u001b[0mfit\u001b[0m\u001b[1;33m(\u001b[0m\u001b[0mdata\u001b[0m\u001b[1;33m[\u001b[0m\u001b[1;34m'tokens'\u001b[0m\u001b[1;33m]\u001b[0m\u001b[1;33m)\u001b[0m\u001b[1;33m\u001b[0m\u001b[1;33m\u001b[0m\u001b[0m\n\u001b[0m\u001b[0;32m      7\u001b[0m \u001b[0mcentroids\u001b[0m \u001b[1;33m=\u001b[0m \u001b[0mkmeans\u001b[0m\u001b[1;33m.\u001b[0m\u001b[0mcluster_centers_\u001b[0m\u001b[1;33m\u001b[0m\u001b[1;33m\u001b[0m\u001b[0m\n\u001b[0;32m      8\u001b[0m \u001b[0mprint\u001b[0m\u001b[1;33m(\u001b[0m\u001b[0mcentroids\u001b[0m\u001b[1;33m)\u001b[0m\u001b[1;33m\u001b[0m\u001b[1;33m\u001b[0m\u001b[0m\n",
      "\u001b[1;32mC:\\ProgramData\\Anaconda3\\lib\\site-packages\\sklearn\\cluster\\k_means_.py\u001b[0m in \u001b[0;36mfit\u001b[1;34m(self, X, y, sample_weight)\u001b[0m\n\u001b[0;32m    970\u001b[0m                 \u001b[0mtol\u001b[0m\u001b[1;33m=\u001b[0m\u001b[0mself\u001b[0m\u001b[1;33m.\u001b[0m\u001b[0mtol\u001b[0m\u001b[1;33m,\u001b[0m \u001b[0mrandom_state\u001b[0m\u001b[1;33m=\u001b[0m\u001b[0mrandom_state\u001b[0m\u001b[1;33m,\u001b[0m \u001b[0mcopy_x\u001b[0m\u001b[1;33m=\u001b[0m\u001b[0mself\u001b[0m\u001b[1;33m.\u001b[0m\u001b[0mcopy_x\u001b[0m\u001b[1;33m,\u001b[0m\u001b[1;33m\u001b[0m\u001b[1;33m\u001b[0m\u001b[0m\n\u001b[0;32m    971\u001b[0m                 \u001b[0mn_jobs\u001b[0m\u001b[1;33m=\u001b[0m\u001b[0mself\u001b[0m\u001b[1;33m.\u001b[0m\u001b[0mn_jobs\u001b[0m\u001b[1;33m,\u001b[0m \u001b[0malgorithm\u001b[0m\u001b[1;33m=\u001b[0m\u001b[0mself\u001b[0m\u001b[1;33m.\u001b[0m\u001b[0malgorithm\u001b[0m\u001b[1;33m,\u001b[0m\u001b[1;33m\u001b[0m\u001b[1;33m\u001b[0m\u001b[0m\n\u001b[1;32m--> 972\u001b[1;33m                 return_n_iter=True)\n\u001b[0m\u001b[0;32m    973\u001b[0m         \u001b[1;32mreturn\u001b[0m \u001b[0mself\u001b[0m\u001b[1;33m\u001b[0m\u001b[1;33m\u001b[0m\u001b[0m\n\u001b[0;32m    974\u001b[0m \u001b[1;33m\u001b[0m\u001b[0m\n",
      "\u001b[1;32mC:\\ProgramData\\Anaconda3\\lib\\site-packages\\sklearn\\cluster\\k_means_.py\u001b[0m in \u001b[0;36mk_means\u001b[1;34m(X, n_clusters, sample_weight, init, precompute_distances, n_init, max_iter, verbose, tol, random_state, copy_x, n_jobs, algorithm, return_n_iter)\u001b[0m\n\u001b[0;32m    310\u001b[0m     \u001b[0morder\u001b[0m \u001b[1;33m=\u001b[0m \u001b[1;34m\"C\"\u001b[0m \u001b[1;32mif\u001b[0m \u001b[0mcopy_x\u001b[0m \u001b[1;32melse\u001b[0m \u001b[1;32mNone\u001b[0m\u001b[1;33m\u001b[0m\u001b[1;33m\u001b[0m\u001b[0m\n\u001b[0;32m    311\u001b[0m     X = check_array(X, accept_sparse='csr', dtype=[np.float64, np.float32],\n\u001b[1;32m--> 312\u001b[1;33m                     order=order, copy=copy_x)\n\u001b[0m\u001b[0;32m    313\u001b[0m     \u001b[1;31m# verify that the number of samples given is larger than k\u001b[0m\u001b[1;33m\u001b[0m\u001b[1;33m\u001b[0m\u001b[1;33m\u001b[0m\u001b[0m\n\u001b[0;32m    314\u001b[0m     \u001b[1;32mif\u001b[0m \u001b[0m_num_samples\u001b[0m\u001b[1;33m(\u001b[0m\u001b[0mX\u001b[0m\u001b[1;33m)\u001b[0m \u001b[1;33m<\u001b[0m \u001b[0mn_clusters\u001b[0m\u001b[1;33m:\u001b[0m\u001b[1;33m\u001b[0m\u001b[1;33m\u001b[0m\u001b[0m\n",
      "\u001b[1;32mC:\\ProgramData\\Anaconda3\\lib\\site-packages\\sklearn\\utils\\validation.py\u001b[0m in \u001b[0;36mcheck_array\u001b[1;34m(array, accept_sparse, accept_large_sparse, dtype, order, copy, force_all_finite, ensure_2d, allow_nd, ensure_min_samples, ensure_min_features, warn_on_dtype, estimator)\u001b[0m\n\u001b[0;32m    494\u001b[0m             \u001b[1;32mtry\u001b[0m\u001b[1;33m:\u001b[0m\u001b[1;33m\u001b[0m\u001b[1;33m\u001b[0m\u001b[0m\n\u001b[0;32m    495\u001b[0m                 \u001b[0mwarnings\u001b[0m\u001b[1;33m.\u001b[0m\u001b[0msimplefilter\u001b[0m\u001b[1;33m(\u001b[0m\u001b[1;34m'error'\u001b[0m\u001b[1;33m,\u001b[0m \u001b[0mComplexWarning\u001b[0m\u001b[1;33m)\u001b[0m\u001b[1;33m\u001b[0m\u001b[1;33m\u001b[0m\u001b[0m\n\u001b[1;32m--> 496\u001b[1;33m                 \u001b[0marray\u001b[0m \u001b[1;33m=\u001b[0m \u001b[0mnp\u001b[0m\u001b[1;33m.\u001b[0m\u001b[0masarray\u001b[0m\u001b[1;33m(\u001b[0m\u001b[0marray\u001b[0m\u001b[1;33m,\u001b[0m \u001b[0mdtype\u001b[0m\u001b[1;33m=\u001b[0m\u001b[0mdtype\u001b[0m\u001b[1;33m,\u001b[0m \u001b[0morder\u001b[0m\u001b[1;33m=\u001b[0m\u001b[0morder\u001b[0m\u001b[1;33m)\u001b[0m\u001b[1;33m\u001b[0m\u001b[1;33m\u001b[0m\u001b[0m\n\u001b[0m\u001b[0;32m    497\u001b[0m             \u001b[1;32mexcept\u001b[0m \u001b[0mComplexWarning\u001b[0m\u001b[1;33m:\u001b[0m\u001b[1;33m\u001b[0m\u001b[1;33m\u001b[0m\u001b[0m\n\u001b[0;32m    498\u001b[0m                 raise ValueError(\"Complex data not supported\\n\"\n",
      "\u001b[1;32mC:\\ProgramData\\Anaconda3\\lib\\site-packages\\numpy\\core\\numeric.py\u001b[0m in \u001b[0;36masarray\u001b[1;34m(a, dtype, order)\u001b[0m\n\u001b[0;32m    536\u001b[0m \u001b[1;33m\u001b[0m\u001b[0m\n\u001b[0;32m    537\u001b[0m     \"\"\"\n\u001b[1;32m--> 538\u001b[1;33m     \u001b[1;32mreturn\u001b[0m \u001b[0marray\u001b[0m\u001b[1;33m(\u001b[0m\u001b[0ma\u001b[0m\u001b[1;33m,\u001b[0m \u001b[0mdtype\u001b[0m\u001b[1;33m,\u001b[0m \u001b[0mcopy\u001b[0m\u001b[1;33m=\u001b[0m\u001b[1;32mFalse\u001b[0m\u001b[1;33m,\u001b[0m \u001b[0morder\u001b[0m\u001b[1;33m=\u001b[0m\u001b[0morder\u001b[0m\u001b[1;33m)\u001b[0m\u001b[1;33m\u001b[0m\u001b[1;33m\u001b[0m\u001b[0m\n\u001b[0m\u001b[0;32m    539\u001b[0m \u001b[1;33m\u001b[0m\u001b[0m\n\u001b[0;32m    540\u001b[0m \u001b[1;33m\u001b[0m\u001b[0m\n",
      "\u001b[1;32mC:\\ProgramData\\Anaconda3\\lib\\site-packages\\pandas\\core\\series.py\u001b[0m in \u001b[0;36m__array__\u001b[1;34m(self, dtype)\u001b[0m\n\u001b[0;32m    946\u001b[0m             \u001b[0mwarnings\u001b[0m\u001b[1;33m.\u001b[0m\u001b[0mwarn\u001b[0m\u001b[1;33m(\u001b[0m\u001b[0mmsg\u001b[0m\u001b[1;33m,\u001b[0m \u001b[0mFutureWarning\u001b[0m\u001b[1;33m,\u001b[0m \u001b[0mstacklevel\u001b[0m\u001b[1;33m=\u001b[0m\u001b[1;36m3\u001b[0m\u001b[1;33m)\u001b[0m\u001b[1;33m\u001b[0m\u001b[1;33m\u001b[0m\u001b[0m\n\u001b[0;32m    947\u001b[0m             \u001b[0mdtype\u001b[0m \u001b[1;33m=\u001b[0m \u001b[1;34m\"M8[ns]\"\u001b[0m\u001b[1;33m\u001b[0m\u001b[1;33m\u001b[0m\u001b[0m\n\u001b[1;32m--> 948\u001b[1;33m         \u001b[1;32mreturn\u001b[0m \u001b[0mnp\u001b[0m\u001b[1;33m.\u001b[0m\u001b[0masarray\u001b[0m\u001b[1;33m(\u001b[0m\u001b[0mself\u001b[0m\u001b[1;33m.\u001b[0m\u001b[0marray\u001b[0m\u001b[1;33m,\u001b[0m \u001b[0mdtype\u001b[0m\u001b[1;33m)\u001b[0m\u001b[1;33m\u001b[0m\u001b[1;33m\u001b[0m\u001b[0m\n\u001b[0m\u001b[0;32m    949\u001b[0m \u001b[1;33m\u001b[0m\u001b[0m\n\u001b[0;32m    950\u001b[0m     \u001b[1;31m# ----------------------------------------------------------------------\u001b[0m\u001b[1;33m\u001b[0m\u001b[1;33m\u001b[0m\u001b[1;33m\u001b[0m\u001b[0m\n",
      "\u001b[1;32mC:\\ProgramData\\Anaconda3\\lib\\site-packages\\numpy\\core\\numeric.py\u001b[0m in \u001b[0;36masarray\u001b[1;34m(a, dtype, order)\u001b[0m\n\u001b[0;32m    536\u001b[0m \u001b[1;33m\u001b[0m\u001b[0m\n\u001b[0;32m    537\u001b[0m     \"\"\"\n\u001b[1;32m--> 538\u001b[1;33m     \u001b[1;32mreturn\u001b[0m \u001b[0marray\u001b[0m\u001b[1;33m(\u001b[0m\u001b[0ma\u001b[0m\u001b[1;33m,\u001b[0m \u001b[0mdtype\u001b[0m\u001b[1;33m,\u001b[0m \u001b[0mcopy\u001b[0m\u001b[1;33m=\u001b[0m\u001b[1;32mFalse\u001b[0m\u001b[1;33m,\u001b[0m \u001b[0morder\u001b[0m\u001b[1;33m=\u001b[0m\u001b[0morder\u001b[0m\u001b[1;33m)\u001b[0m\u001b[1;33m\u001b[0m\u001b[1;33m\u001b[0m\u001b[0m\n\u001b[0m\u001b[0;32m    539\u001b[0m \u001b[1;33m\u001b[0m\u001b[0m\n\u001b[0;32m    540\u001b[0m \u001b[1;33m\u001b[0m\u001b[0m\n",
      "\u001b[1;32mC:\\ProgramData\\Anaconda3\\lib\\site-packages\\pandas\\core\\arrays\\numpy_.py\u001b[0m in \u001b[0;36m__array__\u001b[1;34m(self, dtype)\u001b[0m\n\u001b[0;32m    164\u001b[0m \u001b[1;33m\u001b[0m\u001b[0m\n\u001b[0;32m    165\u001b[0m     \u001b[1;32mdef\u001b[0m \u001b[0m__array__\u001b[0m\u001b[1;33m(\u001b[0m\u001b[0mself\u001b[0m\u001b[1;33m,\u001b[0m \u001b[0mdtype\u001b[0m\u001b[1;33m=\u001b[0m\u001b[1;32mNone\u001b[0m\u001b[1;33m)\u001b[0m\u001b[1;33m:\u001b[0m\u001b[1;33m\u001b[0m\u001b[1;33m\u001b[0m\u001b[0m\n\u001b[1;32m--> 166\u001b[1;33m         \u001b[1;32mreturn\u001b[0m \u001b[0mnp\u001b[0m\u001b[1;33m.\u001b[0m\u001b[0masarray\u001b[0m\u001b[1;33m(\u001b[0m\u001b[0mself\u001b[0m\u001b[1;33m.\u001b[0m\u001b[0m_ndarray\u001b[0m\u001b[1;33m,\u001b[0m \u001b[0mdtype\u001b[0m\u001b[1;33m=\u001b[0m\u001b[0mdtype\u001b[0m\u001b[1;33m)\u001b[0m\u001b[1;33m\u001b[0m\u001b[1;33m\u001b[0m\u001b[0m\n\u001b[0m\u001b[0;32m    167\u001b[0m \u001b[1;33m\u001b[0m\u001b[0m\n\u001b[0;32m    168\u001b[0m     \u001b[0m_HANDLED_TYPES\u001b[0m \u001b[1;33m=\u001b[0m \u001b[1;33m(\u001b[0m\u001b[0mnp\u001b[0m\u001b[1;33m.\u001b[0m\u001b[0mndarray\u001b[0m\u001b[1;33m,\u001b[0m \u001b[0mnumbers\u001b[0m\u001b[1;33m.\u001b[0m\u001b[0mNumber\u001b[0m\u001b[1;33m)\u001b[0m\u001b[1;33m\u001b[0m\u001b[1;33m\u001b[0m\u001b[0m\n",
      "\u001b[1;32mC:\\ProgramData\\Anaconda3\\lib\\site-packages\\numpy\\core\\numeric.py\u001b[0m in \u001b[0;36masarray\u001b[1;34m(a, dtype, order)\u001b[0m\n\u001b[0;32m    536\u001b[0m \u001b[1;33m\u001b[0m\u001b[0m\n\u001b[0;32m    537\u001b[0m     \"\"\"\n\u001b[1;32m--> 538\u001b[1;33m     \u001b[1;32mreturn\u001b[0m \u001b[0marray\u001b[0m\u001b[1;33m(\u001b[0m\u001b[0ma\u001b[0m\u001b[1;33m,\u001b[0m \u001b[0mdtype\u001b[0m\u001b[1;33m,\u001b[0m \u001b[0mcopy\u001b[0m\u001b[1;33m=\u001b[0m\u001b[1;32mFalse\u001b[0m\u001b[1;33m,\u001b[0m \u001b[0morder\u001b[0m\u001b[1;33m=\u001b[0m\u001b[0morder\u001b[0m\u001b[1;33m)\u001b[0m\u001b[1;33m\u001b[0m\u001b[1;33m\u001b[0m\u001b[0m\n\u001b[0m\u001b[0;32m    539\u001b[0m \u001b[1;33m\u001b[0m\u001b[0m\n\u001b[0;32m    540\u001b[0m \u001b[1;33m\u001b[0m\u001b[0m\n",
      "\u001b[1;31mValueError\u001b[0m: setting an array element with a sequence."
     ]
    }
   ],
   "source": [
    "#clustering \n",
    "\n",
    "import matplotlib.pyplot as plt\n",
    "from sklearn.cluster import KMeans\n",
    "\n",
    "kmeans = KMeans(n_clusters=3).fit(data['tokens'])\n",
    "centroids = kmeans.cluster_centers_\n",
    "print(centroids)\n",
    "\n",
    "#plt.scatter(df['x'], df['y'], c= kmeans.labels_.astype(float), s=50, alpha=0.5)\n",
    "#plt.scatter(centroids[:, 0], centroids[:, 1], c='red', s=50)"
   ]
  },
  {
   "cell_type": "code",
   "execution_count": null,
   "metadata": {},
   "outputs": [],
   "source": [
    "###########################"
   ]
  }
 ],
 "metadata": {
  "kernelspec": {
   "display_name": "Python 3",
   "language": "python",
   "name": "python3"
  },
  "language_info": {
   "codemirror_mode": {
    "name": "ipython",
    "version": 3
   },
   "file_extension": ".py",
   "mimetype": "text/x-python",
   "name": "python",
   "nbconvert_exporter": "python",
   "pygments_lexer": "ipython3",
   "version": "3.7.4"
  }
 },
 "nbformat": 4,
 "nbformat_minor": 4
}
